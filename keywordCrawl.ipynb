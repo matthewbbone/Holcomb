{
 "metadata": {
  "language_info": {
   "codemirror_mode": {
    "name": "ipython",
    "version": 3
   },
   "file_extension": ".py",
   "mimetype": "text/x-python",
   "name": "python",
   "nbconvert_exporter": "python",
   "pygments_lexer": "ipython3",
   "version": "3.7.9-final"
  },
  "orig_nbformat": 2,
  "kernelspec": {
   "name": "python3",
   "display_name": "Python 3.7.9 64-bit ('holcombEnv': conda)",
   "metadata": {
    "interpreter": {
     "hash": "044a0165a1a561273ca818f13158b4edea630051cf64f3770cf4dedc4e818f34"
    }
   }
  }
 },
 "nbformat": 4,
 "nbformat_minor": 2,
 "cells": [
  {
   "cell_type": "code",
   "execution_count": 2,
   "metadata": {},
   "outputs": [],
   "source": [
    "import requests\n",
    "from bs4 import BeautifulSoup, element\n",
    "import numpy as np \n",
    "import pandas as pd \n",
    "import re"
   ]
  },
  {
   "cell_type": "code",
   "execution_count": 41,
   "metadata": {},
   "outputs": [
    {
     "output_type": "display_data",
     "data": {
      "text/plain": "                                              keywords  \\\n0    Donald Trump, sexism, voting, 2016 election, A...   \n1    political incivility, simplistic argumentation...   \n2    affective polarization, intergroup contact, in...   \n3    issue ownership, political parties, position, ...   \n4    citizens’ political talk, deliberative democra...   \n..                                                 ...   \n251  Mobile news, social media news, news effects, ...   \n252  Journalism, social media, WhatsApp, content an...   \n253  Mobile technology, mobilities, mobile journali...   \n254  Mobile, smartphone, news, production, consumpt...   \n255  Mobile news, mobile journalism, mobilities, sm...   \n\n                                                 title  \\\n0    Just Locker Room Talk? Explicit Sexism and the...   \n1    Uncivil Communication and Simplistic Argumenta...   \n2    Can Interparty Contact Reduce Affective Polari...   \n3    Negatively Affecting Voters’ Issue Considerati...   \n4    From the Living Room to the Meeting Hall? Citi...   \n..                                                 ...   \n251  Mobile but Not Mobilized? Differential Gains f...   \n252  What’s New about Whatsapp for News? A Mixed-Me...   \n253  Making the 21st Century Mobile Journalist: Exa...   \n254  Understanding Mobile News: Looking beyond the ...   \n255                  Digital Journalism after Mobility   \n\n                                               authors published  \n0    Jesse H. Rhodes, Elizabeth A. Sharrow, Jill S....      2020  \n1                         Ine Goovaerts, Sofie Marien       2020  \n2            Magdalena Wojcieszak, Benjamin R. Warner       2020  \n3    Jonas Lefevere, Henrik Bech Seeberg, Stefaan W...      2020  \n4              Rüdiger Schmitt-Beck, Christiane Grill       2020  \n..                                                 ...       ...  \n251                                        Jakob Ohme       2020  \n252                        Karin Boczek, Lars Koppers       2020  \n253                   Matthew N. Bui, Rachel E. Moran       2020  \n254             Leopoldina Fortunati, John O’Sullivan       2020  \n255                                     Gerard Goggin       2020  \n\n[256 rows x 4 columns]",
      "text/html": "<div>\n<style scoped>\n    .dataframe tbody tr th:only-of-type {\n        vertical-align: middle;\n    }\n\n    .dataframe tbody tr th {\n        vertical-align: top;\n    }\n\n    .dataframe thead th {\n        text-align: right;\n    }\n</style>\n<table border=\"1\" class=\"dataframe\">\n  <thead>\n    <tr style=\"text-align: right;\">\n      <th></th>\n      <th>keywords</th>\n      <th>title</th>\n      <th>authors</th>\n      <th>published</th>\n    </tr>\n  </thead>\n  <tbody>\n    <tr>\n      <th>0</th>\n      <td>Donald Trump, sexism, voting, 2016 election, A...</td>\n      <td>Just Locker Room Talk? Explicit Sexism and the...</td>\n      <td>Jesse H. Rhodes, Elizabeth A. Sharrow, Jill S....</td>\n      <td>2020</td>\n    </tr>\n    <tr>\n      <th>1</th>\n      <td>political incivility, simplistic argumentation...</td>\n      <td>Uncivil Communication and Simplistic Argumenta...</td>\n      <td>Ine Goovaerts, Sofie Marien</td>\n      <td>2020</td>\n    </tr>\n    <tr>\n      <th>2</th>\n      <td>affective polarization, intergroup contact, in...</td>\n      <td>Can Interparty Contact Reduce Affective Polari...</td>\n      <td>Magdalena Wojcieszak, Benjamin R. Warner</td>\n      <td>2020</td>\n    </tr>\n    <tr>\n      <th>3</th>\n      <td>issue ownership, political parties, position, ...</td>\n      <td>Negatively Affecting Voters’ Issue Considerati...</td>\n      <td>Jonas Lefevere, Henrik Bech Seeberg, Stefaan W...</td>\n      <td>2020</td>\n    </tr>\n    <tr>\n      <th>4</th>\n      <td>citizens’ political talk, deliberative democra...</td>\n      <td>From the Living Room to the Meeting Hall? Citi...</td>\n      <td>Rüdiger Schmitt-Beck, Christiane Grill</td>\n      <td>2020</td>\n    </tr>\n    <tr>\n      <th>...</th>\n      <td>...</td>\n      <td>...</td>\n      <td>...</td>\n      <td>...</td>\n    </tr>\n    <tr>\n      <th>251</th>\n      <td>Mobile news, social media news, news effects, ...</td>\n      <td>Mobile but Not Mobilized? Differential Gains f...</td>\n      <td>Jakob Ohme</td>\n      <td>2020</td>\n    </tr>\n    <tr>\n      <th>252</th>\n      <td>Journalism, social media, WhatsApp, content an...</td>\n      <td>What’s New about Whatsapp for News? A Mixed-Me...</td>\n      <td>Karin Boczek, Lars Koppers</td>\n      <td>2020</td>\n    </tr>\n    <tr>\n      <th>253</th>\n      <td>Mobile technology, mobilities, mobile journali...</td>\n      <td>Making the 21st Century Mobile Journalist: Exa...</td>\n      <td>Matthew N. Bui, Rachel E. Moran</td>\n      <td>2020</td>\n    </tr>\n    <tr>\n      <th>254</th>\n      <td>Mobile, smartphone, news, production, consumpt...</td>\n      <td>Understanding Mobile News: Looking beyond the ...</td>\n      <td>Leopoldina Fortunati, John O’Sullivan</td>\n      <td>2020</td>\n    </tr>\n    <tr>\n      <th>255</th>\n      <td>Mobile news, mobile journalism, mobilities, sm...</td>\n      <td>Digital Journalism after Mobility</td>\n      <td>Gerard Goggin</td>\n      <td>2020</td>\n    </tr>\n  </tbody>\n</table>\n<p>256 rows × 4 columns</p>\n</div>"
     },
     "metadata": {}
    }
   ],
   "source": [
    "pages = pd.read_csv(\"tandf.csv\")\n",
    "pages = pages['pages'].tolist()\n",
    "articles = pd.DataFrame(columns = ['keywords', 'title', 'authors', 'published'])\n",
    "\n",
    "ctr = 0\n",
    "\n",
    "for page in pages:\n",
    "\n",
    "    prefix = re.search('https://.*com', page).group(0)\n",
    "    \n",
    "    page = requests.get(page)\n",
    "    soup = BeautifulSoup(page.content, \"lxml\")\n",
    "    keywords = soup.find(\"div\", class_ = \"hlFld-KeywordText\")\n",
    "    keywords = keywords.find_all(\"a\")\n",
    "    keywords = ', '.join([k.text.strip() for k in keywords])\n",
    "\n",
    "    cit_ref = soup.find('li', class_ = 'downloadCitations').find('a')['href']\n",
    "    cit_page = requests.get(prefix + cit_ref)\n",
    "    cit_soup = BeautifulSoup(cit_page.content, 'lxml')\n",
    "    citation = cit_soup.find('div', class_ = 'pub-meta').text.replace('\\n', ' ').strip()\n",
    "\n",
    "    authors = citation.split('(')[0].replace(' &', ',')\n",
    "    date = re.search('(\\d{4})', citation).group(0)\n",
    "    title = re.search('\\)[^,]*', citation).group(0)[2:]\n",
    "\n",
    "    articles = articles.append({'authors': authors,\n",
    "                                'title': title,\n",
    "                                'published': date,\n",
    "                                'keywords': keywords}, ignore_index=True)\n",
    "\n",
    "display(articles)"
   ]
  },
  {
   "cell_type": "code",
   "execution_count": 42,
   "metadata": {},
   "outputs": [
    {
     "output_type": "display_data",
     "data": {
      "text/plain": "                                             keywords  \\\n0   Bourdieu, Habermas, news agencies, submarine c...   \n1   Digital technologies, international, national,...   \n2   AFP, dpa, EFE, international news agency, nati...   \n3   Austria Presse Agentur, digital disruption, dy...   \n4   Autonomy, discursive institutionalism, elite i...   \n5    Advertising, endorser, ethics, journalist, radio   \n6   Frames, journalism, mass media, newspaper, obe...   \n7   Australia, gender and sexual diversity in scho...   \n8   Audience studies, journalism, media effects, n...   \n9   Adult learning, case-based education, cognitiv...   \n10  C-SPAN, espoused values, ethnography, lived va...   \n11  Cross-promotion, media cross-ownership, self-c...   \n\n                                                title  \\\n0   Oligopolies of the past? Habermas, Bourdieu, a...   \n1   Between the state and the market: An analysis ...   \n2     AFP, EFE and dpa as international news agencies   \n3   How do media-owned national news agencies surv...   \n4   Abnegation, accommodation and affirmation: Thr...   \n5   Journalists as radio advertising endorsers in ...   \n6   How the Spanish press frames obesity: A study ...   \n7   Your parents will read this: Reading (as) pare...   \n8   The effects of disclosure format on native adv...   \n9   Case-based education: A strategy for contextua...   \n10  Staying true to the mission: How C-SPAN transl...   \n11  Self-coverage for public interest or self-prom...   \n\n                                              authors published  \n0                                  Heidi J. S. Tworek      2020  \n1                   Elena Vartanova, Andrei Vyrkovsky      2020  \n2                                         Jasmin Surm      2020  \n3                   Atte Jääskeläinen, Servet Yanatma      2020  \n4                       Terhi Rantanen, Anthony Kelly      2020  \n5   Clara Muela-Molina, Josefa D Martín-Santana, E...      2020  \n6                        José I Armentia, Flora Marín      2020  \n7                                 Jay Daniel Thompson      2020  \n8             Michelle A Amazeen, Bartosz W Wojdynski      2020  \n9                                        Rhonda Breit      2020  \n10                      Hans K Meyer, Christy Zempter      2020  \n11  Na Yeon Lee, Kanghui Baek, Jung Kun Pae, Sun H...      2020  ",
      "text/html": "<div>\n<style scoped>\n    .dataframe tbody tr th:only-of-type {\n        vertical-align: middle;\n    }\n\n    .dataframe tbody tr th {\n        vertical-align: top;\n    }\n\n    .dataframe thead th {\n        text-align: right;\n    }\n</style>\n<table border=\"1\" class=\"dataframe\">\n  <thead>\n    <tr style=\"text-align: right;\">\n      <th></th>\n      <th>keywords</th>\n      <th>title</th>\n      <th>authors</th>\n      <th>published</th>\n    </tr>\n  </thead>\n  <tbody>\n    <tr>\n      <th>0</th>\n      <td>Bourdieu, Habermas, news agencies, submarine c...</td>\n      <td>Oligopolies of the past? Habermas, Bourdieu, a...</td>\n      <td>Heidi J. S. Tworek</td>\n      <td>2020</td>\n    </tr>\n    <tr>\n      <th>1</th>\n      <td>Digital technologies, international, national,...</td>\n      <td>Between the state and the market: An analysis ...</td>\n      <td>Elena Vartanova, Andrei Vyrkovsky</td>\n      <td>2020</td>\n    </tr>\n    <tr>\n      <th>2</th>\n      <td>AFP, dpa, EFE, international news agency, nati...</td>\n      <td>AFP, EFE and dpa as international news agencies</td>\n      <td>Jasmin Surm</td>\n      <td>2020</td>\n    </tr>\n    <tr>\n      <th>3</th>\n      <td>Austria Presse Agentur, digital disruption, dy...</td>\n      <td>How do media-owned national news agencies surv...</td>\n      <td>Atte Jääskeläinen, Servet Yanatma</td>\n      <td>2020</td>\n    </tr>\n    <tr>\n      <th>4</th>\n      <td>Autonomy, discursive institutionalism, elite i...</td>\n      <td>Abnegation, accommodation and affirmation: Thr...</td>\n      <td>Terhi Rantanen, Anthony Kelly</td>\n      <td>2020</td>\n    </tr>\n    <tr>\n      <th>5</th>\n      <td>Advertising, endorser, ethics, journalist, radio</td>\n      <td>Journalists as radio advertising endorsers in ...</td>\n      <td>Clara Muela-Molina, Josefa D Martín-Santana, E...</td>\n      <td>2020</td>\n    </tr>\n    <tr>\n      <th>6</th>\n      <td>Frames, journalism, mass media, newspaper, obe...</td>\n      <td>How the Spanish press frames obesity: A study ...</td>\n      <td>José I Armentia, Flora Marín</td>\n      <td>2020</td>\n    </tr>\n    <tr>\n      <th>7</th>\n      <td>Australia, gender and sexual diversity in scho...</td>\n      <td>Your parents will read this: Reading (as) pare...</td>\n      <td>Jay Daniel Thompson</td>\n      <td>2020</td>\n    </tr>\n    <tr>\n      <th>8</th>\n      <td>Audience studies, journalism, media effects, n...</td>\n      <td>The effects of disclosure format on native adv...</td>\n      <td>Michelle A Amazeen, Bartosz W Wojdynski</td>\n      <td>2020</td>\n    </tr>\n    <tr>\n      <th>9</th>\n      <td>Adult learning, case-based education, cognitiv...</td>\n      <td>Case-based education: A strategy for contextua...</td>\n      <td>Rhonda Breit</td>\n      <td>2020</td>\n    </tr>\n    <tr>\n      <th>10</th>\n      <td>C-SPAN, espoused values, ethnography, lived va...</td>\n      <td>Staying true to the mission: How C-SPAN transl...</td>\n      <td>Hans K Meyer, Christy Zempter</td>\n      <td>2020</td>\n    </tr>\n    <tr>\n      <th>11</th>\n      <td>Cross-promotion, media cross-ownership, self-c...</td>\n      <td>Self-coverage for public interest or self-prom...</td>\n      <td>Na Yeon Lee, Kanghui Baek, Jung Kun Pae, Sun H...</td>\n      <td>2020</td>\n    </tr>\n  </tbody>\n</table>\n</div>"
     },
     "metadata": {}
    }
   ],
   "source": [
    "pages = pd.read_csv(\"sage.csv\")\n",
    "pages = pages['pages'].tolist()\n",
    "articles2 = pd.DataFrame(columns = ['keywords', 'title', 'authors', 'published'])\n",
    "\n",
    "for page in pages:\n",
    "\n",
    "    prefix = re.search('https://.*com', page).group(0)\n",
    "    \n",
    "    page = requests.get(page)\n",
    "    soup = BeautifulSoup(page.content, \"lxml\")\n",
    "    keywords = soup.find(\"div\", class_ = \"hlFld-KeywordText\")\n",
    "    keywords = keywords.find_all(\"a\")\n",
    "    keywords = ', '.join([k.text.strip() for k in keywords])\n",
    "\n",
    "    title = soup.find('h1').text.replace('\\n', ' ').strip()\n",
    "    author = soup.find('div', 'hlFld-ContribAuthor').find_all('span', 'contribDegrees')\n",
    "    author = ', '.join([a.find('a').text.strip() for a in author])\n",
    "    date = re.search('\\d{4}', soup.find('div', 'published-dates').text.split(':')[-1].strip()).group(0)\n",
    "\n",
    "    articles2 = articles2.append({'authors': author,\n",
    "                                'title': title,\n",
    "                                'published': date,\n",
    "                                'keywords': keywords}, ignore_index=True)\n",
    "\n",
    "display(articles2)"
   ]
  },
  {
   "cell_type": "code",
   "execution_count": 43,
   "metadata": {},
   "outputs": [],
   "source": [
    "articles = articles.append(articles2)"
   ]
  },
  {
   "cell_type": "code",
   "execution_count": 44,
   "metadata": {},
   "outputs": [
    {
     "output_type": "execute_result",
     "data": {
      "text/plain": [
       "268"
      ]
     },
     "metadata": {},
     "execution_count": 44
    }
   ],
   "source": [
    "len(articles)"
   ]
  },
  {
   "cell_type": "code",
   "execution_count": 45,
   "metadata": {},
   "outputs": [],
   "source": [
    "articles.to_csv('keywords.csv')"
   ]
  },
  {
   "cell_type": "code",
   "execution_count": null,
   "metadata": {},
   "outputs": [],
   "source": []
  }
 ]
}