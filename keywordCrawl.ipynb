{
 "metadata": {
  "language_info": {
   "codemirror_mode": {
    "name": "ipython",
    "version": 3
   },
   "file_extension": ".py",
   "mimetype": "text/x-python",
   "name": "python",
   "nbconvert_exporter": "python",
   "pygments_lexer": "ipython3",
   "version": "3.7.9-final"
  },
  "orig_nbformat": 2,
  "kernelspec": {
   "name": "python3",
   "display_name": "Python 3.7.9 64-bit ('holcombEnv': conda)",
   "metadata": {
    "interpreter": {
     "hash": "044a0165a1a561273ca818f13158b4edea630051cf64f3770cf4dedc4e818f34"
    }
   }
  }
 },
 "nbformat": 4,
 "nbformat_minor": 2,
 "cells": [
  {
   "cell_type": "code",
   "execution_count": 2,
   "metadata": {},
   "outputs": [],
   "source": [
    "import requests\n",
    "from bs4 import BeautifulSoup, element\n",
    "import numpy as np \n",
    "import pandas as pd \n",
    "import re"
   ]
  },
  {
   "cell_type": "code",
   "execution_count": 3,
   "metadata": {},
   "outputs": [
    {
     "output_type": "display_data",
     "data": {
      "text/plain": "                                              keywords  \\\n0    Donald Trump, sexism, voting, 2016 election, A...   \n1    political incivility, simplistic argumentation...   \n2    affective polarization, intergroup contact, in...   \n3    issue ownership, political parties, position, ...   \n4    citizens’ political talk, deliberative democra...   \n..                                                 ...   \n251  Mobile news, social media news, news effects, ...   \n252  Journalism, social media, WhatsApp, content an...   \n253  Mobile technology, mobilities, mobile journali...   \n254  Mobile, smartphone, news, production, consumpt...   \n255  Mobile news, mobile journalism, mobilities, sm...   \n\n                                                 title  \\\n0    Just Locker Room Talk? Explicit Sexism and the...   \n1    Uncivil Communication and Simplistic Argumenta...   \n2    Can Interparty Contact Reduce Affective Polari...   \n3    Negatively Affecting Voters’ Issue Considerati...   \n4    From the Living Room to the Meeting Hall? Citi...   \n..                                                 ...   \n251  Mobile but Not Mobilized? Differential Gains f...   \n252  What’s New about Whatsapp for News? A Mixed-Me...   \n253  Making the 21st Century Mobile Journalist: Exa...   \n254  Understanding Mobile News: Looking beyond the ...   \n255                  Digital Journalism after Mobility   \n\n                                               authors published  \n0    Jesse H. Rhodes, Elizabeth A. Sharrow, Jill S....      2020  \n1                         Ine Goovaerts, Sofie Marien       2020  \n2            Magdalena Wojcieszak, Benjamin R. Warner       2020  \n3    Jonas Lefevere, Henrik Bech Seeberg, Stefaan W...      2020  \n4              Rüdiger Schmitt-Beck, Christiane Grill       2020  \n..                                                 ...       ...  \n251                                        Jakob Ohme       2020  \n252                        Karin Boczek, Lars Koppers       2020  \n253                   Matthew N. Bui, Rachel E. Moran       2020  \n254             Leopoldina Fortunati, John O’Sullivan       2020  \n255                                     Gerard Goggin       2020  \n\n[256 rows x 4 columns]",
      "text/html": "<div>\n<style scoped>\n    .dataframe tbody tr th:only-of-type {\n        vertical-align: middle;\n    }\n\n    .dataframe tbody tr th {\n        vertical-align: top;\n    }\n\n    .dataframe thead th {\n        text-align: right;\n    }\n</style>\n<table border=\"1\" class=\"dataframe\">\n  <thead>\n    <tr style=\"text-align: right;\">\n      <th></th>\n      <th>keywords</th>\n      <th>title</th>\n      <th>authors</th>\n      <th>published</th>\n    </tr>\n  </thead>\n  <tbody>\n    <tr>\n      <th>0</th>\n      <td>Donald Trump, sexism, voting, 2016 election, A...</td>\n      <td>Just Locker Room Talk? Explicit Sexism and the...</td>\n      <td>Jesse H. Rhodes, Elizabeth A. Sharrow, Jill S....</td>\n      <td>2020</td>\n    </tr>\n    <tr>\n      <th>1</th>\n      <td>political incivility, simplistic argumentation...</td>\n      <td>Uncivil Communication and Simplistic Argumenta...</td>\n      <td>Ine Goovaerts, Sofie Marien</td>\n      <td>2020</td>\n    </tr>\n    <tr>\n      <th>2</th>\n      <td>affective polarization, intergroup contact, in...</td>\n      <td>Can Interparty Contact Reduce Affective Polari...</td>\n      <td>Magdalena Wojcieszak, Benjamin R. Warner</td>\n      <td>2020</td>\n    </tr>\n    <tr>\n      <th>3</th>\n      <td>issue ownership, political parties, position, ...</td>\n      <td>Negatively Affecting Voters’ Issue Considerati...</td>\n      <td>Jonas Lefevere, Henrik Bech Seeberg, Stefaan W...</td>\n      <td>2020</td>\n    </tr>\n    <tr>\n      <th>4</th>\n      <td>citizens’ political talk, deliberative democra...</td>\n      <td>From the Living Room to the Meeting Hall? Citi...</td>\n      <td>Rüdiger Schmitt-Beck, Christiane Grill</td>\n      <td>2020</td>\n    </tr>\n    <tr>\n      <th>...</th>\n      <td>...</td>\n      <td>...</td>\n      <td>...</td>\n      <td>...</td>\n    </tr>\n    <tr>\n      <th>251</th>\n      <td>Mobile news, social media news, news effects, ...</td>\n      <td>Mobile but Not Mobilized? Differential Gains f...</td>\n      <td>Jakob Ohme</td>\n      <td>2020</td>\n    </tr>\n    <tr>\n      <th>252</th>\n      <td>Journalism, social media, WhatsApp, content an...</td>\n      <td>What’s New about Whatsapp for News? A Mixed-Me...</td>\n      <td>Karin Boczek, Lars Koppers</td>\n      <td>2020</td>\n    </tr>\n    <tr>\n      <th>253</th>\n      <td>Mobile technology, mobilities, mobile journali...</td>\n      <td>Making the 21st Century Mobile Journalist: Exa...</td>\n      <td>Matthew N. Bui, Rachel E. Moran</td>\n      <td>2020</td>\n    </tr>\n    <tr>\n      <th>254</th>\n      <td>Mobile, smartphone, news, production, consumpt...</td>\n      <td>Understanding Mobile News: Looking beyond the ...</td>\n      <td>Leopoldina Fortunati, John O’Sullivan</td>\n      <td>2020</td>\n    </tr>\n    <tr>\n      <th>255</th>\n      <td>Mobile news, mobile journalism, mobilities, sm...</td>\n      <td>Digital Journalism after Mobility</td>\n      <td>Gerard Goggin</td>\n      <td>2020</td>\n    </tr>\n  </tbody>\n</table>\n<p>256 rows × 4 columns</p>\n</div>"
     },
     "metadata": {}
    }
   ],
   "source": [
    "pages = pd.read_csv(\"tandf.csv\")\n",
    "pages = pages['pages'].tolist()\n",
    "articles = pd.DataFrame(columns = ['keywords', 'title', 'authors', 'published'])\n",
    "\n",
    "ctr = 0\n",
    "\n",
    "for page in pages:\n",
    "\n",
    "    prefix = re.search('https://.*com', page).group(0)\n",
    "    \n",
    "    page = requests.get(page)\n",
    "    soup = BeautifulSoup(page.content, \"lxml\")\n",
    "    keywords = soup.find(\"div\", class_ = \"hlFld-KeywordText\")\n",
    "    keywords = keywords.find_all(\"a\")\n",
    "    keywords = ', '.join([k.text.strip() for k in keywords])\n",
    "\n",
    "    cit_ref = soup.find('li', class_ = 'downloadCitations').find('a')['href']\n",
    "    cit_page = requests.get(prefix + cit_ref)\n",
    "    cit_soup = BeautifulSoup(cit_page.content, 'lxml')\n",
    "    citation = cit_soup.find('div', class_ = 'pub-meta').text.replace('\\n', ' ').strip()\n",
    "\n",
    "    authors = citation.split('(')[0].replace(' &', ',')\n",
    "    date = re.search('(\\d{4})', citation).group(0)\n",
    "    title = re.search('\\)[^,]*', citation).group(0)[2:]\n",
    "\n",
    "    articles = articles.append({'authors': authors,\n",
    "                                'title': title,\n",
    "                                'published': date,\n",
    "                                'keywords': keywords}, ignore_index=True)\n",
    "\n",
    "display(articles)"
   ]
  },
  {
   "cell_type": "code",
   "execution_count": 12,
   "metadata": {},
   "outputs": [
    {
     "output_type": "stream",
     "name": "stdout",
     "text": [
      "https://journals.sagepub.com/doi/abs/10.1177/1464884919883489\n",
      "https://journals.sagepub.com/doi/abs/10.1177/1464884919883490\n",
      "https://journals.sagepub.com/doi/abs/10.1177/1464884919883491\n",
      "https://journals.sagepub.com/doi/abs/10.1177/1464884919883492\n",
      "https://journals.sagepub.com/doi/abs/10.1177/1464884919880060\n",
      "https://journals.sagepub.com/doi/abs/10.1177/1464884917753785\n",
      "https://journals.sagepub.com/doi/abs/10.1177/1464884918754851\n",
      "https://journals.sagepub.com/doi/abs/10.1177/1464884918755638\n",
      "https://journals.sagepub.com/doi/abs/10.1177/1464884918754829\n",
      "https://journals.sagepub.com/doi/abs/10.1177/1464884918761629\n",
      "https://journals.sagepub.com/doi/abs/10.1177/1464884918754849\n",
      "https://journals.sagepub.com/doi/abs/10.1177/1464884918763503\n",
      "https://journals.sagepub.com/doi/abs/10.1177/1464884917716503\n",
      "https://journals.sagepub.com/doi/abs/10.1177/1464884918802525\n",
      "https://journals.sagepub.com/doi/abs/10.1177/1464884918797613\n",
      "https://journals.sagepub.com/doi/abs/10.1177/1464884917716818\n",
      "https://journals.sagepub.com/doi/abs/10.1177/1464884917736002\n",
      "https://journals.sagepub.com/doi/abs/10.1177/1464884917726420\n",
      "https://journals.sagepub.com/doi/abs/10.1177/1464884917727386\n",
      "https://journals.sagepub.com/doi/abs/10.1177/1464884917728595\n",
      "https://journals.sagepub.com/doi/abs/10.1177/1464884917722657\n",
      "https://journals.sagepub.com/doi/abs/10.1177/1464884917724301\n",
      "https://journals.sagepub.com/doi/abs/10.1177/1464884917724596\n",
      "https://journals.sagepub.com/doi/abs/10.1177/1464884917726421\n",
      "https://journals.sagepub.com/doi/abs/10.1177/1464884917734079\n",
      "https://journals.sagepub.com/doi/abs/10.1177/1464884917743176\n",
      "https://journals.sagepub.com/doi/abs/10.1177/1464884917743389\n",
      "https://journals.sagepub.com/doi/abs/10.1177/1464884917738428\n",
      "https://journals.sagepub.com/doi/abs/10.1177/1464884917743827\n",
      "https://journals.sagepub.com/doi/abs/10.1177/1464884917748519\n",
      "https://journals.sagepub.com/doi/abs/10.1177/1464884917751305\n",
      "https://journals.sagepub.com/doi/abs/10.1177/1464884917751962\n",
      "https://journals.sagepub.com/doi/abs/10.1177/1464884918768494\n",
      "https://journals.sagepub.com/doi/abs/10.1177/1464884918769430\n",
      "https://journals.sagepub.com/doi/abs/10.1177/1464884919847593\n",
      "https://journals.sagepub.com/doi/abs/10.1177/1464884918778249\n",
      "https://journals.sagepub.com/doi/abs/10.1177/1464884917717830\n",
      "https://journals.sagepub.com/doi/abs/10.1177/1464884918791219\n",
      "https://journals.sagepub.com/doi/abs/10.1177/1464884918796583\n",
      "https://journals.sagepub.com/doi/abs/10.1177/1464884919894778\n",
      "https://journals.sagepub.com/doi/abs/10.1177/1464884917735691\n",
      "https://journals.sagepub.com/doi/abs/10.1177/1464884917733589\n",
      "https://journals.sagepub.com/doi/abs/10.1177/1464884917731957\n",
      "https://journals.sagepub.com/doi/abs/10.1177/1464884917734053\n",
      "https://journals.sagepub.com/doi/abs/10.1177/1464884917733587\n",
      "https://journals.sagepub.com/doi/abs/10.1177/1464884917737213\n",
      "https://journals.sagepub.com/doi/abs/10.1177/1464884917738412\n",
      "https://journals.sagepub.com/doi/abs/10.1177/1464884920915372\n",
      "https://journals.sagepub.com/doi/abs/10.1177/1464884920915371\n",
      "https://journals.sagepub.com/doi/abs/10.1177/1464884920915353\n",
      "https://journals.sagepub.com/doi/abs/10.1177/1464884920915352\n",
      "https://journals.sagepub.com/doi/abs/10.1177/1464884920915374\n",
      "https://journals.sagepub.com/doi/abs/10.1177/1464884920915373\n",
      "https://journals.sagepub.com/doi/abs/10.1177/1464884920915354\n",
      "https://journals.sagepub.com/doi/abs/10.1177/1464884920915355\n",
      "https://journals.sagepub.com/doi/abs/10.1177/1464884918768500\n",
      "https://journals.sagepub.com/doi/abs/10.1177/1464884918762848\n",
      "https://journals.sagepub.com/doi/abs/10.1177/1464884917693864\n",
      "https://journals.sagepub.com/doi/abs/10.1177/1464884917699034\n",
      "https://journals.sagepub.com/doi/abs/10.1177/1464884917700667\n",
      "https://journals.sagepub.com/doi/abs/10.1177/1464884917708866\n",
      "https://journals.sagepub.com/doi/abs/10.1177/1464884917722896\n",
      "https://journals.sagepub.com/doi/abs/10.1177/1464884917722722\n",
      "https://journals.sagepub.com/doi/abs/10.1177/1464884918793054\n",
      "https://journals.sagepub.com/doi/abs/10.1177/1464884918789227\n",
      "https://journals.sagepub.com/doi/abs/10.1177/1464884919841134\n",
      "https://journals.sagepub.com/doi/abs/10.1177/1464884919847802\n",
      "https://journals.sagepub.com/doi/abs/10.1177/1464884919849359\n",
      "https://journals.sagepub.com/doi/abs/10.1177/1464884919860926\n",
      "https://journals.sagepub.com/doi/abs/10.1177/1464884920901971\n",
      "https://journals.sagepub.com/doi/abs/10.1177/1464884918809521\n",
      "https://journals.sagepub.com/doi/abs/10.1177/1464884918802975\n",
      "https://journals.sagepub.com/doi/abs/10.1177/1464884918764454\n",
      "https://journals.sagepub.com/doi/abs/10.1177/1464884918809299\n",
      "https://journals.sagepub.com/doi/abs/10.1177/1464884918775073\n",
      "https://journals.sagepub.com/doi/abs/10.1177/1464884917734054\n",
      "https://journals.sagepub.com/doi/abs/10.1177/1464884917713791\n",
      "https://journals.sagepub.com/doi/abs/10.1177/1464884918791349\n",
      "https://journals.sagepub.com/doi/abs/10.1177/1464884917749667\n",
      "https://journals.sagepub.com/doi/abs/10.1177/1464884919886421\n",
      "https://journals.sagepub.com/doi/abs/10.1177/1464884919886437\n",
      "https://journals.sagepub.com/doi/abs/10.1177/1464884919886438\n",
      "https://journals.sagepub.com/doi/abs/10.1177/1464884919886440\n",
      "https://journals.sagepub.com/doi/abs/10.1177/1464884918822666\n",
      "https://journals.sagepub.com/doi/abs/10.1177/1464884918783949\n",
      "https://journals.sagepub.com/doi/abs/10.1177/1464884919886441\n",
      "https://journals.sagepub.com/doi/abs/10.1177/1464884919848183\n",
      "https://journals.sagepub.com/doi/abs/10.1177/1464884919862655\n",
      "https://journals.sagepub.com/doi/abs/10.1177/1464884918800076\n",
      "https://journals.sagepub.com/doi/abs/10.1177/1464884918817608\n",
      "https://journals.sagepub.com/doi/abs/10.1177/1464884919868325\n",
      "https://journals.sagepub.com/doi/abs/10.1177/1464884918774311\n",
      "https://journals.sagepub.com/doi/abs/10.1177/1464884917707844\n",
      "https://journals.sagepub.com/doi/abs/10.1177/1464884917715944\n",
      "https://journals.sagepub.com/doi/abs/10.1177/1464884918779919\n",
      "https://journals.sagepub.com/doi/abs/10.1177/1464884917734055\n",
      "https://journals.sagepub.com/doi/abs/10.1177/1464884918805262\n",
      "https://journals.sagepub.com/doi/abs/10.1177/1464884917724300\n",
      "https://journals.sagepub.com/doi/abs/10.1177/1464884918807056\n",
      "https://journals.sagepub.com/doi/abs/10.1177/1464884918801400\n",
      "https://journals.sagepub.com/doi/abs/10.1177/1464884917725989\n",
      "https://journals.sagepub.com/doi/abs/10.1177/1464884917746861\n",
      "https://journals.sagepub.com/doi/abs/10.1177/1464884918767586\n",
      "https://journals.sagepub.com/doi/abs/10.1177/1464884917746560\n",
      "https://journals.sagepub.com/doi/abs/10.1177/1464884917740050\n",
      "https://journals.sagepub.com/doi/abs/10.1177/1464884917719145\n",
      "https://journals.sagepub.com/doi/abs/10.1177/1464884917730217\n",
      "https://journals.sagepub.com/doi/abs/10.1177/1464884917716699\n",
      "https://journals.sagepub.com/doi/abs/10.1177/1464884917716000\n",
      "https://journals.sagepub.com/doi/abs/10.1177/1077699020934197\n",
      "https://journals.sagepub.com/doi/abs/10.1177/1077699020923604\n",
      "https://journals.sagepub.com/doi/abs/10.1177/1077699020923603\n",
      "https://journals.sagepub.com/doi/abs/10.1177/1077699020910116\n",
      "https://journals.sagepub.com/doi/abs/10.1177/1077699019890119\n",
      "https://journals.sagepub.com/doi/abs/10.1177/1077699020923607\n",
      "https://journals.sagepub.com/doi/abs/10.1177/1077699020904791\n",
      "https://journals.sagepub.com/doi/abs/10.1177/1077699020916810\n",
      "https://journals.sagepub.com/doi/abs/10.1177/1077699019887675\n",
      "https://journals.sagepub.com/doi/abs/10.1177/1077699020911076\n",
      "https://journals.sagepub.com/doi/abs/10.1177/1077699020925450\n",
      "https://journals.sagepub.com/doi/abs/10.1177/1077699020904169\n",
      "https://journals.sagepub.com/doi/abs/10.1177/1077699019891433\n",
      "https://journals.sagepub.com/doi/abs/10.1177/1077699019892632\n",
      "https://journals.sagepub.com/doi/abs/10.1177/1077699019886580\n",
      "https://journals.sagepub.com/doi/abs/10.1177/1077699020909308\n",
      "https://journals.sagepub.com/doi/abs/10.1177/1077699020906492\n",
      "https://journals.sagepub.com/doi/abs/10.1177/1077699019855633\n",
      "https://journals.sagepub.com/doi/abs/10.1177/1077699020911884\n",
      "https://journals.sagepub.com/doi/abs/10.1177/1077699020911081\n",
      "https://journals.sagepub.com/doi/abs/10.1177/1077699020932564\n",
      "https://journals.sagepub.com/doi/abs/10.1177/1077699019891437\n",
      "https://journals.sagepub.com/doi/abs/10.1177/1077699020933871\n"
     ]
    },
    {
     "output_type": "error",
     "ename": "AttributeError",
     "evalue": "'NoneType' object has no attribute 'find_all'",
     "traceback": [
      "\u001b[1;31m---------------------------------------------------------------------------\u001b[0m",
      "\u001b[1;31mAttributeError\u001b[0m                            Traceback (most recent call last)",
      "\u001b[1;32m<ipython-input-12-d92b63766c4d>\u001b[0m in \u001b[0;36m<module>\u001b[1;34m\u001b[0m\n\u001b[0;32m     12\u001b[0m     \u001b[0msoup\u001b[0m \u001b[1;33m=\u001b[0m \u001b[0mBeautifulSoup\u001b[0m\u001b[1;33m(\u001b[0m\u001b[0mpage\u001b[0m\u001b[1;33m.\u001b[0m\u001b[0mcontent\u001b[0m\u001b[1;33m,\u001b[0m \u001b[1;34m\"lxml\"\u001b[0m\u001b[1;33m)\u001b[0m\u001b[1;33m\u001b[0m\u001b[1;33m\u001b[0m\u001b[0m\n\u001b[0;32m     13\u001b[0m     \u001b[0mkeywords\u001b[0m \u001b[1;33m=\u001b[0m \u001b[0msoup\u001b[0m\u001b[1;33m.\u001b[0m\u001b[0mfind\u001b[0m\u001b[1;33m(\u001b[0m\u001b[1;34m\"div\"\u001b[0m\u001b[1;33m,\u001b[0m \u001b[0mclass_\u001b[0m \u001b[1;33m=\u001b[0m \u001b[1;34m\"hlFld-KeywordText\"\u001b[0m\u001b[1;33m)\u001b[0m\u001b[1;33m\u001b[0m\u001b[1;33m\u001b[0m\u001b[0m\n\u001b[1;32m---> 14\u001b[1;33m     \u001b[0mkeywords\u001b[0m \u001b[1;33m=\u001b[0m \u001b[0mkeywords\u001b[0m\u001b[1;33m.\u001b[0m\u001b[0mfind_all\u001b[0m\u001b[1;33m(\u001b[0m\u001b[1;34m\"a\"\u001b[0m\u001b[1;33m)\u001b[0m\u001b[1;33m\u001b[0m\u001b[1;33m\u001b[0m\u001b[0m\n\u001b[0m\u001b[0;32m     15\u001b[0m     \u001b[0mkeywords\u001b[0m \u001b[1;33m=\u001b[0m \u001b[1;34m', '\u001b[0m\u001b[1;33m.\u001b[0m\u001b[0mjoin\u001b[0m\u001b[1;33m(\u001b[0m\u001b[1;33m[\u001b[0m\u001b[0mk\u001b[0m\u001b[1;33m.\u001b[0m\u001b[0mtext\u001b[0m\u001b[1;33m.\u001b[0m\u001b[0mstrip\u001b[0m\u001b[1;33m(\u001b[0m\u001b[1;33m)\u001b[0m \u001b[1;32mfor\u001b[0m \u001b[0mk\u001b[0m \u001b[1;32min\u001b[0m \u001b[0mkeywords\u001b[0m\u001b[1;33m]\u001b[0m\u001b[1;33m)\u001b[0m\u001b[1;33m\u001b[0m\u001b[1;33m\u001b[0m\u001b[0m\n\u001b[0;32m     16\u001b[0m \u001b[1;33m\u001b[0m\u001b[0m\n",
      "\u001b[1;31mAttributeError\u001b[0m: 'NoneType' object has no attribute 'find_all'"
     ]
    }
   ],
   "source": [
    "pages = pd.read_csv(\"sage.csv\")\n",
    "pages = pages['pages'].tolist()\n",
    "articles2 = pd.DataFrame(columns = ['keywords', 'title', 'authors', 'published'])\n",
    "\n",
    "for page in pages:\n",
    "\n",
    "    print(page)\n",
    "\n",
    "    prefix = re.search('https://.*com', page).group(0)\n",
    "    \n",
    "    page = requests.get(page)\n",
    "    soup = BeautifulSoup(page.content, \"lxml\")\n",
    "    keywords = soup.find(\"div\", class_ = \"hlFld-KeywordText\")\n",
    "    keywords = keywords.find_all(\"a\")\n",
    "    keywords = ', '.join([k.text.strip() for k in keywords])\n",
    "\n",
    "    title = soup.find('h1').text.replace('\\n', ' ').strip()\n",
    "    author = soup.find('div', 'hlFld-ContribAuthor').find_all('span', 'contribDegrees')\n",
    "    author = ', '.join([a.find('a').text.strip() for a in author])\n",
    "    date = re.search('\\d{4}', soup.find('div', 'published-dates').text.split(':')[-1].strip()).group(0)\n",
    "\n",
    "    articles2 = articles2.append({'authors': author,\n",
    "                                'title': title,\n",
    "                                'published': date,\n",
    "                                'keywords': keywords}, ignore_index=True)\n",
    "\n",
    "display(articles2)"
   ]
  },
  {
   "cell_type": "code",
   "execution_count": 43,
   "metadata": {},
   "outputs": [],
   "source": [
    "articles = articles.append(articles2)"
   ]
  },
  {
   "cell_type": "code",
   "execution_count": 44,
   "metadata": {},
   "outputs": [
    {
     "output_type": "execute_result",
     "data": {
      "text/plain": [
       "268"
      ]
     },
     "metadata": {},
     "execution_count": 44
    }
   ],
   "source": [
    "len(articles)"
   ]
  },
  {
   "cell_type": "code",
   "execution_count": 45,
   "metadata": {},
   "outputs": [],
   "source": [
    "articles.to_csv('keywords.csv')"
   ]
  },
  {
   "cell_type": "code",
   "execution_count": null,
   "metadata": {},
   "outputs": [],
   "source": []
  }
 ]
}