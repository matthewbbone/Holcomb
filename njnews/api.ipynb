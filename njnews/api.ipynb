{
 "metadata": {
  "language_info": {
   "codemirror_mode": {
    "name": "ipython",
    "version": 3
   },
   "file_extension": ".py",
   "mimetype": "text/x-python",
   "name": "python",
   "nbconvert_exporter": "python",
   "pygments_lexer": "ipython3",
   "version": "3.7.9"
  },
  "orig_nbformat": 2,
  "kernelspec": {
   "name": "python379jvsc74a57bd0044a0165a1a561273ca818f13158b4edea630051cf64f3770cf4dedc4e818f34",
   "display_name": "Python 3.7.9 64-bit ('holcombEnv': conda)"
  }
 },
 "nbformat": 4,
 "nbformat_minor": 2,
 "cells": [
  {
   "cell_type": "code",
   "execution_count": 2,
   "metadata": {},
   "outputs": [],
   "source": [
    "import requests\n",
    "from bs4 import BeautifulSoup, element\n",
    "import numpy as np \n",
    "import pandas as pd \n",
    "from datetime import datetime\n",
    "import os\n",
    "import io\n",
    "import re"
   ]
  },
  {
   "cell_type": "code",
   "execution_count": 3,
   "metadata": {},
   "outputs": [],
   "source": [
    "data = pd.read_csv('mypaper.csv')"
   ]
  },
  {
   "cell_type": "code",
   "execution_count": 4,
   "metadata": {},
   "outputs": [
    {
     "output_type": "execute_result",
     "data": {
      "text/plain": [
       "      Unnamed: 0        date                 domain  \\\n",
       "0              0  2019-09-30  www.mypaperonline.com   \n",
       "1              1  2019-10-01  www.mypaperonline.com   \n",
       "2              2  2019-10-01  www.mypaperonline.com   \n",
       "3              3  2019-10-01  www.mypaperonline.com   \n",
       "4              4  2019-10-12  www.mypaperonline.com   \n",
       "...          ...         ...                    ...   \n",
       "2556        4332  2019-10-12  www.mypaperonline.com   \n",
       "2557        4333  2019-10-12  www.mypaperonline.com   \n",
       "2558        4334  2019-10-12  www.mypaperonline.com   \n",
       "2559        4335  2019-10-12  www.mypaperonline.com   \n",
       "2560        4336  2019-11-01  www.mypaperonline.com   \n",
       "\n",
       "                                                    url  \\\n",
       "0     https://www.mypaperonline.com/category/the-ran...   \n",
       "1     https://www.mypaperonline.com/category/local-n...   \n",
       "2     https://www.mypaperonline.com/local-art-exhibi...   \n",
       "3     https://www.mypaperonline.com/wp-json/oembed/1...   \n",
       "4     https://www.mypaperonline.com/category/the-hac...   \n",
       "...                                                 ...   \n",
       "2556  https://www.mypaperonline.com/hauntings-around...   \n",
       "2557  https://www.mypaperonline.com/west-orange-resi...   \n",
       "2558  https://www.mypaperonline.com/18-year-old-west...   \n",
       "2559  https://www.mypaperonline.com/millburn-residen...   \n",
       "2560  https://www.mypaperonline.com/category/the-mt-...   \n",
       "\n",
       "                                                   text  \n",
       "0     The Randolph News Archive  My Paper Online Hom...  \n",
       "1     Local News Archive  My Paper Online Home Discl...  \n",
       "2     Local Art Exhibit And Sale At CCM  My Paper On...  \n",
       "3     {version:1.0provider_name:My Paper Onlineprovi...  \n",
       "4     The Hackettstown News Archive  My Paper Online...  \n",
       "...                                                 ...  \n",
       "2556  Hauntings Around the Area for Halloween  My Pa...  \n",
       "2557  West Orange Resident Centenary Student Studies...  \n",
       "2558  18-Year-Old West Orange Teen Battles Cancer an...  \n",
       "2559  Millburn Resident Wins Award for Activism   My...  \n",
       "2560  The Mt. Olive News Archive  My Paper Online Ho...  \n",
       "\n",
       "[2561 rows x 5 columns]"
      ],
      "text/html": "<div>\n<style scoped>\n    .dataframe tbody tr th:only-of-type {\n        vertical-align: middle;\n    }\n\n    .dataframe tbody tr th {\n        vertical-align: top;\n    }\n\n    .dataframe thead th {\n        text-align: right;\n    }\n</style>\n<table border=\"1\" class=\"dataframe\">\n  <thead>\n    <tr style=\"text-align: right;\">\n      <th></th>\n      <th>Unnamed: 0</th>\n      <th>date</th>\n      <th>domain</th>\n      <th>url</th>\n      <th>text</th>\n    </tr>\n  </thead>\n  <tbody>\n    <tr>\n      <th>0</th>\n      <td>0</td>\n      <td>2019-09-30</td>\n      <td>www.mypaperonline.com</td>\n      <td>https://www.mypaperonline.com/category/the-ran...</td>\n      <td>The Randolph News Archive  My Paper Online Hom...</td>\n    </tr>\n    <tr>\n      <th>1</th>\n      <td>1</td>\n      <td>2019-10-01</td>\n      <td>www.mypaperonline.com</td>\n      <td>https://www.mypaperonline.com/category/local-n...</td>\n      <td>Local News Archive  My Paper Online Home Discl...</td>\n    </tr>\n    <tr>\n      <th>2</th>\n      <td>2</td>\n      <td>2019-10-01</td>\n      <td>www.mypaperonline.com</td>\n      <td>https://www.mypaperonline.com/local-art-exhibi...</td>\n      <td>Local Art Exhibit And Sale At CCM  My Paper On...</td>\n    </tr>\n    <tr>\n      <th>3</th>\n      <td>3</td>\n      <td>2019-10-01</td>\n      <td>www.mypaperonline.com</td>\n      <td>https://www.mypaperonline.com/wp-json/oembed/1...</td>\n      <td>{version:1.0provider_name:My Paper Onlineprovi...</td>\n    </tr>\n    <tr>\n      <th>4</th>\n      <td>4</td>\n      <td>2019-10-12</td>\n      <td>www.mypaperonline.com</td>\n      <td>https://www.mypaperonline.com/category/the-hac...</td>\n      <td>The Hackettstown News Archive  My Paper Online...</td>\n    </tr>\n    <tr>\n      <th>...</th>\n      <td>...</td>\n      <td>...</td>\n      <td>...</td>\n      <td>...</td>\n      <td>...</td>\n    </tr>\n    <tr>\n      <th>2556</th>\n      <td>4332</td>\n      <td>2019-10-12</td>\n      <td>www.mypaperonline.com</td>\n      <td>https://www.mypaperonline.com/hauntings-around...</td>\n      <td>Hauntings Around the Area for Halloween  My Pa...</td>\n    </tr>\n    <tr>\n      <th>2557</th>\n      <td>4333</td>\n      <td>2019-10-12</td>\n      <td>www.mypaperonline.com</td>\n      <td>https://www.mypaperonline.com/west-orange-resi...</td>\n      <td>West Orange Resident Centenary Student Studies...</td>\n    </tr>\n    <tr>\n      <th>2558</th>\n      <td>4334</td>\n      <td>2019-10-12</td>\n      <td>www.mypaperonline.com</td>\n      <td>https://www.mypaperonline.com/18-year-old-west...</td>\n      <td>18-Year-Old West Orange Teen Battles Cancer an...</td>\n    </tr>\n    <tr>\n      <th>2559</th>\n      <td>4335</td>\n      <td>2019-10-12</td>\n      <td>www.mypaperonline.com</td>\n      <td>https://www.mypaperonline.com/millburn-residen...</td>\n      <td>Millburn Resident Wins Award for Activism   My...</td>\n    </tr>\n    <tr>\n      <th>2560</th>\n      <td>4336</td>\n      <td>2019-11-01</td>\n      <td>www.mypaperonline.com</td>\n      <td>https://www.mypaperonline.com/category/the-mt-...</td>\n      <td>The Mt. Olive News Archive  My Paper Online Ho...</td>\n    </tr>\n  </tbody>\n</table>\n<p>2561 rows × 5 columns</p>\n</div>"
     },
     "metadata": {},
     "execution_count": 4
    }
   ],
   "source": [
    "data"
   ]
  },
  {
   "cell_type": "code",
   "execution_count": 76,
   "metadata": {
    "tags": []
   },
   "outputs": [],
   "source": [
    "\n",
    "def get_html(collection_id, name, data):\n",
    "\n",
    "    if not os.path.isdir(name):\n",
    "        os.mkdir(name)\n",
    "\n",
    "    ai_url = \"https://wayback.archive-it.org\"\n",
    "\n",
    "    date_list = pd.to_datetime(data['date'].unique())\n",
    "    urls = data['url'].unique()\n",
    "\n",
    "    ctr = 0\n",
    "\n",
    "    for url in urls:\n",
    "\n",
    "        ctr = ctr + 1\n",
    "\n",
    "        home = ai_url + '/' + str(collection_id) + '/*/' + url\n",
    "\n",
    "        page = requests.get(home)\n",
    "        soup = BeautifulSoup(page.content, \"lxml\")\n",
    "        alist = soup.find_all(\"a\")\n",
    "        alist = [a for a in alist if 'onclick' in a.attrs]\n",
    "        dates = [datetime.strptime(a.text, '%b %d, %Y') for a in alist]\n",
    "\n",
    "        for a in alist:\n",
    "\n",
    "            if 'onclick' in a.attrs and datetime.strptime(a.text, '%b %d, %Y') in date_list:\n",
    "                wp = requests.get('https:' + a.attrs['href'])\n",
    "                path = name + '/' + datetime.strptime(a.text, '%b %d, %Y').strftime('%Y%m%d') + '_' + ''.join(re.findall('(\\d+|[a-zA-Z]+|-|\\.)', url.split('/')[-1]))\n",
    "                print(path)\n",
    "                if not os.path.isfile(path):\n",
    "                    print('write')\n",
    "                    f = open(path, 'wb')\n",
    "                    f.write(wp.content)\n",
    "                    f.close()\n",
    "\n",
    "\n"
   ]
  },
  {
   "cell_type": "code",
   "execution_count": 79,
   "metadata": {
    "tags": [
     "outputPrepend"
    ]
   },
   "outputs": [
    {
     "output_type": "stream",
     "name": "stdout",
     "text": [
      "mypaper_full/20191008_embedurlhttps3A2F2Fwww.mypaperonline.com2Fthe-cartells.html\n",
      "mypaper_full/20191008_embedurlhttps3A2F2Fwww.mypaperonline.com2Fthe-cartells.html\n",
      "mypaper_full/20191012_embedurlhttps3A2F2Fwww.mypaperonline.com2Fthe-cartells.html\n",
      "write\n",
      "mypaper_full/20191012_embedurlhttps3A2F2Fwww.mypaperonline.com2Fthe-cartells.html\n",
      "mypaper_full/20191012_embedurlhttps3A2F2Fwww.mypaperonline.com2Fthe-cartells.html\n",
      "mypaper_full/20191012_embedurlhttps3A2F2Fwww.mypaperonline.com2Fthe-cartells.html\n",
      "mypaper_full/20191020_embedurlhttps3A2F2Fwww.mypaperonline.com2Fthe-cartells.html\n",
      "write\n",
      "mypaper_full/20191020_embedurlhttps3A2F2Fwww.mypaperonline.com2Fthe-cartells.html\n",
      "mypaper_full/20191020_embedurlhttps3A2F2Fwww.mypaperonline.com2Fthe-cartells.html\n",
      "mypaper_full/20191020_embedurlhttps3A2F2Fwww.mypaperonline.com2Fthe-cartells.html\n",
      "mypaper_full/20191024_embedurlhttps3A2F2Fwww.mypaperonline.com2Fthe-cartells.html\n",
      "write\n",
      "mypaper_full/20191024_embedurlhttps3A2F2Fwww.mypaperonline.com2Fthe-cartells.html\n",
      "mypaper_full/20191024_embedurlhttps3A2F2Fwww.mypaperonline.com2Fthe-cartells.html\n",
      "mypaper_full/20191030_embedurlhttps3A2F2Fwww.mypaperonline.com2Fthe-cartells.html\n",
      "write\n",
      "mypaper_full/20191030_embedurlhttps3A2F2Fwww.mypaperonline.com2Fthe-cartells.html\n",
      "mypaper_full/20191030_embedurlhttps3A2F2Fwww.mypaperonline.com2Fthe-cartells.html\n",
      "mypaper_full/20191111_embedurlhttps3A2F2Fwww.mypaperonline.com2Fthe-cartells.html\n",
      "write\n",
      "mypaper_full/20191111_embedurlhttps3A2F2Fwww.mypaperonline.com2Fthe-cartells.html\n",
      "mypaper_full/20191001_embedurlhttps3A2F2Fwww.mypaperonline.com2F200-club-of-morris-countys-valor-and-meritorious-awards-dinner-set-for-april-25.html\n",
      "write\n",
      "mypaper_full/20191008_embedurlhttps3A2F2Fwww.mypaperonline.com2F200-club-of-morris-countys-valor-and-meritorious-awards-dinner-set-for-april-25.html\n",
      "write\n",
      "mypaper_full/20191008_embedurlhttps3A2F2Fwww.mypaperonline.com2F200-club-of-morris-countys-valor-and-meritorious-awards-dinner-set-for-april-25.html\n",
      "mypaper_full/20191008_embedurlhttps3A2F2Fwww.mypaperonline.com2F200-club-of-morris-countys-valor-and-meritorious-awards-dinner-set-for-april-25.html\n",
      "mypaper_full/20191012_embedurlhttps3A2F2Fwww.mypaperonline.com2F200-club-of-morris-countys-valor-and-meritorious-awards-dinner-set-for-april-25.html\n",
      "write\n",
      "mypaper_full/20191012_embedurlhttps3A2F2Fwww.mypaperonline.com2F200-club-of-morris-countys-valor-and-meritorious-awards-dinner-set-for-april-25.html\n",
      "mypaper_full/20191012_embedurlhttps3A2F2Fwww.mypaperonline.com2F200-club-of-morris-countys-valor-and-meritorious-awards-dinner-set-for-april-25.html\n",
      "mypaper_full/20191020_embedurlhttps3A2F2Fwww.mypaperonline.com2F200-club-of-morris-countys-valor-and-meritorious-awards-dinner-set-for-april-25.html\n",
      "write\n",
      "mypaper_full/20191020_embedurlhttps3A2F2Fwww.mypaperonline.com2F200-club-of-morris-countys-valor-and-meritorious-awards-dinner-set-for-april-25.html\n",
      "mypaper_full/20191020_embedurlhttps3A2F2Fwww.mypaperonline.com2F200-club-of-morris-countys-valor-and-meritorious-awards-dinner-set-for-april-25.html\n",
      "mypaper_full/20191024_embedurlhttps3A2F2Fwww.mypaperonline.com2F200-club-of-morris-countys-valor-and-meritorious-awards-dinner-set-for-april-25.html\n",
      "write\n",
      "mypaper_full/20191024_embedurlhttps3A2F2Fwww.mypaperonline.com2F200-club-of-morris-countys-valor-and-meritorious-awards-dinner-set-for-april-25.html\n",
      "mypaper_full/20191024_embedurlhttps3A2F2Fwww.mypaperonline.com2F200-club-of-morris-countys-valor-and-meritorious-awards-dinner-set-for-april-25.html\n",
      "mypaper_full/20191030_embedurlhttps3A2F2Fwww.mypaperonline.com2F200-club-of-morris-countys-valor-and-meritorious-awards-dinner-set-for-april-25.html\n",
      "write\n",
      "mypaper_full/20191030_embedurlhttps3A2F2Fwww.mypaperonline.com2F200-club-of-morris-countys-valor-and-meritorious-awards-dinner-set-for-april-25.html\n",
      "mypaper_full/20191030_embedurlhttps3A2F2Fwww.mypaperonline.com2F200-club-of-morris-countys-valor-and-meritorious-awards-dinner-set-for-april-25.html\n",
      "mypaper_full/20191111_embedurlhttps3A2F2Fwww.mypaperonline.com2F200-club-of-morris-countys-valor-and-meritorious-awards-dinner-set-for-april-25.html\n",
      "write\n",
      "mypaper_full/20191111_embedurlhttps3A2F2Fwww.mypaperonline.com2F200-club-of-morris-countys-valor-and-meritorious-awards-dinner-set-for-april-25.html\n",
      "mypaper_full/20191001_embedurlhttps3A2F2Fwww.mypaperonline.com2Ffive-elegant-paint-ideas-to-update-your-home-for-the-holidays.html\n",
      "write\n",
      "mypaper_full/20191008_embedurlhttps3A2F2Fwww.mypaperonline.com2Ffive-elegant-paint-ideas-to-update-your-home-for-the-holidays.html\n",
      "write\n",
      "mypaper_full/20191008_embedurlhttps3A2F2Fwww.mypaperonline.com2Ffive-elegant-paint-ideas-to-update-your-home-for-the-holidays.html\n",
      "mypaper_full/20191012_embedurlhttps3A2F2Fwww.mypaperonline.com2Ffive-elegant-paint-ideas-to-update-your-home-for-the-holidays.html\n",
      "write\n",
      "mypaper_full/20191012_embedurlhttps3A2F2Fwww.mypaperonline.com2Ffive-elegant-paint-ideas-to-update-your-home-for-the-holidays.html\n",
      "mypaper_full/20191012_embedurlhttps3A2F2Fwww.mypaperonline.com2Ffive-elegant-paint-ideas-to-update-your-home-for-the-holidays.html\n",
      "mypaper_full/20191020_embedurlhttps3A2F2Fwww.mypaperonline.com2Ffive-elegant-paint-ideas-to-update-your-home-for-the-holidays.html\n",
      "write\n",
      "mypaper_full/20191020_embedurlhttps3A2F2Fwww.mypaperonline.com2Ffive-elegant-paint-ideas-to-update-your-home-for-the-holidays.html\n",
      "mypaper_full/20191020_embedurlhttps3A2F2Fwww.mypaperonline.com2Ffive-elegant-paint-ideas-to-update-your-home-for-the-holidays.html\n",
      "mypaper_full/20191024_embedurlhttps3A2F2Fwww.mypaperonline.com2Ffive-elegant-paint-ideas-to-update-your-home-for-the-holidays.html\n",
      "write\n",
      "mypaper_full/20191024_embedurlhttps3A2F2Fwww.mypaperonline.com2Ffive-elegant-paint-ideas-to-update-your-home-for-the-holidays.html\n",
      "mypaper_full/20191024_embedurlhttps3A2F2Fwww.mypaperonline.com2Ffive-elegant-paint-ideas-to-update-your-home-for-the-holidays.html\n",
      "mypaper_full/20191030_embedurlhttps3A2F2Fwww.mypaperonline.com2Ffive-elegant-paint-ideas-to-update-your-home-for-the-holidays.html\n",
      "write\n",
      "mypaper_full/20191030_embedurlhttps3A2F2Fwww.mypaperonline.com2Ffive-elegant-paint-ideas-to-update-your-home-for-the-holidays.html\n",
      "mypaper_full/20191030_embedurlhttps3A2F2Fwww.mypaperonline.com2Ffive-elegant-paint-ideas-to-update-your-home-for-the-holidays.html\n",
      "mypaper_full/20191111_embedurlhttps3A2F2Fwww.mypaperonline.com2Ffive-elegant-paint-ideas-to-update-your-home-for-the-holidays.html\n",
      "write\n",
      "mypaper_full/20191111_embedurlhttps3A2F2Fwww.mypaperonline.com2Ffive-elegant-paint-ideas-to-update-your-home-for-the-holidays.html\n",
      "mypaper_full/20191001_embedurlhttps3A2F2Fwww.mypaperonline.com2Fbring-a-celebrity-to-school-by-showing-your-calculator-love.html\n",
      "write\n",
      "mypaper_full/20191008_embedurlhttps3A2F2Fwww.mypaperonline.com2Fbring-a-celebrity-to-school-by-showing-your-calculator-love.html\n",
      "write\n",
      "mypaper_full/20191008_embedurlhttps3A2F2Fwww.mypaperonline.com2Fbring-a-celebrity-to-school-by-showing-your-calculator-love.html\n",
      "mypaper_full/20191008_embedurlhttps3A2F2Fwww.mypaperonline.com2Fbring-a-celebrity-to-school-by-showing-your-calculator-love.html\n",
      "mypaper_full/20191008_embedurlhttps3A2F2Fwww.mypaperonline.com2Fbring-a-celebrity-to-school-by-showing-your-calculator-love.html\n",
      "mypaper_full/20191012_embedurlhttps3A2F2Fwww.mypaperonline.com2Fbring-a-celebrity-to-school-by-showing-your-calculator-love.html\n",
      "write\n",
      "mypaper_full/20191012_embedurlhttps3A2F2Fwww.mypaperonline.com2Fbring-a-celebrity-to-school-by-showing-your-calculator-love.html\n",
      "mypaper_full/20191012_embedurlhttps3A2F2Fwww.mypaperonline.com2Fbring-a-celebrity-to-school-by-showing-your-calculator-love.html\n",
      "mypaper_full/20191012_embedurlhttps3A2F2Fwww.mypaperonline.com2Fbring-a-celebrity-to-school-by-showing-your-calculator-love.html\n",
      "mypaper_full/20191020_embedurlhttps3A2F2Fwww.mypaperonline.com2Fbring-a-celebrity-to-school-by-showing-your-calculator-love.html\n",
      "write\n",
      "mypaper_full/20191020_embedurlhttps3A2F2Fwww.mypaperonline.com2Fbring-a-celebrity-to-school-by-showing-your-calculator-love.html\n",
      "mypaper_full/20191020_embedurlhttps3A2F2Fwww.mypaperonline.com2Fbring-a-celebrity-to-school-by-showing-your-calculator-love.html\n",
      "mypaper_full/20191020_embedurlhttps3A2F2Fwww.mypaperonline.com2Fbring-a-celebrity-to-school-by-showing-your-calculator-love.html\n",
      "mypaper_full/20191024_embedurlhttps3A2F2Fwww.mypaperonline.com2Fbring-a-celebrity-to-school-by-showing-your-calculator-love.html\n",
      "write\n",
      "mypaper_full/20191024_embedurlhttps3A2F2Fwww.mypaperonline.com2Fbring-a-celebrity-to-school-by-showing-your-calculator-love.html\n",
      "mypaper_full/20191024_embedurlhttps3A2F2Fwww.mypaperonline.com2Fbring-a-celebrity-to-school-by-showing-your-calculator-love.html\n",
      "mypaper_full/20191030_embedurlhttps3A2F2Fwww.mypaperonline.com2Fbring-a-celebrity-to-school-by-showing-your-calculator-love.html\n",
      "write\n",
      "mypaper_full/20191030_embedurlhttps3A2F2Fwww.mypaperonline.com2Fbring-a-celebrity-to-school-by-showing-your-calculator-love.html\n",
      "mypaper_full/20191030_embedurlhttps3A2F2Fwww.mypaperonline.com2Fbring-a-celebrity-to-school-by-showing-your-calculator-love.html\n",
      "mypaper_full/20191111_embedurlhttps3A2F2Fwww.mypaperonline.com2Fbring-a-celebrity-to-school-by-showing-your-calculator-love.html\n",
      "write\n",
      "mypaper_full/20191111_embedurlhttps3A2F2Fwww.mypaperonline.com2Fbring-a-celebrity-to-school-by-showing-your-calculator-love.html\n",
      "mypaper_full/20191111_embedurlhttps3A2F2Fwww.mypaperonline.com2Fbring-a-celebrity-to-school-by-showing-your-calculator-love.html\n",
      "mypaper_full/20191001_\n",
      "mypaper_full/20191008_\n",
      "mypaper_full/20191008_\n",
      "mypaper_full/20191008_\n",
      "mypaper_full/20191008_\n",
      "mypaper_full/20191012_\n",
      "mypaper_full/20191012_\n",
      "mypaper_full/20191012_\n",
      "mypaper_full/20191012_\n",
      "mypaper_full/20191012_\n",
      "mypaper_full/20191020_\n",
      "mypaper_full/20191020_\n",
      "mypaper_full/20191020_\n",
      "mypaper_full/20191020_\n",
      "mypaper_full/20191024_\n",
      "mypaper_full/20191024_\n",
      "mypaper_full/20191024_\n",
      "mypaper_full/20191024_\n",
      "mypaper_full/20191024_\n",
      "mypaper_full/20191030_\n",
      "mypaper_full/20191030_\n",
      "mypaper_full/20191030_\n",
      "mypaper_full/20191030_\n",
      "mypaper_full/20191111_\n",
      "mypaper_full/20191111_\n",
      "mypaper_full/20191111_\n",
      "mypaper_full/20191111_\n"
     ]
    }
   ],
   "source": [
    "get_html(12706, 'mypaper_full', data)"
   ]
  },
  {
   "cell_type": "code",
   "execution_count": 5,
   "metadata": {
    "tags": []
   },
   "outputs": [],
   "source": [
    "\n",
    "data['morristown'] = None\n",
    "\n",
    "for index, row in data.iterrows():\n",
    "\n",
    "    path = 'mypaper_full/' + ''.join(re.findall('\\d+', row.date)) + '_' + ''.join(re.findall('(\\d+|[a-zA-Z]+|-|\\.)', row.url.split('/')[-1]))\n",
    "\n",
    "    try:\n",
    "        f = open(path, 'rb')\n",
    "        html = f.read()\n",
    "    except:\n",
    "        raise Exception('nope')\n",
    "\n",
    "    try:\n",
    "        soup = BeautifulSoup(html, \"lxml\")\n",
    "        article = soup.find('article').attrs['class']\n",
    "    except:\n",
    "        article = []\n",
    "        data.at[index, 'morristown'] = 0\n",
    "    \n",
    "    if 'category-the-morristown-news' in article:\n",
    "        data.at[index, 'morristown'] = 1\n",
    "    else:\n",
    "        data.at[index, 'morristown'] = 0\n",
    "\n"
   ]
  },
  {
   "cell_type": "code",
   "execution_count": 81,
   "metadata": {},
   "outputs": [
    {
     "output_type": "display_data",
     "data": {
      "text/plain": "      Unnamed: 0        date                 domain  \\\n0              0  2019-09-30  www.mypaperonline.com   \n1              1  2019-10-01  www.mypaperonline.com   \n2              2  2019-10-01  www.mypaperonline.com   \n3              3  2019-10-01  www.mypaperonline.com   \n4              4  2019-10-12  www.mypaperonline.com   \n...          ...         ...                    ...   \n2556        4332  2019-10-12  www.mypaperonline.com   \n2557        4333  2019-10-12  www.mypaperonline.com   \n2558        4334  2019-10-12  www.mypaperonline.com   \n2559        4335  2019-10-12  www.mypaperonline.com   \n2560        4336  2019-11-01  www.mypaperonline.com   \n\n                                                    url  \\\n0     https://www.mypaperonline.com/category/the-ran...   \n1     https://www.mypaperonline.com/category/local-n...   \n2     https://www.mypaperonline.com/local-art-exhibi...   \n3     https://www.mypaperonline.com/wp-json/oembed/1...   \n4     https://www.mypaperonline.com/category/the-hac...   \n...                                                 ...   \n2556  https://www.mypaperonline.com/hauntings-around...   \n2557  https://www.mypaperonline.com/west-orange-resi...   \n2558  https://www.mypaperonline.com/18-year-old-west...   \n2559  https://www.mypaperonline.com/millburn-residen...   \n2560  https://www.mypaperonline.com/category/the-mt-...   \n\n                                                   text morristown  \n0     The Randolph News Archive  My Paper Online Hom...          0  \n1     Local News Archive  My Paper Online Home Discl...          1  \n2     Local Art Exhibit And Sale At CCM  My Paper On...          0  \n3     {version:1.0provider_name:My Paper Onlineprovi...          0  \n4     The Hackettstown News Archive  My Paper Online...          0  \n...                                                 ...        ...  \n2556  Hauntings Around the Area for Halloween  My Pa...          1  \n2557  West Orange Resident Centenary Student Studies...          0  \n2558  18-Year-Old West Orange Teen Battles Cancer an...          0  \n2559  Millburn Resident Wins Award for Activism   My...          0  \n2560  The Mt. Olive News Archive  My Paper Online Ho...          0  \n\n[2561 rows x 6 columns]",
      "text/html": "<div>\n<style scoped>\n    .dataframe tbody tr th:only-of-type {\n        vertical-align: middle;\n    }\n\n    .dataframe tbody tr th {\n        vertical-align: top;\n    }\n\n    .dataframe thead th {\n        text-align: right;\n    }\n</style>\n<table border=\"1\" class=\"dataframe\">\n  <thead>\n    <tr style=\"text-align: right;\">\n      <th></th>\n      <th>Unnamed: 0</th>\n      <th>date</th>\n      <th>domain</th>\n      <th>url</th>\n      <th>text</th>\n      <th>morristown</th>\n    </tr>\n  </thead>\n  <tbody>\n    <tr>\n      <th>0</th>\n      <td>0</td>\n      <td>2019-09-30</td>\n      <td>www.mypaperonline.com</td>\n      <td>https://www.mypaperonline.com/category/the-ran...</td>\n      <td>The Randolph News Archive  My Paper Online Hom...</td>\n      <td>0</td>\n    </tr>\n    <tr>\n      <th>1</th>\n      <td>1</td>\n      <td>2019-10-01</td>\n      <td>www.mypaperonline.com</td>\n      <td>https://www.mypaperonline.com/category/local-n...</td>\n      <td>Local News Archive  My Paper Online Home Discl...</td>\n      <td>1</td>\n    </tr>\n    <tr>\n      <th>2</th>\n      <td>2</td>\n      <td>2019-10-01</td>\n      <td>www.mypaperonline.com</td>\n      <td>https://www.mypaperonline.com/local-art-exhibi...</td>\n      <td>Local Art Exhibit And Sale At CCM  My Paper On...</td>\n      <td>0</td>\n    </tr>\n    <tr>\n      <th>3</th>\n      <td>3</td>\n      <td>2019-10-01</td>\n      <td>www.mypaperonline.com</td>\n      <td>https://www.mypaperonline.com/wp-json/oembed/1...</td>\n      <td>{version:1.0provider_name:My Paper Onlineprovi...</td>\n      <td>0</td>\n    </tr>\n    <tr>\n      <th>4</th>\n      <td>4</td>\n      <td>2019-10-12</td>\n      <td>www.mypaperonline.com</td>\n      <td>https://www.mypaperonline.com/category/the-hac...</td>\n      <td>The Hackettstown News Archive  My Paper Online...</td>\n      <td>0</td>\n    </tr>\n    <tr>\n      <th>...</th>\n      <td>...</td>\n      <td>...</td>\n      <td>...</td>\n      <td>...</td>\n      <td>...</td>\n      <td>...</td>\n    </tr>\n    <tr>\n      <th>2556</th>\n      <td>4332</td>\n      <td>2019-10-12</td>\n      <td>www.mypaperonline.com</td>\n      <td>https://www.mypaperonline.com/hauntings-around...</td>\n      <td>Hauntings Around the Area for Halloween  My Pa...</td>\n      <td>1</td>\n    </tr>\n    <tr>\n      <th>2557</th>\n      <td>4333</td>\n      <td>2019-10-12</td>\n      <td>www.mypaperonline.com</td>\n      <td>https://www.mypaperonline.com/west-orange-resi...</td>\n      <td>West Orange Resident Centenary Student Studies...</td>\n      <td>0</td>\n    </tr>\n    <tr>\n      <th>2558</th>\n      <td>4334</td>\n      <td>2019-10-12</td>\n      <td>www.mypaperonline.com</td>\n      <td>https://www.mypaperonline.com/18-year-old-west...</td>\n      <td>18-Year-Old West Orange Teen Battles Cancer an...</td>\n      <td>0</td>\n    </tr>\n    <tr>\n      <th>2559</th>\n      <td>4335</td>\n      <td>2019-10-12</td>\n      <td>www.mypaperonline.com</td>\n      <td>https://www.mypaperonline.com/millburn-residen...</td>\n      <td>Millburn Resident Wins Award for Activism   My...</td>\n      <td>0</td>\n    </tr>\n    <tr>\n      <th>2560</th>\n      <td>4336</td>\n      <td>2019-11-01</td>\n      <td>www.mypaperonline.com</td>\n      <td>https://www.mypaperonline.com/category/the-mt-...</td>\n      <td>The Mt. Olive News Archive  My Paper Online Ho...</td>\n      <td>0</td>\n    </tr>\n  </tbody>\n</table>\n<p>2561 rows × 6 columns</p>\n</div>"
     },
     "metadata": {}
    }
   ],
   "source": [
    "display(data)"
   ]
  },
  {
   "cell_type": "code",
   "execution_count": 83,
   "metadata": {},
   "outputs": [],
   "source": [
    "data.to_csv('labeled.csv')"
   ]
  },
  {
   "cell_type": "code",
   "execution_count": 4,
   "metadata": {},
   "outputs": [],
   "source": [
    "labeled = pd.read_csv('labeled.csv')"
   ]
  },
  {
   "cell_type": "code",
   "execution_count": 7,
   "metadata": {},
   "outputs": [],
   "source": [
    "morristown_news = labeled[(labeled.url.str.contains('https://www.mypaperonline.com/category/the-morristown-news') == True) | (labeled.morristown == 1)]"
   ]
  },
  {
   "cell_type": "code",
   "execution_count": 8,
   "metadata": {},
   "outputs": [],
   "source": [
    "morristown_news.to_csv('morristown.csv')"
   ]
  }
 ]
}