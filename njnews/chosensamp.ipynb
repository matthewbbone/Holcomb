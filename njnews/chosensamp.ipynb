{
 "metadata": {
  "language_info": {
   "codemirror_mode": {
    "name": "ipython",
    "version": 3
   },
   "file_extension": ".py",
   "mimetype": "text/x-python",
   "name": "python",
   "nbconvert_exporter": "python",
   "pygments_lexer": "ipython3",
   "version": "3.7.9-final"
  },
  "orig_nbformat": 2,
  "kernelspec": {
   "name": "python3",
   "display_name": "Python 3.7.9 64-bit ('holcombEnv': conda)",
   "metadata": {
    "interpreter": {
     "hash": "044a0165a1a561273ca818f13158b4edea630051cf64f3770cf4dedc4e818f34"
    }
   }
  }
 },
 "nbformat": 4,
 "nbformat_minor": 2,
 "cells": [
  {
   "cell_type": "code",
   "execution_count": 39,
   "metadata": {},
   "outputs": [],
   "source": [
    "import pandas as pd\n",
    "import numpy as np\n",
    "import re\n",
    "from datetime import datetime as dt\n",
    "import time as tm"
   ]
  },
  {
   "cell_type": "code",
   "execution_count": 40,
   "metadata": {},
   "outputs": [],
   "source": [
    "# list of dates for extraction, formatted as dates are in the dataset\n",
    "dates = ['20191013', # none\n",
    "         '20191104', # none\n",
    "         '20191001', # yes\n",
    "         '20191030', # yes\n",
    "         '20191024', # yes\n",
    "         '20190927', # none\n",
    "         '20191012', # yes\n",
    "         '20190930', # yes\n",
    "         '20191002', # none\n",
    "         '20191003', # none\n",
    "         '20191004'] # none\n",
    "\n",
    "# domain names for extraction, will filter www.mypaperonline.com by \n",
    "# \"/category/the-morristown-news\" after initial extraction\n",
    "doms = ['www.mypaperonline.com',\n",
    "        'www.newbrunswicktoday.com',\n",
    "        'www.newarkblack.com']\n",
    "\n",
    "chars_to_remove = \",^\\()|\\\"\""
   ]
  },
  {
   "cell_type": "code",
   "execution_count": 46,
   "metadata": {},
   "outputs": [],
   "source": [
    "# save start time for timing extraction\n",
    "start = tm.time()\n",
    "\n",
    "# initialize dataframe\n",
    "sample = pd.DataFrame(columns = ['date','domain','url','text'])\n",
    "all_dates = pd.DataFrame(columns = ['date','domain','url','text'])\n",
    "\n",
    "# open 12706-fulltext.txt file for reading\n",
    "with open('12706-fulltext.txt', 'rb') as raw:\n",
    "\n",
    "    # read first line\n",
    "    line = raw.readline()\n",
    "\n",
    "    # check if each line matches a date and a domain\n",
    "    while line:\n",
    "        # split line by first 3 commas\n",
    "        key = line.decode('UTF-8').split(',', 3)\n",
    "        # remove non-numeric characters from the date\n",
    "        key[0] = re.sub('[^0-9]', '', key[0])\n",
    "\n",
    "        if key[1] in doms:\n",
    "            all_dates = all_dates.append({'date': key[0], 'domain': key[1], 'url': key[2], 'text': key[3]}, ignore_index=True)\n",
    "            if key [0] in dates:\n",
    "                sample = sample.append({'date': key[0], 'domain': key[1], 'url': key[2], 'text': key[3]}, ignore_index=True)\n",
    "                \n",
    "        # read next line\n",
    "        line = raw.readline()\n",
    "\n",
    "# take time difference\n",
    "total = tm.time() - start"
   ]
  },
  {
   "cell_type": "code",
   "execution_count": 47,
   "metadata": {},
   "outputs": [],
   "source": [
    "# remove problematic characters from text\n",
    "text = [s.translate ({ord(c): \"\" for c in chars_to_remove}) for s in sample['text']]\n",
    "text_ad = [s.translate ({ord(c): \"\" for c in chars_to_remove}) for s in all_dates['text']]\n",
    "# replace old text with cleaned text\n",
    "sample = sample.assign(text = text)\n",
    "all_dates = all_dates.assign(text = text_ad)\n",
    "# convert date to standard format\n",
    "sample['date'] = pd.to_datetime(sample['date'])\n",
    "all_dates['date'] = pd.to_datetime(all_dates['date'])"
   ]
  },
  {
   "cell_type": "code",
   "execution_count": 48,
   "metadata": {},
   "outputs": [
    {
     "output_type": "stream",
     "name": "stdout",
     "text": [
      "for chosen sample, extracted 2457 articles in 68 seconds\nfor all dates, extracted 5213 articles in 68 seconds\nchosen sample:\n"
     ]
    },
    {
     "output_type": "display_data",
     "data": {
      "text/plain": "           date                 domain  \\\n0    2019-09-30  www.mypaperonline.com   \n1    2019-10-01  www.mypaperonline.com   \n2    2019-10-01  www.mypaperonline.com   \n3    2019-10-01  www.mypaperonline.com   \n4    2019-10-12  www.mypaperonline.com   \n...         ...                    ...   \n2452 2019-10-12  www.mypaperonline.com   \n2453 2019-10-12  www.mypaperonline.com   \n2454 2019-10-12  www.mypaperonline.com   \n2455 2019-10-12  www.mypaperonline.com   \n2456 2019-10-12  www.mypaperonline.com   \n\n                                                    url  \\\n0     https://www.mypaperonline.com/category/the-ran...   \n1     https://www.mypaperonline.com/category/local-n...   \n2     https://www.mypaperonline.com/local-art-exhibi...   \n3     https://www.mypaperonline.com/wp-json/oembed/1...   \n4     https://www.mypaperonline.com/category/the-hac...   \n...                                                 ...   \n2452  https://www.mypaperonline.com/category/local-n...   \n2453  https://www.mypaperonline.com/hauntings-around...   \n2454  https://www.mypaperonline.com/west-orange-resi...   \n2455  https://www.mypaperonline.com/18-year-old-west...   \n2456  https://www.mypaperonline.com/millburn-residen...   \n\n                                                   text  \n0     The Randolph News Archive  My Paper Online Hom...  \n1     Local News Archive  My Paper Online Home Discl...  \n2     Local Art Exhibit And Sale At CCM  My Paper On...  \n3     {version:1.0provider_name:My Paper Onlineprovi...  \n4     The Hackettstown News Archive  My Paper Online...  \n...                                                 ...  \n2452  Local News Archive  My Paper Online Home Discl...  \n2453  Hauntings Around the Area for Halloween  My Pa...  \n2454  West Orange Resident Centenary Student Studies...  \n2455  18-Year-Old West Orange Teen Battles Cancer an...  \n2456  Millburn Resident Wins Award for Activism   My...  \n\n[2457 rows x 4 columns]",
      "text/html": "<div>\n<style scoped>\n    .dataframe tbody tr th:only-of-type {\n        vertical-align: middle;\n    }\n\n    .dataframe tbody tr th {\n        vertical-align: top;\n    }\n\n    .dataframe thead th {\n        text-align: right;\n    }\n</style>\n<table border=\"1\" class=\"dataframe\">\n  <thead>\n    <tr style=\"text-align: right;\">\n      <th></th>\n      <th>date</th>\n      <th>domain</th>\n      <th>url</th>\n      <th>text</th>\n    </tr>\n  </thead>\n  <tbody>\n    <tr>\n      <th>0</th>\n      <td>2019-09-30</td>\n      <td>www.mypaperonline.com</td>\n      <td>https://www.mypaperonline.com/category/the-ran...</td>\n      <td>The Randolph News Archive  My Paper Online Hom...</td>\n    </tr>\n    <tr>\n      <th>1</th>\n      <td>2019-10-01</td>\n      <td>www.mypaperonline.com</td>\n      <td>https://www.mypaperonline.com/category/local-n...</td>\n      <td>Local News Archive  My Paper Online Home Discl...</td>\n    </tr>\n    <tr>\n      <th>2</th>\n      <td>2019-10-01</td>\n      <td>www.mypaperonline.com</td>\n      <td>https://www.mypaperonline.com/local-art-exhibi...</td>\n      <td>Local Art Exhibit And Sale At CCM  My Paper On...</td>\n    </tr>\n    <tr>\n      <th>3</th>\n      <td>2019-10-01</td>\n      <td>www.mypaperonline.com</td>\n      <td>https://www.mypaperonline.com/wp-json/oembed/1...</td>\n      <td>{version:1.0provider_name:My Paper Onlineprovi...</td>\n    </tr>\n    <tr>\n      <th>4</th>\n      <td>2019-10-12</td>\n      <td>www.mypaperonline.com</td>\n      <td>https://www.mypaperonline.com/category/the-hac...</td>\n      <td>The Hackettstown News Archive  My Paper Online...</td>\n    </tr>\n    <tr>\n      <th>...</th>\n      <td>...</td>\n      <td>...</td>\n      <td>...</td>\n      <td>...</td>\n    </tr>\n    <tr>\n      <th>2452</th>\n      <td>2019-10-12</td>\n      <td>www.mypaperonline.com</td>\n      <td>https://www.mypaperonline.com/category/local-n...</td>\n      <td>Local News Archive  My Paper Online Home Discl...</td>\n    </tr>\n    <tr>\n      <th>2453</th>\n      <td>2019-10-12</td>\n      <td>www.mypaperonline.com</td>\n      <td>https://www.mypaperonline.com/hauntings-around...</td>\n      <td>Hauntings Around the Area for Halloween  My Pa...</td>\n    </tr>\n    <tr>\n      <th>2454</th>\n      <td>2019-10-12</td>\n      <td>www.mypaperonline.com</td>\n      <td>https://www.mypaperonline.com/west-orange-resi...</td>\n      <td>West Orange Resident Centenary Student Studies...</td>\n    </tr>\n    <tr>\n      <th>2455</th>\n      <td>2019-10-12</td>\n      <td>www.mypaperonline.com</td>\n      <td>https://www.mypaperonline.com/18-year-old-west...</td>\n      <td>18-Year-Old West Orange Teen Battles Cancer an...</td>\n    </tr>\n    <tr>\n      <th>2456</th>\n      <td>2019-10-12</td>\n      <td>www.mypaperonline.com</td>\n      <td>https://www.mypaperonline.com/millburn-residen...</td>\n      <td>Millburn Resident Wins Award for Activism   My...</td>\n    </tr>\n  </tbody>\n</table>\n<p>2457 rows × 4 columns</p>\n</div>"
     },
     "metadata": {}
    },
    {
     "output_type": "stream",
     "name": "stdout",
     "text": [
      "all dates:\n"
     ]
    },
    {
     "output_type": "display_data",
     "data": {
      "text/plain": "           date                 domain  \\\n0    2019-09-30  www.mypaperonline.com   \n1    2019-10-01  www.mypaperonline.com   \n2    2019-10-01  www.mypaperonline.com   \n3    2019-10-01  www.mypaperonline.com   \n4    2019-10-12  www.mypaperonline.com   \n...         ...                    ...   \n5208 2019-10-12  www.mypaperonline.com   \n5209 2019-11-01  www.mypaperonline.com   \n5210 2019-11-02  www.mypaperonline.com   \n5211 2019-11-02  www.mypaperonline.com   \n5212 2019-11-02  www.mypaperonline.com   \n\n                                                    url  \\\n0     https://www.mypaperonline.com/category/the-ran...   \n1     https://www.mypaperonline.com/category/local-n...   \n2     https://www.mypaperonline.com/local-art-exhibi...   \n3     https://www.mypaperonline.com/wp-json/oembed/1...   \n4     https://www.mypaperonline.com/category/the-hac...   \n...                                                 ...   \n5208  https://www.mypaperonline.com/millburn-residen...   \n5209  https://www.mypaperonline.com/category/the-mt-...   \n5210  https://www.mypaperonline.com/category/local-n...   \n5211  https://www.mypaperonline.com/four-tips-for-a-...   \n5212    https://www.mypaperonline.com/test-video-2.html   \n\n                                                   text  \n0     The Randolph News Archive  My Paper Online Hom...  \n1     Local News Archive  My Paper Online Home Discl...  \n2     Local Art Exhibit And Sale At CCM  My Paper On...  \n3     {version:1.0provider_name:My Paper Onlineprovi...  \n4     The Hackettstown News Archive  My Paper Online...  \n...                                                 ...  \n5208  Millburn Resident Wins Award for Activism   My...  \n5209  The Mt. Olive News Archive  My Paper Online Ho...  \n5210  Local News Archive  My Paper Online Home Discl...  \n5211  Four Tips For A Safe Holiday Season  My Paper ...  \n5212  How to Make Cranberry Hootycreeks  My Paper On...  \n\n[5213 rows x 4 columns]",
      "text/html": "<div>\n<style scoped>\n    .dataframe tbody tr th:only-of-type {\n        vertical-align: middle;\n    }\n\n    .dataframe tbody tr th {\n        vertical-align: top;\n    }\n\n    .dataframe thead th {\n        text-align: right;\n    }\n</style>\n<table border=\"1\" class=\"dataframe\">\n  <thead>\n    <tr style=\"text-align: right;\">\n      <th></th>\n      <th>date</th>\n      <th>domain</th>\n      <th>url</th>\n      <th>text</th>\n    </tr>\n  </thead>\n  <tbody>\n    <tr>\n      <th>0</th>\n      <td>2019-09-30</td>\n      <td>www.mypaperonline.com</td>\n      <td>https://www.mypaperonline.com/category/the-ran...</td>\n      <td>The Randolph News Archive  My Paper Online Hom...</td>\n    </tr>\n    <tr>\n      <th>1</th>\n      <td>2019-10-01</td>\n      <td>www.mypaperonline.com</td>\n      <td>https://www.mypaperonline.com/category/local-n...</td>\n      <td>Local News Archive  My Paper Online Home Discl...</td>\n    </tr>\n    <tr>\n      <th>2</th>\n      <td>2019-10-01</td>\n      <td>www.mypaperonline.com</td>\n      <td>https://www.mypaperonline.com/local-art-exhibi...</td>\n      <td>Local Art Exhibit And Sale At CCM  My Paper On...</td>\n    </tr>\n    <tr>\n      <th>3</th>\n      <td>2019-10-01</td>\n      <td>www.mypaperonline.com</td>\n      <td>https://www.mypaperonline.com/wp-json/oembed/1...</td>\n      <td>{version:1.0provider_name:My Paper Onlineprovi...</td>\n    </tr>\n    <tr>\n      <th>4</th>\n      <td>2019-10-12</td>\n      <td>www.mypaperonline.com</td>\n      <td>https://www.mypaperonline.com/category/the-hac...</td>\n      <td>The Hackettstown News Archive  My Paper Online...</td>\n    </tr>\n    <tr>\n      <th>...</th>\n      <td>...</td>\n      <td>...</td>\n      <td>...</td>\n      <td>...</td>\n    </tr>\n    <tr>\n      <th>5208</th>\n      <td>2019-10-12</td>\n      <td>www.mypaperonline.com</td>\n      <td>https://www.mypaperonline.com/millburn-residen...</td>\n      <td>Millburn Resident Wins Award for Activism   My...</td>\n    </tr>\n    <tr>\n      <th>5209</th>\n      <td>2019-11-01</td>\n      <td>www.mypaperonline.com</td>\n      <td>https://www.mypaperonline.com/category/the-mt-...</td>\n      <td>The Mt. Olive News Archive  My Paper Online Ho...</td>\n    </tr>\n    <tr>\n      <th>5210</th>\n      <td>2019-11-02</td>\n      <td>www.mypaperonline.com</td>\n      <td>https://www.mypaperonline.com/category/local-n...</td>\n      <td>Local News Archive  My Paper Online Home Discl...</td>\n    </tr>\n    <tr>\n      <th>5211</th>\n      <td>2019-11-02</td>\n      <td>www.mypaperonline.com</td>\n      <td>https://www.mypaperonline.com/four-tips-for-a-...</td>\n      <td>Four Tips For A Safe Holiday Season  My Paper ...</td>\n    </tr>\n    <tr>\n      <th>5212</th>\n      <td>2019-11-02</td>\n      <td>www.mypaperonline.com</td>\n      <td>https://www.mypaperonline.com/test-video-2.html</td>\n      <td>How to Make Cranberry Hootycreeks  My Paper On...</td>\n    </tr>\n  </tbody>\n</table>\n<p>5213 rows × 4 columns</p>\n</div>"
     },
     "metadata": {}
    }
   ],
   "source": [
    "print('for chosen sample, extracted ' + str(len(sample)) + ' articles in ' + str(round(total)) + ' seconds')\n",
    "print('for all dates, extracted ' + str(len(all_dates)) + ' articles in ' + str(round(total)) + ' seconds')\n",
    "# this data includes all www.mypaperonline.com webpages from the given dates\n",
    "print(\"chosen sample:\")\n",
    "display(sample)\n",
    "print(\"all dates:\")\n",
    "display(all_dates)"
   ]
  },
  {
   "cell_type": "code",
   "execution_count": 51,
   "metadata": {},
   "outputs": [
    {
     "output_type": "stream",
     "name": "stdout",
     "text": [
      "846 articles left after filtering in chosen sample\n1448 articles left after filtering in all dates\n"
     ]
    }
   ],
   "source": [
    "# filter out www.mypaperonline.com sites that don't have \"/category/the-morristown-news\" in it's whole url\n",
    "filtered_sample = sample[(sample.url.str.contains('www.mypaperonline.com') == False) | (sample.url.str.contains('/category/the-morristown-news') == True)]\n",
    "filtered_all_dates = all_dates[(all_dates.url.str.contains('www.mypaperonline.com') == False) | (all_dates.url.str.contains('/category/the-morristown-news') == True)]\n",
    "print(str(len(filtered_sample)) + ' articles left after filtering in chosen sample')\n",
    "print(str(len(filtered_all_dates)) + ' articles left after filtering in all dates')"
   ]
  },
  {
   "cell_type": "code",
   "execution_count": 52,
   "metadata": {},
   "outputs": [],
   "source": [
    "# save dataframe to file\n",
    "filtered_sample.to_csv('chosensamp.csv', index=False)\n",
    "filtered_all_dates.to_csv('all_dates.csv', index=False)"
   ]
  },
  {
   "cell_type": "code",
   "execution_count": null,
   "metadata": {},
   "outputs": [],
   "source": []
  }
 ]
}