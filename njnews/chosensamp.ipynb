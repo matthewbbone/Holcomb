{
 "metadata": {
  "language_info": {
   "codemirror_mode": {
    "name": "ipython",
    "version": 3
   },
   "file_extension": ".py",
   "mimetype": "text/x-python",
   "name": "python",
   "nbconvert_exporter": "python",
   "pygments_lexer": "ipython3",
   "version": "3.7.9"
  },
  "orig_nbformat": 2,
  "kernelspec": {
   "name": "python379jvsc74a57bd0044a0165a1a561273ca818f13158b4edea630051cf64f3770cf4dedc4e818f34",
   "display_name": "Python 3.7.9 64-bit ('holcombEnv': conda)"
  }
 },
 "nbformat": 4,
 "nbformat_minor": 2,
 "cells": [
  {
   "cell_type": "code",
   "execution_count": 78,
   "metadata": {},
   "outputs": [],
   "source": [
    "import pandas as pd\n",
    "import requests\n",
    "import numpy as np\n",
    "import re\n",
    "from datetime import datetime as dt\n",
    "from bs4 import BeautifulSoup, element\n",
    "import time as tm\n",
    "import os"
   ]
  },
  {
   "cell_type": "code",
   "execution_count": 79,
   "metadata": {},
   "outputs": [],
   "source": [
    "# list of dates for extraction, formatted as dates are in the dataset\n",
    "# dates = ['', # none\n",
    "#          '20191104', # none\n",
    "#          '20191001', # yes\n",
    "#          '20191030', # yes\n",
    "#          '20191024', # yes\n",
    "#          '20190927', # none\n",
    "#          '20191012', # yes\n",
    "#          '20190930', # yes\n",
    "#          '20191002', # none\n",
    "#          '20191003', # none\n",
    "#          '20191004'] # none\n",
    "         \n",
    "dates = ['20191008', \n",
    "         '20191012', \n",
    "         '20191020', \n",
    "         '20191024', \n",
    "         '20191030', \n",
    "         '20191101', \n",
    "         '20191111', \n",
    "         '20190930', \n",
    "         '20191001', \n",
    "         '20191002', \n",
    "         '20191003',\n",
    "         '20191004'] \n",
    "\n",
    "# domain names for extraction, will filter www.mypaperonline.com by \n",
    "# \"/category/the-morristown-news\" after initial extraction\n",
    "doms = ['https://www.mypaperonline.com',\n",
    "        'https://www.newbrunswicktoday.com',\n",
    "        'https://www.newarkblack.com',\n",
    "        'http://www.mypaperonline.com',\n",
    "        'http://www.newbrunswicktoday.com',\n",
    "        'http://www.newarkblack.com',\n",
    "        'https://mypaperonline.com',\n",
    "        'https://newbrunswicktoday.com',\n",
    "        'https://newarkblack.com',\n",
    "        'http://mypaperonline.com',\n",
    "        'http://newbrunswicktoday.com',\n",
    "        'http://newarkblack.com',\n",
    "        'mypaperonline.com',\n",
    "        'newbrunswicktoday.com',\n",
    "        'newarkblack.com',\n",
    "        'www.mypaperonline.com',\n",
    "        'www.newbrunswicktoday.com',\n",
    "        'www.newarkblack.com']\n",
    "\n",
    "chars_to_remove = \",^\\()|\\\"\""
   ]
  },
  {
   "cell_type": "code",
   "execution_count": 80,
   "metadata": {},
   "outputs": [],
   "source": [
    "# save start time for timing extraction\n",
    "start = tm.time()\n",
    "\n",
    "# initialize dataframe\n",
    "sample = pd.DataFrame(columns = ['date','domain','url','text'])\n",
    "all_dates = pd.DataFrame(columns = ['date','domain','url','text'])\n",
    "\n",
    "# open 12706-fulltext.txt file for reading\n",
    "with open('12706-fulltext.txt', 'rb') as raw:\n",
    "\n",
    "    # read first line\n",
    "    line = raw.readline()\n",
    "\n",
    "    # check if each line matches a date and a domain\n",
    "    while line:\n",
    "        # split line by first 3 commas\n",
    "        key = line.decode('UTF-8').split(',', 3)\n",
    "        # remove non-numeric characters from the date\n",
    "        key[0] = re.sub('[^0-9]', '', key[0])\n",
    "\n",
    "        # saves to all_dates if in domain list, save to sample if in domain list and date list\n",
    "        if key[1] in doms:\n",
    "            all_dates = all_dates.append({'date': key[0], 'domain': key[1], 'url': key[2], 'text': key[3]}, ignore_index=True)\n",
    "            if key [0] in dates:\n",
    "                sample = sample.append({'date': key[0], 'domain': key[1], 'url': key[2], 'text': key[3]}, ignore_index=True)\n",
    "                \n",
    "        # read next line\n",
    "        line = raw.readline()\n",
    "\n",
    "# take time difference\n",
    "total = tm.time() - start"
   ]
  },
  {
   "cell_type": "code",
   "execution_count": 81,
   "metadata": {},
   "outputs": [],
   "source": [
    "# remove problematic characters from text\n",
    "text = [s.translate ({ord(c): \"\" for c in chars_to_remove}) for s in sample['text']]\n",
    "text_ad = [s.translate ({ord(c): \"\" for c in chars_to_remove}) for s in all_dates['text']]\n",
    "# replace old text with cleaned text\n",
    "sample = sample.assign(text = text)\n",
    "all_dates = all_dates.assign(text = text_ad)\n",
    "# convert date to standard format\n",
    "sample['date'] = pd.to_datetime(sample['date'])\n",
    "all_dates['date'] = pd.to_datetime(all_dates['date'])"
   ]
  },
  {
   "cell_type": "code",
   "execution_count": 82,
   "metadata": {},
   "outputs": [
    {
     "output_type": "stream",
     "name": "stdout",
     "text": [
      "for chosen sample, extracted 4337 articles in 72 seconds\nfor all dates, extracted 5641 articles in 72 seconds\nchosen sample:\n"
     ]
    },
    {
     "output_type": "display_data",
     "data": {
      "text/plain": "           date                 domain  \\\n0    2019-09-30  www.mypaperonline.com   \n1    2019-10-01  www.mypaperonline.com   \n2    2019-10-01  www.mypaperonline.com   \n3    2019-10-01  www.mypaperonline.com   \n4    2019-10-12  www.mypaperonline.com   \n...         ...                    ...   \n4332 2019-10-12  www.mypaperonline.com   \n4333 2019-10-12  www.mypaperonline.com   \n4334 2019-10-12  www.mypaperonline.com   \n4335 2019-10-12  www.mypaperonline.com   \n4336 2019-11-01  www.mypaperonline.com   \n\n                                                    url  \\\n0     https://www.mypaperonline.com/category/the-ran...   \n1     https://www.mypaperonline.com/category/local-n...   \n2     https://www.mypaperonline.com/local-art-exhibi...   \n3     https://www.mypaperonline.com/wp-json/oembed/1...   \n4     https://www.mypaperonline.com/category/the-hac...   \n...                                                 ...   \n4332  https://www.mypaperonline.com/hauntings-around...   \n4333  https://www.mypaperonline.com/west-orange-resi...   \n4334  https://www.mypaperonline.com/18-year-old-west...   \n4335  https://www.mypaperonline.com/millburn-residen...   \n4336  https://www.mypaperonline.com/category/the-mt-...   \n\n                                                   text  \n0     The Randolph News Archive  My Paper Online Hom...  \n1     Local News Archive  My Paper Online Home Discl...  \n2     Local Art Exhibit And Sale At CCM  My Paper On...  \n3     {version:1.0provider_name:My Paper Onlineprovi...  \n4     The Hackettstown News Archive  My Paper Online...  \n...                                                 ...  \n4332  Hauntings Around the Area for Halloween  My Pa...  \n4333  West Orange Resident Centenary Student Studies...  \n4334  18-Year-Old West Orange Teen Battles Cancer an...  \n4335  Millburn Resident Wins Award for Activism   My...  \n4336  The Mt. Olive News Archive  My Paper Online Ho...  \n\n[4337 rows x 4 columns]",
      "text/html": "<div>\n<style scoped>\n    .dataframe tbody tr th:only-of-type {\n        vertical-align: middle;\n    }\n\n    .dataframe tbody tr th {\n        vertical-align: top;\n    }\n\n    .dataframe thead th {\n        text-align: right;\n    }\n</style>\n<table border=\"1\" class=\"dataframe\">\n  <thead>\n    <tr style=\"text-align: right;\">\n      <th></th>\n      <th>date</th>\n      <th>domain</th>\n      <th>url</th>\n      <th>text</th>\n    </tr>\n  </thead>\n  <tbody>\n    <tr>\n      <th>0</th>\n      <td>2019-09-30</td>\n      <td>www.mypaperonline.com</td>\n      <td>https://www.mypaperonline.com/category/the-ran...</td>\n      <td>The Randolph News Archive  My Paper Online Hom...</td>\n    </tr>\n    <tr>\n      <th>1</th>\n      <td>2019-10-01</td>\n      <td>www.mypaperonline.com</td>\n      <td>https://www.mypaperonline.com/category/local-n...</td>\n      <td>Local News Archive  My Paper Online Home Discl...</td>\n    </tr>\n    <tr>\n      <th>2</th>\n      <td>2019-10-01</td>\n      <td>www.mypaperonline.com</td>\n      <td>https://www.mypaperonline.com/local-art-exhibi...</td>\n      <td>Local Art Exhibit And Sale At CCM  My Paper On...</td>\n    </tr>\n    <tr>\n      <th>3</th>\n      <td>2019-10-01</td>\n      <td>www.mypaperonline.com</td>\n      <td>https://www.mypaperonline.com/wp-json/oembed/1...</td>\n      <td>{version:1.0provider_name:My Paper Onlineprovi...</td>\n    </tr>\n    <tr>\n      <th>4</th>\n      <td>2019-10-12</td>\n      <td>www.mypaperonline.com</td>\n      <td>https://www.mypaperonline.com/category/the-hac...</td>\n      <td>The Hackettstown News Archive  My Paper Online...</td>\n    </tr>\n    <tr>\n      <th>...</th>\n      <td>...</td>\n      <td>...</td>\n      <td>...</td>\n      <td>...</td>\n    </tr>\n    <tr>\n      <th>4332</th>\n      <td>2019-10-12</td>\n      <td>www.mypaperonline.com</td>\n      <td>https://www.mypaperonline.com/hauntings-around...</td>\n      <td>Hauntings Around the Area for Halloween  My Pa...</td>\n    </tr>\n    <tr>\n      <th>4333</th>\n      <td>2019-10-12</td>\n      <td>www.mypaperonline.com</td>\n      <td>https://www.mypaperonline.com/west-orange-resi...</td>\n      <td>West Orange Resident Centenary Student Studies...</td>\n    </tr>\n    <tr>\n      <th>4334</th>\n      <td>2019-10-12</td>\n      <td>www.mypaperonline.com</td>\n      <td>https://www.mypaperonline.com/18-year-old-west...</td>\n      <td>18-Year-Old West Orange Teen Battles Cancer an...</td>\n    </tr>\n    <tr>\n      <th>4335</th>\n      <td>2019-10-12</td>\n      <td>www.mypaperonline.com</td>\n      <td>https://www.mypaperonline.com/millburn-residen...</td>\n      <td>Millburn Resident Wins Award for Activism   My...</td>\n    </tr>\n    <tr>\n      <th>4336</th>\n      <td>2019-11-01</td>\n      <td>www.mypaperonline.com</td>\n      <td>https://www.mypaperonline.com/category/the-mt-...</td>\n      <td>The Mt. Olive News Archive  My Paper Online Ho...</td>\n    </tr>\n  </tbody>\n</table>\n<p>4337 rows × 4 columns</p>\n</div>"
     },
     "metadata": {}
    },
    {
     "output_type": "stream",
     "name": "stdout",
     "text": [
      "all dates:\n"
     ]
    },
    {
     "output_type": "display_data",
     "data": {
      "text/plain": "           date                 domain  \\\n0    2019-09-30  www.mypaperonline.com   \n1    2019-10-01  www.mypaperonline.com   \n2    2019-10-01  www.mypaperonline.com   \n3    2019-10-01  www.mypaperonline.com   \n4    2019-10-12  www.mypaperonline.com   \n...         ...                    ...   \n5636 2019-10-12  www.mypaperonline.com   \n5637 2019-11-01  www.mypaperonline.com   \n5638 2019-11-02  www.mypaperonline.com   \n5639 2019-11-02  www.mypaperonline.com   \n5640 2019-11-02  www.mypaperonline.com   \n\n                                                    url  \\\n0     https://www.mypaperonline.com/category/the-ran...   \n1     https://www.mypaperonline.com/category/local-n...   \n2     https://www.mypaperonline.com/local-art-exhibi...   \n3     https://www.mypaperonline.com/wp-json/oembed/1...   \n4     https://www.mypaperonline.com/category/the-hac...   \n...                                                 ...   \n5636  https://www.mypaperonline.com/millburn-residen...   \n5637  https://www.mypaperonline.com/category/the-mt-...   \n5638  https://www.mypaperonline.com/category/local-n...   \n5639  https://www.mypaperonline.com/four-tips-for-a-...   \n5640    https://www.mypaperonline.com/test-video-2.html   \n\n                                                   text  \n0     The Randolph News Archive  My Paper Online Hom...  \n1     Local News Archive  My Paper Online Home Discl...  \n2     Local Art Exhibit And Sale At CCM  My Paper On...  \n3     {version:1.0provider_name:My Paper Onlineprovi...  \n4     The Hackettstown News Archive  My Paper Online...  \n...                                                 ...  \n5636  Millburn Resident Wins Award for Activism   My...  \n5637  The Mt. Olive News Archive  My Paper Online Ho...  \n5638  Local News Archive  My Paper Online Home Discl...  \n5639  Four Tips For A Safe Holiday Season  My Paper ...  \n5640  How to Make Cranberry Hootycreeks  My Paper On...  \n\n[5641 rows x 4 columns]",
      "text/html": "<div>\n<style scoped>\n    .dataframe tbody tr th:only-of-type {\n        vertical-align: middle;\n    }\n\n    .dataframe tbody tr th {\n        vertical-align: top;\n    }\n\n    .dataframe thead th {\n        text-align: right;\n    }\n</style>\n<table border=\"1\" class=\"dataframe\">\n  <thead>\n    <tr style=\"text-align: right;\">\n      <th></th>\n      <th>date</th>\n      <th>domain</th>\n      <th>url</th>\n      <th>text</th>\n    </tr>\n  </thead>\n  <tbody>\n    <tr>\n      <th>0</th>\n      <td>2019-09-30</td>\n      <td>www.mypaperonline.com</td>\n      <td>https://www.mypaperonline.com/category/the-ran...</td>\n      <td>The Randolph News Archive  My Paper Online Hom...</td>\n    </tr>\n    <tr>\n      <th>1</th>\n      <td>2019-10-01</td>\n      <td>www.mypaperonline.com</td>\n      <td>https://www.mypaperonline.com/category/local-n...</td>\n      <td>Local News Archive  My Paper Online Home Discl...</td>\n    </tr>\n    <tr>\n      <th>2</th>\n      <td>2019-10-01</td>\n      <td>www.mypaperonline.com</td>\n      <td>https://www.mypaperonline.com/local-art-exhibi...</td>\n      <td>Local Art Exhibit And Sale At CCM  My Paper On...</td>\n    </tr>\n    <tr>\n      <th>3</th>\n      <td>2019-10-01</td>\n      <td>www.mypaperonline.com</td>\n      <td>https://www.mypaperonline.com/wp-json/oembed/1...</td>\n      <td>{version:1.0provider_name:My Paper Onlineprovi...</td>\n    </tr>\n    <tr>\n      <th>4</th>\n      <td>2019-10-12</td>\n      <td>www.mypaperonline.com</td>\n      <td>https://www.mypaperonline.com/category/the-hac...</td>\n      <td>The Hackettstown News Archive  My Paper Online...</td>\n    </tr>\n    <tr>\n      <th>...</th>\n      <td>...</td>\n      <td>...</td>\n      <td>...</td>\n      <td>...</td>\n    </tr>\n    <tr>\n      <th>5636</th>\n      <td>2019-10-12</td>\n      <td>www.mypaperonline.com</td>\n      <td>https://www.mypaperonline.com/millburn-residen...</td>\n      <td>Millburn Resident Wins Award for Activism   My...</td>\n    </tr>\n    <tr>\n      <th>5637</th>\n      <td>2019-11-01</td>\n      <td>www.mypaperonline.com</td>\n      <td>https://www.mypaperonline.com/category/the-mt-...</td>\n      <td>The Mt. Olive News Archive  My Paper Online Ho...</td>\n    </tr>\n    <tr>\n      <th>5638</th>\n      <td>2019-11-02</td>\n      <td>www.mypaperonline.com</td>\n      <td>https://www.mypaperonline.com/category/local-n...</td>\n      <td>Local News Archive  My Paper Online Home Discl...</td>\n    </tr>\n    <tr>\n      <th>5639</th>\n      <td>2019-11-02</td>\n      <td>www.mypaperonline.com</td>\n      <td>https://www.mypaperonline.com/four-tips-for-a-...</td>\n      <td>Four Tips For A Safe Holiday Season  My Paper ...</td>\n    </tr>\n    <tr>\n      <th>5640</th>\n      <td>2019-11-02</td>\n      <td>www.mypaperonline.com</td>\n      <td>https://www.mypaperonline.com/test-video-2.html</td>\n      <td>How to Make Cranberry Hootycreeks  My Paper On...</td>\n    </tr>\n  </tbody>\n</table>\n<p>5641 rows × 4 columns</p>\n</div>"
     },
     "metadata": {}
    }
   ],
   "source": [
    "print('for chosen sample, extracted ' + str(len(sample)) + ' articles in ' + str(round(total)) + ' seconds')\n",
    "print('for all dates, extracted ' + str(len(all_dates)) + ' articles in ' + str(round(total)) + ' seconds')\n",
    "# this data includes all www.mypaperonline.com webpages from the given dates\n",
    "print(\"chosen sample:\")\n",
    "display(sample)\n",
    "print(\"all dates:\")\n",
    "display(all_dates)"
   ]
  },
  {
   "cell_type": "code",
   "execution_count": 88,
   "metadata": {},
   "outputs": [],
   "source": [
    "nonmpo = sample.loc[(sample.url.str.contains('www.mypaperonline.com') == False) | (sample.url.str.contains('/category/the-morristown-news') == True)].copy()\n",
    "mpo = sample.loc[(sample.url.str.contains('www.mypaperonline.com') == True)].copy()\n",
    "nonmpo_alldates = all_dates.loc[(all_dates.url.str.contains('www.mypaperonline.com') == False) | (all_dates.url.str.contains('/category/the-morristown-news') == True)].copy()\n",
    "mpo_alldates = all_dates.loc[(all_dates.url.str.contains('www.mypaperonline.com') == True)].copy()"
   ]
  },
  {
   "cell_type": "code",
   "execution_count": 90,
   "metadata": {},
   "outputs": [],
   "source": [
    "def get_html(collection_id, folder, data):\n",
    "\n",
    "    if not os.path.isdir(folder):\n",
    "        os.mkdir(folder)\n",
    "\n",
    "    ai_url = \"https://wayback.archive-it.org\"\n",
    "\n",
    "    date_list = pd.to_datetime(data['date'].unique())\n",
    "    urls = data['url'].unique()\n",
    "\n",
    "    ctr = 0\n",
    "\n",
    "    for url in urls:\n",
    "\n",
    "        ctr = ctr + 1\n",
    "\n",
    "        home = ai_url + '/' + str(collection_id) + '/*/' + url\n",
    "\n",
    "        page = requests.get(home)\n",
    "        soup = BeautifulSoup(page.content, \"lxml\")\n",
    "        alist = soup.find_all(\"a\")\n",
    "        alist = [a for a in alist if 'onclick' in a.attrs]\n",
    "        dates = [dt.strptime(a.text, '%b %d, %Y') for a in alist]\n",
    "\n",
    "        for a in alist:\n",
    "\n",
    "            path = folder + '/' + dt.strptime(a.text, '%b %d, %Y').strftime('%Y%m%d') + '_' + ''.join(re.findall('(\\d+|[a-zA-Z]+|-|\\.)', url.split('/')[-1]))\n",
    "\n",
    "            if 'onclick' in a.attrs and dt.strptime(a.text, '%b %d, %Y') in date_list and not os.path.isfile(path):\n",
    "                wp = requests.get('https:' + a.attrs['href'])\n",
    "                f = open(path, 'wb')\n",
    "                f.write(wp.content)\n",
    "                f.close()"
   ]
  },
  {
   "cell_type": "code",
   "execution_count": 91,
   "metadata": {},
   "outputs": [],
   "source": [
    "get_html(12706, 'mypaper_full', mpo_alldates)"
   ]
  },
  {
   "cell_type": "code",
   "execution_count": 92,
   "metadata": {},
   "outputs": [],
   "source": [
    "\n",
    "def label_morris(data, folder):\n",
    "\n",
    "    data.loc[:,'morristown'] = None\n",
    "\n",
    "    for index, row in data.iterrows():\n",
    "\n",
    "        path = folder + '/' + ''.join(re.findall('\\d+', row.date.strftime('%Y-%m-%d'))) + '_' + ''.join(re.findall('(\\d+|[a-zA-Z]+|-|\\.)', row.url.split('/')[-1]))\n",
    "\n",
    "        try:\n",
    "            f = open(path, 'rb')\n",
    "            html = f.read()\n",
    "        except:\n",
    "            raise Exception('nope')\n",
    "\n",
    "        try:\n",
    "            soup = BeautifulSoup(html, \"lxml\")\n",
    "            article = soup.find('article').attrs['class']\n",
    "        except:\n",
    "            article = []\n",
    "            data.loc[index, 'morristown'] = 0\n",
    "        \n",
    "        if 'category-the-morristown-news' in article:\n",
    "            data.loc[index, 'morristown'] = 1\n",
    "        else:\n",
    "            data.loc[index, 'morristown'] = 0\n"
   ]
  },
  {
   "cell_type": "code",
   "execution_count": 93,
   "metadata": {
    "tags": []
   },
   "outputs": [],
   "source": [
    "label_morris(mpo, 'mypaper_full')\n",
    "label_morris(mpo_alldates, 'mypaper_full')"
   ]
  },
  {
   "cell_type": "code",
   "execution_count": 94,
   "metadata": {},
   "outputs": [],
   "source": [
    "morristown = mpo.loc[(mpo.morristown == True)].copy().drop('morristown', axis = 1)\n",
    "morristown_alldates = mpo_alldates.loc[(mpo_alldates.morristown == True)].copy().drop('morristown', axis = 1)"
   ]
  },
  {
   "cell_type": "code",
   "execution_count": 95,
   "metadata": {},
   "outputs": [
    {
     "output_type": "display_data",
     "data": {
      "text/plain": "           date                 domain  \\\n1    2019-10-01  www.mypaperonline.com   \n15   2019-10-01  www.mypaperonline.com   \n191  2019-10-12  www.mypaperonline.com   \n192  2019-10-12  www.mypaperonline.com   \n193  2019-10-12  www.mypaperonline.com   \n...         ...                    ...   \n3964 2019-10-12  www.mypaperonline.com   \n3965 2019-10-12  www.mypaperonline.com   \n3966 2019-10-12  www.mypaperonline.com   \n3967 2019-10-12  www.mypaperonline.com   \n4332 2019-10-12  www.mypaperonline.com   \n\n                                                    url  \\\n1     https://www.mypaperonline.com/category/local-n...   \n15    https://www.mypaperonline.com/category/local-n...   \n191   https://www.mypaperonline.com/mayo-performing-...   \n192   https://www.mypaperonline.com/the-morristown-f...   \n193   https://www.mypaperonline.com/international-pa...   \n...                                                 ...   \n3964  https://www.mypaperonline.com/local-nonprofit-...   \n3965  https://www.mypaperonline.com/lead-east-introd...   \n3966  https://www.mypaperonline.com/governor-cody-ai...   \n3967  https://www.mypaperonline.com/contest-offers-c...   \n4332  https://www.mypaperonline.com/hauntings-around...   \n\n                                                   text  \n1     Local News Archive  My Paper Online Home Discl...  \n15    Local News Archive  My Paper Online Home Discl...  \n191   Mayo Performing Arts Center Celebrates 25 Year...  \n192   The Morristown Festival of Books is Back  My P...  \n193   International Pain Foundation Announces Our 20...  \n...                                                 ...  \n3964  Local Nonprofit Foundation Receives Federal Mo...  \n3965  Lead East Introduces New Generation To The ‘50...  \n3966  Governor Cody Aims To Prevent Teen Suicide  My...  \n3967  Contest Offers Cash Prizes To Young Teams With...  \n4332  Hauntings Around the Area for Halloween  My Pa...  \n\n[461 rows x 4 columns]",
      "text/html": "<div>\n<style scoped>\n    .dataframe tbody tr th:only-of-type {\n        vertical-align: middle;\n    }\n\n    .dataframe tbody tr th {\n        vertical-align: top;\n    }\n\n    .dataframe thead th {\n        text-align: right;\n    }\n</style>\n<table border=\"1\" class=\"dataframe\">\n  <thead>\n    <tr style=\"text-align: right;\">\n      <th></th>\n      <th>date</th>\n      <th>domain</th>\n      <th>url</th>\n      <th>text</th>\n    </tr>\n  </thead>\n  <tbody>\n    <tr>\n      <th>1</th>\n      <td>2019-10-01</td>\n      <td>www.mypaperonline.com</td>\n      <td>https://www.mypaperonline.com/category/local-n...</td>\n      <td>Local News Archive  My Paper Online Home Discl...</td>\n    </tr>\n    <tr>\n      <th>15</th>\n      <td>2019-10-01</td>\n      <td>www.mypaperonline.com</td>\n      <td>https://www.mypaperonline.com/category/local-n...</td>\n      <td>Local News Archive  My Paper Online Home Discl...</td>\n    </tr>\n    <tr>\n      <th>191</th>\n      <td>2019-10-12</td>\n      <td>www.mypaperonline.com</td>\n      <td>https://www.mypaperonline.com/mayo-performing-...</td>\n      <td>Mayo Performing Arts Center Celebrates 25 Year...</td>\n    </tr>\n    <tr>\n      <th>192</th>\n      <td>2019-10-12</td>\n      <td>www.mypaperonline.com</td>\n      <td>https://www.mypaperonline.com/the-morristown-f...</td>\n      <td>The Morristown Festival of Books is Back  My P...</td>\n    </tr>\n    <tr>\n      <th>193</th>\n      <td>2019-10-12</td>\n      <td>www.mypaperonline.com</td>\n      <td>https://www.mypaperonline.com/international-pa...</td>\n      <td>International Pain Foundation Announces Our 20...</td>\n    </tr>\n    <tr>\n      <th>...</th>\n      <td>...</td>\n      <td>...</td>\n      <td>...</td>\n      <td>...</td>\n    </tr>\n    <tr>\n      <th>3964</th>\n      <td>2019-10-12</td>\n      <td>www.mypaperonline.com</td>\n      <td>https://www.mypaperonline.com/local-nonprofit-...</td>\n      <td>Local Nonprofit Foundation Receives Federal Mo...</td>\n    </tr>\n    <tr>\n      <th>3965</th>\n      <td>2019-10-12</td>\n      <td>www.mypaperonline.com</td>\n      <td>https://www.mypaperonline.com/lead-east-introd...</td>\n      <td>Lead East Introduces New Generation To The ‘50...</td>\n    </tr>\n    <tr>\n      <th>3966</th>\n      <td>2019-10-12</td>\n      <td>www.mypaperonline.com</td>\n      <td>https://www.mypaperonline.com/governor-cody-ai...</td>\n      <td>Governor Cody Aims To Prevent Teen Suicide  My...</td>\n    </tr>\n    <tr>\n      <th>3967</th>\n      <td>2019-10-12</td>\n      <td>www.mypaperonline.com</td>\n      <td>https://www.mypaperonline.com/contest-offers-c...</td>\n      <td>Contest Offers Cash Prizes To Young Teams With...</td>\n    </tr>\n    <tr>\n      <th>4332</th>\n      <td>2019-10-12</td>\n      <td>www.mypaperonline.com</td>\n      <td>https://www.mypaperonline.com/hauntings-around...</td>\n      <td>Hauntings Around the Area for Halloween  My Pa...</td>\n    </tr>\n  </tbody>\n</table>\n<p>461 rows × 4 columns</p>\n</div>"
     },
     "metadata": {}
    },
    {
     "output_type": "display_data",
     "data": {
      "text/plain": "           date                 domain  \\\n1    2019-10-01  www.mypaperonline.com   \n15   2019-10-01  www.mypaperonline.com   \n152  2019-10-31  www.mypaperonline.com   \n153  2019-10-31  www.mypaperonline.com   \n154  2019-10-31  www.mypaperonline.com   \n...         ...                    ...   \n5436 2019-11-02  www.mypaperonline.com   \n5437 2019-11-02  www.mypaperonline.com   \n5440 2019-11-02  www.mypaperonline.com   \n5448 2019-11-02  www.mypaperonline.com   \n5633 2019-10-12  www.mypaperonline.com   \n\n                                                    url  \\\n1     https://www.mypaperonline.com/category/local-n...   \n15    https://www.mypaperonline.com/category/local-n...   \n152   https://www.mypaperonline.com/how-to-combat-co...   \n153   https://www.mypaperonline.com/helping-older-pe...   \n154   https://www.mypaperonline.com/protect-your-hea...   \n...                                                 ...   \n5436  https://www.mypaperonline.com/first-library-wi...   \n5437  https://www.mypaperonline.com/hackettstowns-he...   \n5440  https://www.mypaperonline.com/dont-miss-these-...   \n5448  http://www.mypaperonline.com/10th-anniversary-...   \n5633  https://www.mypaperonline.com/hauntings-around...   \n\n                                                   text  \n1     Local News Archive  My Paper Online Home Discl...  \n15    Local News Archive  My Paper Online Home Discl...  \n152   How To Combat Cold And Flu  My Paper Online Ho...  \n153   Helping Older People to Maintain Independence ...  \n154   Protect Your Health Protect Your Toothbrush  M...  \n...                                                 ...  \n5436  First Library Will Help Build Libraries of Bab...  \n5437  Hackettstown’s Heath Village Inspires Staff wi...  \n5440  Don’t miss these must-have snacks that define ...  \n5448  10th Anniversary Golf Classic Scores High For ...  \n5633  Hauntings Around the Area for Halloween  My Pa...  \n\n[718 rows x 4 columns]",
      "text/html": "<div>\n<style scoped>\n    .dataframe tbody tr th:only-of-type {\n        vertical-align: middle;\n    }\n\n    .dataframe tbody tr th {\n        vertical-align: top;\n    }\n\n    .dataframe thead th {\n        text-align: right;\n    }\n</style>\n<table border=\"1\" class=\"dataframe\">\n  <thead>\n    <tr style=\"text-align: right;\">\n      <th></th>\n      <th>date</th>\n      <th>domain</th>\n      <th>url</th>\n      <th>text</th>\n    </tr>\n  </thead>\n  <tbody>\n    <tr>\n      <th>1</th>\n      <td>2019-10-01</td>\n      <td>www.mypaperonline.com</td>\n      <td>https://www.mypaperonline.com/category/local-n...</td>\n      <td>Local News Archive  My Paper Online Home Discl...</td>\n    </tr>\n    <tr>\n      <th>15</th>\n      <td>2019-10-01</td>\n      <td>www.mypaperonline.com</td>\n      <td>https://www.mypaperonline.com/category/local-n...</td>\n      <td>Local News Archive  My Paper Online Home Discl...</td>\n    </tr>\n    <tr>\n      <th>152</th>\n      <td>2019-10-31</td>\n      <td>www.mypaperonline.com</td>\n      <td>https://www.mypaperonline.com/how-to-combat-co...</td>\n      <td>How To Combat Cold And Flu  My Paper Online Ho...</td>\n    </tr>\n    <tr>\n      <th>153</th>\n      <td>2019-10-31</td>\n      <td>www.mypaperonline.com</td>\n      <td>https://www.mypaperonline.com/helping-older-pe...</td>\n      <td>Helping Older People to Maintain Independence ...</td>\n    </tr>\n    <tr>\n      <th>154</th>\n      <td>2019-10-31</td>\n      <td>www.mypaperonline.com</td>\n      <td>https://www.mypaperonline.com/protect-your-hea...</td>\n      <td>Protect Your Health Protect Your Toothbrush  M...</td>\n    </tr>\n    <tr>\n      <th>...</th>\n      <td>...</td>\n      <td>...</td>\n      <td>...</td>\n      <td>...</td>\n    </tr>\n    <tr>\n      <th>5436</th>\n      <td>2019-11-02</td>\n      <td>www.mypaperonline.com</td>\n      <td>https://www.mypaperonline.com/first-library-wi...</td>\n      <td>First Library Will Help Build Libraries of Bab...</td>\n    </tr>\n    <tr>\n      <th>5437</th>\n      <td>2019-11-02</td>\n      <td>www.mypaperonline.com</td>\n      <td>https://www.mypaperonline.com/hackettstowns-he...</td>\n      <td>Hackettstown’s Heath Village Inspires Staff wi...</td>\n    </tr>\n    <tr>\n      <th>5440</th>\n      <td>2019-11-02</td>\n      <td>www.mypaperonline.com</td>\n      <td>https://www.mypaperonline.com/dont-miss-these-...</td>\n      <td>Don’t miss these must-have snacks that define ...</td>\n    </tr>\n    <tr>\n      <th>5448</th>\n      <td>2019-11-02</td>\n      <td>www.mypaperonline.com</td>\n      <td>http://www.mypaperonline.com/10th-anniversary-...</td>\n      <td>10th Anniversary Golf Classic Scores High For ...</td>\n    </tr>\n    <tr>\n      <th>5633</th>\n      <td>2019-10-12</td>\n      <td>www.mypaperonline.com</td>\n      <td>https://www.mypaperonline.com/hauntings-around...</td>\n      <td>Hauntings Around the Area for Halloween  My Pa...</td>\n    </tr>\n  </tbody>\n</table>\n<p>718 rows × 4 columns</p>\n</div>"
     },
     "metadata": {}
    }
   ],
   "source": [
    "display(morristown)\n",
    "display(morristown_alldates)"
   ]
  },
  {
   "cell_type": "code",
   "execution_count": 96,
   "metadata": {},
   "outputs": [],
   "source": [
    "complete = nonmpo.append(morristown)\n",
    "complete_alldates = nonmpo_alldates.append(morristown_alldates)"
   ]
  },
  {
   "cell_type": "code",
   "execution_count": null,
   "metadata": {},
   "outputs": [],
   "source": []
  }
 ]
}