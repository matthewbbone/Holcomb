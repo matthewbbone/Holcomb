{
 "metadata": {
  "language_info": {
   "codemirror_mode": {
    "name": "ipython",
    "version": 3
   },
   "file_extension": ".py",
   "mimetype": "text/x-python",
   "name": "python",
   "nbconvert_exporter": "python",
   "pygments_lexer": "ipython3",
   "version": "3.7.9-final"
  },
  "orig_nbformat": 2,
  "kernelspec": {
   "name": "python3",
   "display_name": "Python 3.7.9 64-bit ('holcombEnv': conda)",
   "metadata": {
    "interpreter": {
     "hash": "044a0165a1a561273ca818f13158b4edea630051cf64f3770cf4dedc4e818f34"
    }
   }
  }
 },
 "nbformat": 4,
 "nbformat_minor": 2,
 "cells": [
  {
   "cell_type": "code",
   "execution_count": 1,
   "metadata": {},
   "outputs": [],
   "source": [
    "import pandas as pd\n",
    "import numpy as np\n",
    "import re\n",
    "from datetime import datetime as dt\n",
    "import time as tm"
   ]
  },
  {
   "cell_type": "code",
   "execution_count": 2,
   "metadata": {},
   "outputs": [],
   "source": [
    "# list of dates for extraction, formatted as dates are in the dataset\n",
    "# dates = ['', # none\n",
    "#          '20191104', # none\n",
    "#          '20191001', # yes\n",
    "#          '20191030', # yes\n",
    "#          '20191024', # yes\n",
    "#          '20190927', # none\n",
    "#          '20191012', # yes\n",
    "#          '20190930', # yes\n",
    "#          '20191002', # none\n",
    "#          '20191003', # none\n",
    "#          '20191004'] # none\n",
    "         \n",
    "dates = ['20191008', \n",
    "         '20191012', \n",
    "         '20191020', \n",
    "         '20191024', \n",
    "         '20191030', \n",
    "         '20191101', \n",
    "         '20191111', \n",
    "         '20190930', \n",
    "         '20191001', \n",
    "         '20191002', \n",
    "         '20191003',\n",
    "         '20191004'] \n",
    "\n",
    "# domain names for extraction, will filter www.mypaperonline.com by \n",
    "# \"/category/the-morristown-news\" after initial extraction\n",
    "doms = ['https://www.mypaperonline.com',\n",
    "        'https://www.newbrunswicktoday.com',\n",
    "        'https://www.newarkblack.com',\n",
    "        'http://www.mypaperonline.com',\n",
    "        'http://www.newbrunswicktoday.com',\n",
    "        'http://www.newarkblack.com',\n",
    "        'mypaperonline.com',\n",
    "        'newbrunswicktoday.com',\n",
    "        'newarkblack.com',\n",
    "        'www.mypaperonline.com',\n",
    "        'www.newbrunswicktoday.com',\n",
    "        'www.newarkblack.com']\n",
    "\n",
    "chars_to_remove = \",^\\()|\\\"\""
   ]
  },
  {
   "cell_type": "code",
   "execution_count": 3,
   "metadata": {},
   "outputs": [],
   "source": [
    "# save start time for timing extraction\n",
    "start = tm.time()\n",
    "\n",
    "# initialize dataframe\n",
    "sample = pd.DataFrame(columns = ['date','domain','url','text'])\n",
    "all_dates = pd.DataFrame(columns = ['date','domain','url','text'])\n",
    "\n",
    "# open 12706-fulltext.txt file for reading\n",
    "with open('12706-fulltext.txt', 'rb') as raw:\n",
    "\n",
    "    # read first line\n",
    "    line = raw.readline()\n",
    "\n",
    "    # check if each line matches a date and a domain\n",
    "    while line:\n",
    "        # split line by first 3 commas\n",
    "        key = line.decode('UTF-8').split(',', 3)\n",
    "        # remove non-numeric characters from the date\n",
    "        key[0] = re.sub('[^0-9]', '', key[0])\n",
    "\n",
    "        # saves to all_dates if in domain list, save to sample if in domain list and date list\n",
    "        if key[1] in doms:\n",
    "            all_dates = all_dates.append({'date': key[0], 'domain': key[1], 'url': key[2], 'text': key[3]}, ignore_index=True)\n",
    "            if key [0] in dates:\n",
    "                sample = sample.append({'date': key[0], 'domain': key[1], 'url': key[2], 'text': key[3]}, ignore_index=True)\n",
    "                \n",
    "        # read next line\n",
    "        line = raw.readline()\n",
    "\n",
    "# take time difference\n",
    "total = tm.time() - start"
   ]
  },
  {
   "cell_type": "code",
   "execution_count": 4,
   "metadata": {},
   "outputs": [],
   "source": [
    "# remove problematic characters from text\n",
    "text = [s.translate ({ord(c): \"\" for c in chars_to_remove}) for s in sample['text']]\n",
    "text_ad = [s.translate ({ord(c): \"\" for c in chars_to_remove}) for s in all_dates['text']]\n",
    "# replace old text with cleaned text\n",
    "sample = sample.assign(text = text)\n",
    "all_dates = all_dates.assign(text = text_ad)\n",
    "# convert date to standard format\n",
    "sample['date'] = pd.to_datetime(sample['date'])\n",
    "all_dates['date'] = pd.to_datetime(all_dates['date'])"
   ]
  },
  {
   "cell_type": "code",
   "execution_count": 5,
   "metadata": {},
   "outputs": [
    {
     "output_type": "stream",
     "name": "stdout",
     "text": [
      "for chosen sample, extracted 2703 articles in 84 seconds\nfor all dates, extracted 5641 articles in 84 seconds\nchosen sample:\n"
     ]
    },
    {
     "output_type": "display_data",
     "data": {
      "text/plain": "           date                 domain  \\\n0    2019-09-30  www.mypaperonline.com   \n1    2019-10-01  www.mypaperonline.com   \n2    2019-10-01  www.mypaperonline.com   \n3    2019-10-01  www.mypaperonline.com   \n4    2019-10-12  www.mypaperonline.com   \n...         ...                    ...   \n2698 2019-10-12  www.mypaperonline.com   \n2699 2019-10-12  www.mypaperonline.com   \n2700 2019-10-12  www.mypaperonline.com   \n2701 2019-10-12  www.mypaperonline.com   \n2702 2019-10-12  www.mypaperonline.com   \n\n                                                    url  \\\n0     https://www.mypaperonline.com/category/the-ran...   \n1     https://www.mypaperonline.com/category/local-n...   \n2     https://www.mypaperonline.com/local-art-exhibi...   \n3     https://www.mypaperonline.com/wp-json/oembed/1...   \n4     https://www.mypaperonline.com/category/the-hac...   \n...                                                 ...   \n2698  https://www.mypaperonline.com/category/local-n...   \n2699  https://www.mypaperonline.com/hauntings-around...   \n2700  https://www.mypaperonline.com/west-orange-resi...   \n2701  https://www.mypaperonline.com/18-year-old-west...   \n2702  https://www.mypaperonline.com/millburn-residen...   \n\n                                                   text  \n0     The Randolph News Archive  My Paper Online Hom...  \n1     Local News Archive  My Paper Online Home Discl...  \n2     Local Art Exhibit And Sale At CCM  My Paper On...  \n3     {version:1.0provider_name:My Paper Onlineprovi...  \n4     The Hackettstown News Archive  My Paper Online...  \n...                                                 ...  \n2698  Local News Archive  My Paper Online Home Discl...  \n2699  Hauntings Around the Area for Halloween  My Pa...  \n2700  West Orange Resident Centenary Student Studies...  \n2701  18-Year-Old West Orange Teen Battles Cancer an...  \n2702  Millburn Resident Wins Award for Activism   My...  \n\n[2703 rows x 4 columns]",
      "text/html": "<div>\n<style scoped>\n    .dataframe tbody tr th:only-of-type {\n        vertical-align: middle;\n    }\n\n    .dataframe tbody tr th {\n        vertical-align: top;\n    }\n\n    .dataframe thead th {\n        text-align: right;\n    }\n</style>\n<table border=\"1\" class=\"dataframe\">\n  <thead>\n    <tr style=\"text-align: right;\">\n      <th></th>\n      <th>date</th>\n      <th>domain</th>\n      <th>url</th>\n      <th>text</th>\n    </tr>\n  </thead>\n  <tbody>\n    <tr>\n      <th>0</th>\n      <td>2019-09-30</td>\n      <td>www.mypaperonline.com</td>\n      <td>https://www.mypaperonline.com/category/the-ran...</td>\n      <td>The Randolph News Archive  My Paper Online Hom...</td>\n    </tr>\n    <tr>\n      <th>1</th>\n      <td>2019-10-01</td>\n      <td>www.mypaperonline.com</td>\n      <td>https://www.mypaperonline.com/category/local-n...</td>\n      <td>Local News Archive  My Paper Online Home Discl...</td>\n    </tr>\n    <tr>\n      <th>2</th>\n      <td>2019-10-01</td>\n      <td>www.mypaperonline.com</td>\n      <td>https://www.mypaperonline.com/local-art-exhibi...</td>\n      <td>Local Art Exhibit And Sale At CCM  My Paper On...</td>\n    </tr>\n    <tr>\n      <th>3</th>\n      <td>2019-10-01</td>\n      <td>www.mypaperonline.com</td>\n      <td>https://www.mypaperonline.com/wp-json/oembed/1...</td>\n      <td>{version:1.0provider_name:My Paper Onlineprovi...</td>\n    </tr>\n    <tr>\n      <th>4</th>\n      <td>2019-10-12</td>\n      <td>www.mypaperonline.com</td>\n      <td>https://www.mypaperonline.com/category/the-hac...</td>\n      <td>The Hackettstown News Archive  My Paper Online...</td>\n    </tr>\n    <tr>\n      <th>...</th>\n      <td>...</td>\n      <td>...</td>\n      <td>...</td>\n      <td>...</td>\n    </tr>\n    <tr>\n      <th>2698</th>\n      <td>2019-10-12</td>\n      <td>www.mypaperonline.com</td>\n      <td>https://www.mypaperonline.com/category/local-n...</td>\n      <td>Local News Archive  My Paper Online Home Discl...</td>\n    </tr>\n    <tr>\n      <th>2699</th>\n      <td>2019-10-12</td>\n      <td>www.mypaperonline.com</td>\n      <td>https://www.mypaperonline.com/hauntings-around...</td>\n      <td>Hauntings Around the Area for Halloween  My Pa...</td>\n    </tr>\n    <tr>\n      <th>2700</th>\n      <td>2019-10-12</td>\n      <td>www.mypaperonline.com</td>\n      <td>https://www.mypaperonline.com/west-orange-resi...</td>\n      <td>West Orange Resident Centenary Student Studies...</td>\n    </tr>\n    <tr>\n      <th>2701</th>\n      <td>2019-10-12</td>\n      <td>www.mypaperonline.com</td>\n      <td>https://www.mypaperonline.com/18-year-old-west...</td>\n      <td>18-Year-Old West Orange Teen Battles Cancer an...</td>\n    </tr>\n    <tr>\n      <th>2702</th>\n      <td>2019-10-12</td>\n      <td>www.mypaperonline.com</td>\n      <td>https://www.mypaperonline.com/millburn-residen...</td>\n      <td>Millburn Resident Wins Award for Activism   My...</td>\n    </tr>\n  </tbody>\n</table>\n<p>2703 rows × 4 columns</p>\n</div>"
     },
     "metadata": {}
    },
    {
     "output_type": "stream",
     "name": "stdout",
     "text": [
      "all dates:\n"
     ]
    },
    {
     "output_type": "display_data",
     "data": {
      "text/plain": "           date                 domain  \\\n0    2019-09-30  www.mypaperonline.com   \n1    2019-10-01  www.mypaperonline.com   \n2    2019-10-01  www.mypaperonline.com   \n3    2019-10-01  www.mypaperonline.com   \n4    2019-10-12  www.mypaperonline.com   \n...         ...                    ...   \n5636 2019-10-12  www.mypaperonline.com   \n5637 2019-11-01  www.mypaperonline.com   \n5638 2019-11-02  www.mypaperonline.com   \n5639 2019-11-02  www.mypaperonline.com   \n5640 2019-11-02  www.mypaperonline.com   \n\n                                                    url  \\\n0     https://www.mypaperonline.com/category/the-ran...   \n1     https://www.mypaperonline.com/category/local-n...   \n2     https://www.mypaperonline.com/local-art-exhibi...   \n3     https://www.mypaperonline.com/wp-json/oembed/1...   \n4     https://www.mypaperonline.com/category/the-hac...   \n...                                                 ...   \n5636  https://www.mypaperonline.com/millburn-residen...   \n5637  https://www.mypaperonline.com/category/the-mt-...   \n5638  https://www.mypaperonline.com/category/local-n...   \n5639  https://www.mypaperonline.com/four-tips-for-a-...   \n5640    https://www.mypaperonline.com/test-video-2.html   \n\n                                                   text  \n0     The Randolph News Archive  My Paper Online Hom...  \n1     Local News Archive  My Paper Online Home Discl...  \n2     Local Art Exhibit And Sale At CCM  My Paper On...  \n3     {version:1.0provider_name:My Paper Onlineprovi...  \n4     The Hackettstown News Archive  My Paper Online...  \n...                                                 ...  \n5636  Millburn Resident Wins Award for Activism   My...  \n5637  The Mt. Olive News Archive  My Paper Online Ho...  \n5638  Local News Archive  My Paper Online Home Discl...  \n5639  Four Tips For A Safe Holiday Season  My Paper ...  \n5640  How to Make Cranberry Hootycreeks  My Paper On...  \n\n[5641 rows x 4 columns]",
      "text/html": "<div>\n<style scoped>\n    .dataframe tbody tr th:only-of-type {\n        vertical-align: middle;\n    }\n\n    .dataframe tbody tr th {\n        vertical-align: top;\n    }\n\n    .dataframe thead th {\n        text-align: right;\n    }\n</style>\n<table border=\"1\" class=\"dataframe\">\n  <thead>\n    <tr style=\"text-align: right;\">\n      <th></th>\n      <th>date</th>\n      <th>domain</th>\n      <th>url</th>\n      <th>text</th>\n    </tr>\n  </thead>\n  <tbody>\n    <tr>\n      <th>0</th>\n      <td>2019-09-30</td>\n      <td>www.mypaperonline.com</td>\n      <td>https://www.mypaperonline.com/category/the-ran...</td>\n      <td>The Randolph News Archive  My Paper Online Hom...</td>\n    </tr>\n    <tr>\n      <th>1</th>\n      <td>2019-10-01</td>\n      <td>www.mypaperonline.com</td>\n      <td>https://www.mypaperonline.com/category/local-n...</td>\n      <td>Local News Archive  My Paper Online Home Discl...</td>\n    </tr>\n    <tr>\n      <th>2</th>\n      <td>2019-10-01</td>\n      <td>www.mypaperonline.com</td>\n      <td>https://www.mypaperonline.com/local-art-exhibi...</td>\n      <td>Local Art Exhibit And Sale At CCM  My Paper On...</td>\n    </tr>\n    <tr>\n      <th>3</th>\n      <td>2019-10-01</td>\n      <td>www.mypaperonline.com</td>\n      <td>https://www.mypaperonline.com/wp-json/oembed/1...</td>\n      <td>{version:1.0provider_name:My Paper Onlineprovi...</td>\n    </tr>\n    <tr>\n      <th>4</th>\n      <td>2019-10-12</td>\n      <td>www.mypaperonline.com</td>\n      <td>https://www.mypaperonline.com/category/the-hac...</td>\n      <td>The Hackettstown News Archive  My Paper Online...</td>\n    </tr>\n    <tr>\n      <th>...</th>\n      <td>...</td>\n      <td>...</td>\n      <td>...</td>\n      <td>...</td>\n    </tr>\n    <tr>\n      <th>5636</th>\n      <td>2019-10-12</td>\n      <td>www.mypaperonline.com</td>\n      <td>https://www.mypaperonline.com/millburn-residen...</td>\n      <td>Millburn Resident Wins Award for Activism   My...</td>\n    </tr>\n    <tr>\n      <th>5637</th>\n      <td>2019-11-01</td>\n      <td>www.mypaperonline.com</td>\n      <td>https://www.mypaperonline.com/category/the-mt-...</td>\n      <td>The Mt. Olive News Archive  My Paper Online Ho...</td>\n    </tr>\n    <tr>\n      <th>5638</th>\n      <td>2019-11-02</td>\n      <td>www.mypaperonline.com</td>\n      <td>https://www.mypaperonline.com/category/local-n...</td>\n      <td>Local News Archive  My Paper Online Home Discl...</td>\n    </tr>\n    <tr>\n      <th>5639</th>\n      <td>2019-11-02</td>\n      <td>www.mypaperonline.com</td>\n      <td>https://www.mypaperonline.com/four-tips-for-a-...</td>\n      <td>Four Tips For A Safe Holiday Season  My Paper ...</td>\n    </tr>\n    <tr>\n      <th>5640</th>\n      <td>2019-11-02</td>\n      <td>www.mypaperonline.com</td>\n      <td>https://www.mypaperonline.com/test-video-2.html</td>\n      <td>How to Make Cranberry Hootycreeks  My Paper On...</td>\n    </tr>\n  </tbody>\n</table>\n<p>5641 rows × 4 columns</p>\n</div>"
     },
     "metadata": {}
    }
   ],
   "source": [
    "print('for chosen sample, extracted ' + str(len(sample)) + ' articles in ' + str(round(total)) + ' seconds')\n",
    "print('for all dates, extracted ' + str(len(all_dates)) + ' articles in ' + str(round(total)) + ' seconds')\n",
    "# this data includes all www.mypaperonline.com webpages from the given dates\n",
    "print(\"chosen sample:\")\n",
    "display(sample)\n",
    "print(\"all dates:\")\n",
    "display(all_dates)"
   ]
  },
  {
   "cell_type": "code",
   "execution_count": 6,
   "metadata": {},
   "outputs": [
    {
     "output_type": "stream",
     "name": "stdout",
     "text": [
      "1092 articles left after filtering in chosen sample\n1876 articles left after filtering in all dates\n"
     ]
    }
   ],
   "source": [
    "# filter out www.mypaperonline.com sites that don't have \"/category/the-morristown-news\" in it's whole url\n",
    "filtered_sample = sample[(sample.url.str.contains('www.mypaperonline.com') == False) | (sample.url.str.contains('/category/the-morristown-news') == True)]\n",
    "filtered_all_dates = all_dates[(all_dates.url.str.contains('www.mypaperonline.com') == False) | (all_dates.url.str.contains('/category/the-morristown-news') == True)]\n",
    "print(str(len(filtered_sample)) + ' articles left after filtering in chosen sample')\n",
    "print(str(len(filtered_all_dates)) + ' articles left after filtering in all dates')"
   ]
  },
  {
   "cell_type": "code",
   "execution_count": 7,
   "metadata": {},
   "outputs": [],
   "source": [
    "# save dataframe to file\n",
    "filtered_sample.to_csv('chosensamp.csv', index=False)\n",
    "filtered_all_dates.to_csv('all_dates.csv', index=False)"
   ]
  },
  {
   "cell_type": "code",
   "execution_count": 15,
   "metadata": {},
   "outputs": [
    {
     "output_type": "stream",
     "name": "stdout",
     "text": [
      "date                                    2019-10-30 00:00:00\ndomain                            www.newbrunswicktoday.com\nurl             https://www.newbrunswicktoday.com/node/6605\ntext      COUNTDOWN: Top 50 NBToday Stories in Our First...\nName: 2603, dtype: object\ndate                                    2019-10-30 00:00:00\ndomain                            www.newbrunswicktoday.com\nurl       https://www.newbrunswicktoday.com/series/Water...\ntext      Watergate: Coverup at New Brunswick Water Util...\nName: 2604, dtype: object\ndate                                    2019-10-30 00:00:00\ndomain                            www.newbrunswicktoday.com\nurl       https://www.newbrunswicktoday.com/series/The-F...\ntext      The Future of Mine Street  New Brunswick Today...\nName: 2605, dtype: object\ndate                                    2019-10-30 00:00:00\ndomain                            www.newbrunswicktoday.com\nurl       https://www.newbrunswicktoday.com/series/The-F...\ntext      The Fight For Paid Sick Leave in New Brunswick...\nName: 2606, dtype: object\ndate                                    2019-10-30 00:00:00\ndomain                            www.newbrunswicktoday.com\nurl       https://www.newbrunswicktoday.com/series/Sheri...\ntext      Sheriff Jailed For Selling Cop Jobs  New Bruns...\nName: 2607, dtype: object\ndate                                    2019-10-30 00:00:00\ndomain                            www.newbrunswicktoday.com\nurl       https://www.newbrunswicktoday.com/series/Rutge...\ntext      Rutgers Evicts The Grease Trucks  New Brunswic...\nName: 2608, dtype: object\ndate                                    2019-10-30 00:00:00\ndomain                            www.newbrunswicktoday.com\nurl       https://www.newbrunswicktoday.com/series/Rutge...\ntext      Rutgers Cybersecurity  New Brunswick Today Hel...\nName: 2609, dtype: object\ndate                                    2019-10-30 00:00:00\ndomain                            www.newbrunswicktoday.com\nurl       https://www.newbrunswicktoday.com/series/Rutge...\ntext      Rutgers Athletics Scandals  New Brunswick Toda...\nName: 2610, dtype: object\ndate                                    2019-10-30 00:00:00\ndomain                            www.newbrunswicktoday.com\nurl       https://www.newbrunswicktoday.com/series/Rispe...\ntext      Risperdal Lawsuits Against J&J  New Brunswick ...\nName: 2611, dtype: object\ndate                                    2019-10-30 00:00:00\ndomain                            www.newbrunswicktoday.com\nurl       https://www.newbrunswicktoday.com/series/Red-L...\ntext      Red Light Cameras & Bribes  New Brunswick Toda...\nName: 2612, dtype: object\ndate                                    2019-10-30 00:00:00\ndomain                            www.newbrunswicktoday.com\nurl       https://www.newbrunswicktoday.com/series/Polic...\ntext      Police Killings Lead to Mass Protests  New Bru...\nName: 2613, dtype: object\ndate                                    2019-10-30 00:00:00\ndomain                            www.newbrunswicktoday.com\nurl       https://www.newbrunswicktoday.com/series/Invas...\ntext      Invasive Software Takes Rutgers by Surprise  N...\nName: 2614, dtype: object\ndate                                    2019-10-30 00:00:00\ndomain                            www.newbrunswicktoday.com\nurl       https://www.newbrunswicktoday.com/series/ICE-A...\ntext      ICE Actions Lead to Fear and Protest  New Brun...\nName: 2615, dtype: object\ndate                                    2019-10-30 00:00:00\ndomain                            www.newbrunswicktoday.com\nurl       https://www.newbrunswicktoday.com/series/Hurri...\ntext      Hurricane Sandy  New Brunswick Today Hello Vis...\nName: 2616, dtype: object\ndate                                    2019-10-30 00:00:00\ndomain                            www.newbrunswicktoday.com\nurl       https://www.newbrunswicktoday.com/series/Hub-C...\ntext      Hub City Ethics  New Brunswick Today Hello Vis...\nName: 2617, dtype: object\ndate                                    2019-10-30 00:00:00\ndomain                            www.newbrunswicktoday.com\nurl       https://www.newbrunswicktoday.com/series/Housi...\ntext      Housing Authority Shenanigans  New Brunswick T...\nName: 2618, dtype: object\ndate                                    2019-10-30 00:00:00\ndomain                            www.newbrunswicktoday.com\nurl       https://www.newbrunswicktoday.com/series/Helme...\ntext      Helmetta Animal Shelter Scandal  New Brunswick...\nName: 2619, dtype: object\ndate                                    2019-10-30 00:00:00\ndomain                            www.newbrunswicktoday.com\nurl       https://www.newbrunswicktoday.com/series/Funny...\ntext      Funny Money  New Brunswick Today Hello Visitor...\nName: 2620, dtype: object\ndate                                    2019-10-30 00:00:00\ndomain                            www.newbrunswicktoday.com\nurl       https://www.newbrunswicktoday.com/series/Fresh...\ntext      FreshGrocer Scams New Brunswick  New Brunswick...\nName: 2621, dtype: object\ndate                                    2019-10-30 00:00:00\ndomain                            www.newbrunswicktoday.com\nurl       https://www.newbrunswicktoday.com/series/Fire-...\ntext      Fire Director Robert Rawls  New Brunswick Toda...\nName: 2622, dtype: object\ndate                                    2019-10-30 00:00:00\ndomain                            www.newbrunswicktoday.com\nurl       https://www.newbrunswicktoday.com/series/Featu...\ntext      Featured NonProfits  New Brunswick Today Hello...\nName: 2623, dtype: object\ndate                                    2019-10-30 00:00:00\ndomain                            www.newbrunswicktoday.com\nurl       https://www.newbrunswicktoday.com/series/Elect...\ntext      Election 2017  New Brunswick Today Hello Visit...\nName: 2624, dtype: object\ndate                                    2019-10-30 00:00:00\ndomain                            www.newbrunswicktoday.com\nurl       https://www.newbrunswicktoday.com/series/Elect...\ntext      Election 2016  New Brunswick Today Hello Visit...\nName: 2625, dtype: object\ndate                                    2019-10-30 00:00:00\ndomain                            www.newbrunswicktoday.com\nurl       https://www.newbrunswicktoday.com/series/Elect...\ntext      Election 2014  New Brunswick Today Hello Visit...\nName: 2626, dtype: object\ndate                                    2019-10-30 00:00:00\ndomain                            www.newbrunswicktoday.com\nurl       https://www.newbrunswicktoday.com/series/Drone...\ntext      Drones Over New Brunswick  New Brunswick Today...\nName: 2627, dtype: object\ndate                                    2019-10-30 00:00:00\ndomain                            www.newbrunswicktoday.com\nurl       https://www.newbrunswicktoday.com/series/Dream...\ntext      Dream Act Becomes Law  New Brunswick Today Hel...\nName: 2628, dtype: object\ndate                                    2019-10-30 00:00:00\ndomain                            www.newbrunswicktoday.com\nurl                https://www.newbrunswicktoday.com/videos\ntext      New Brunswick Today Hello Visitor! Log In or R...\nName: 2629, dtype: object\ndate                                    2019-10-30 00:00:00\ndomain                            www.newbrunswicktoday.com\nurl       https://www.newbrunswicktoday.com/video/nbtoda...\ntext      NBToday Visits The Middlesex County Landfill -...\nName: 2630, dtype: object\ndate                                    2019-10-30 00:00:00\ndomain                            www.newbrunswicktoday.com\nurl       https://www.newbrunswicktoday.com/video/nbpd-c...\ntext      NBPD Car Crashes While Speeding to Fight Call ...\nName: 2631, dtype: object\ndate                                    2019-10-30 00:00:00\ndomain                            www.newbrunswicktoday.com\nurl       https://www.newbrunswicktoday.com/video/new-br...\ntext      New Brunswick Housing Authority Meeting - 5/22...\nName: 2632, dtype: object\ndate                                    2019-10-30 00:00:00\ndomain                            www.newbrunswicktoday.com\nurl       https://www.newbrunswicktoday.com/video/highla...\ntext      Highland Park Democratic Primary Candidate For...\nName: 2633, dtype: object\ndate                                    2019-10-30 00:00:00\ndomain                            www.newbrunswicktoday.com\nurl       https://www.newbrunswicktoday.com/video/nj-red...\ntext      NJ Redevelopment Authority Telephonic Board Me...\nName: 2634, dtype: object\ndate                                    2019-10-30 00:00:00\ndomain                            www.newbrunswicktoday.com\nurl       https://www.newbrunswicktoday.com/video/new-br...\ntext      New Brunswick Parking Authority - 5/22/19  New...\nName: 2635, dtype: object\ndate                                    2019-10-30 00:00:00\ndomain                            www.newbrunswicktoday.com\nurl       https://www.newbrunswicktoday.com/content/site...\ntext      Site Map  New Brunswick Today Hello Visitor! L...\nName: 2636, dtype: object\ndate                                    2019-10-30 00:00:00\ndomain                            www.newbrunswicktoday.com\nurl       https://www.newbrunswicktoday.com/content/term...\ntext      Terms of Use  New Brunswick Today Hello Visito...\nName: 2637, dtype: object\ndate                                    2019-10-30 00:00:00\ndomain                            www.newbrunswicktoday.com\nurl        https://www.newbrunswicktoday.com/privacy-policy\ntext      Privacy Policy  New Brunswick Today Hello Visi...\nName: 2638, dtype: object\ndate                                    2019-10-30 00:00:00\ndomain                                newbrunswicktoday.com\nurl       https://newbrunswicktoday.com/article/downtown...\ntext      As Downtown NB Grows So Does Its Potential Imp...\nName: 2639, dtype: object\ndate                                    2019-10-30 00:00:00\ndomain                                newbrunswicktoday.com\nurl       https://newbrunswicktoday.com/article/discret-...\ntext      New Asian-Inspired Restaurants Open Discreetly...\nName: 2640, dtype: object\ndate                                    2019-10-30 00:00:00\ndomain                                newbrunswicktoday.com\nurl       https://newbrunswicktoday.com/article/destinat...\ntext      Destination Dogs: A Speakeasy in Plain Sight  ...\nName: 2641, dtype: object\ndate                                    2019-10-30 00:00:00\ndomain                                newbrunswicktoday.com\nurl       https://newbrunswicktoday.com/article/knowledg...\ntext      Knowledge is Power: Interacting With Police  N...\nName: 2642, dtype: object\ndate                                    2019-10-30 00:00:00\ndomain                                newbrunswicktoday.com\nurl       https://newbrunswicktoday.com/article/knowledg...\ntext      Knowledge is Power: Tenants Rights  New Brunsw...\nName: 2643, dtype: object\ndate                                    2019-10-30 00:00:00\ndomain                                newbrunswicktoday.com\nurl       https://newbrunswicktoday.com/article/interact...\ntext      Interacting with Immigration and Customs Enfor...\nName: 2644, dtype: object\ndate                                    2019-10-30 00:00:00\ndomain                                newbrunswicktoday.com\nurl       https://newbrunswicktoday.com/article/supermar...\ntext      Supermarkets Chains and Small Businesses in Ne...\nName: 2645, dtype: object\ndate                                    2019-10-30 00:00:00\ndomain                                newbrunswicktoday.com\nurl       https://newbrunswicktoday.com/article/arts-and...\ntext      Arts and Culture Thrive in New Brunswick  New ...\nName: 2646, dtype: object\ndate                                    2019-10-30 00:00:00\ndomain                                newbrunswicktoday.com\nurl       https://newbrunswicktoday.com/article/new-brun...\ntext      New Brunswick 101: Your Source For Facts About...\nName: 2647, dtype: object\ndate                                    2019-10-30 00:00:00\ndomain                                newbrunswicktoday.com\nurl       https://newbrunswicktoday.com/article/rutgers-...\ntext      Rutgers University Has Called New Brunswick Ho...\nName: 2648, dtype: object\ndate                                    2019-10-30 00:00:00\ndomain                                newbrunswicktoday.com\nurl       https://newbrunswicktoday.com/article/law-enfo...\ntext      Law Enforcement Fire Protection and Emergency ...\nName: 2649, dtype: object\ndate                                    2019-10-30 00:00:00\ndomain                                newbrunswicktoday.com\nurl       https://newbrunswicktoday.com/article/many-gre...\ntext      The Many Great Restaurants and Bars of New Bru...\nName: 2650, dtype: object\ndate                                    2019-10-30 00:00:00\ndomain                                newbrunswicktoday.com\nurl       https://newbrunswicktoday.com/article/top-50-n...\ntext      COUNTDOWN: Top 50 NBToday Stories in Our First...\nName: 2651, dtype: object\ndate                                    2019-10-30 00:00:00\ndomain                                newbrunswicktoday.com\nurl              https://newbrunswicktoday.com/articles/all\ntext      Articles in All  New Brunswick Today Hello Vis...\nName: 2652, dtype: object\ndate                                    2019-10-30 00:00:00\ndomain                                newbrunswicktoday.com\nurl       https://newbrunswicktoday.com/article/new-brun...\ntext      New Brunswick Today Launches New Website  New ...\nName: 2653, dtype: object\ndate                                    2019-10-30 00:00:00\ndomain                                newbrunswicktoday.com\nurl       https://newbrunswicktoday.com/topic/op-ed/opinion\ntext      Opinion  New Brunswick Today Hello Visitor! Lo...\nName: 2654, dtype: object\ndate                                    2019-10-30 00:00:00\ndomain                                newbrunswicktoday.com\nurl       https://newbrunswicktoday.com/article/new-play...\ntext      New Players Take Over City Hall as Mayor Appro...\nName: 2655, dtype: object\ndate                                    2019-10-30 00:00:00\ndomain                                newbrunswicktoday.com\nurl       https://newbrunswicktoday.com/topic/government...\ntext      James Cahill  New Brunswick Today Hello Visito...\nName: 2656, dtype: object\ndate                                    2019-10-30 00:00:00\ndomain                                newbrunswicktoday.com\nurl       https://newbrunswicktoday.com/topic/government...\ntext      City Council  New Brunswick Today Hello Visito...\nName: 2657, dtype: object\ndate                                    2019-10-30 00:00:00\ndomain                                newbrunswicktoday.com\nurl       https://newbrunswicktoday.com/article/independ...\ntext      Independence Day Began With Two Men Shot at Th...\nName: 2658, dtype: object\ndate                                    2019-10-30 00:00:00\ndomain                                newbrunswicktoday.com\nurl       https://newbrunswicktoday.com/topic/public-saf...\ntext      Police  New Brunswick Today Hello Visitor! Log...\nName: 2659, dtype: object\ndate                                    2019-10-30 00:00:00\ndomain                                newbrunswicktoday.com\nurl       https://newbrunswicktoday.com/article/another-...\ntext      Another Supermarket Leaves NBPA-Owned Space in...\nName: 2660, dtype: object\ndate                                    2019-10-30 00:00:00\ndomain                                newbrunswicktoday.com\nurl       https://newbrunswicktoday.com/topic/government...\ntext      Middlesex County Government  New Brunswick Tod...\nName: 2661, dtype: object\ndate                                    2019-10-30 00:00:00\ndomain                                newbrunswicktoday.com\nurl       https://newbrunswicktoday.com/topic/government...\ntext      New Brunswick Parking Authority  New Brunswick...\nName: 2662, dtype: object\ndate                                    2019-10-30 00:00:00\ndomain                                newbrunswicktoday.com\nurl            https://newbrunswicktoday.com/topic/business\ntext      Business  New Brunswick Today Hello Visitor! L...\nName: 2663, dtype: object\ndate                                    2019-10-30 00:00:00\ndomain                                newbrunswicktoday.com\nurl       https://newbrunswicktoday.com/article/minimum-...\ntext      Minimum Wage Increases But Tipped Workers Larg...\nName: 2664, dtype: object\ndate                                    2019-10-30 00:00:00\ndomain                                newbrunswicktoday.com\nurl            https://newbrunswicktoday.com/topic/activism\ntext      Activism  New Brunswick Today Hello Visitor! L...\nName: 2665, dtype: object\ndate                                    2019-10-30 00:00:00\ndomain                                newbrunswicktoday.com\nurl       https://newbrunswicktoday.com/article/famous-a...\ntext      Famous Author Finishes First Year as Gloria St...\nName: 2666, dtype: object\ndate                                    2019-10-30 00:00:00\ndomain                                newbrunswicktoday.com\nurl             https://newbrunswicktoday.com/topic/rutgers\ntext      Rutgers  New Brunswick Today Hello Visitor! Lo...\nName: 2667, dtype: object\ndate                                    2019-10-30 00:00:00\ndomain                                newbrunswicktoday.com\nurl       https://newbrunswicktoday.com/article/keith-jo...\ntext      Keith Jones II Promoted to Newly-Created Job i...\nName: 2668, dtype: object\ndate                                    2019-10-30 00:00:00\ndomain                                newbrunswicktoday.com\nurl       https://newbrunswicktoday.com/article/south-ri...\ntext      South River Water Official Arrested on Safe Dr...\nName: 2669, dtype: object\ndate                                    2019-10-30 00:00:00\ndomain                                newbrunswicktoday.com\nurl       https://newbrunswicktoday.com/topic/science/he...\ntext      Health  New Brunswick Today Hello Visitor! Log...\nName: 2670, dtype: object\ndate                                    2019-10-30 00:00:00\ndomain                                newbrunswicktoday.com\nurl       https://newbrunswicktoday.com/article/under-pr...\ntext      Under Pressure Rutgers Releases RUPD and NBPD ...\nName: 2671, dtype: object\ndate                                    2019-10-30 00:00:00\ndomain                                newbrunswicktoday.com\nurl        https://newbrunswicktoday.com/taxonomy/term/6666\ntext      Regular Story  New Brunswick Today Hello Visit...\nName: 2672, dtype: object\ndate                                    2019-10-30 00:00:00\ndomain                                newbrunswicktoday.com\nurl       https://newbrunswicktoday.com/article/protests...\ntext      Protests at Annual Meeting Target J&J Over Cos...\nName: 2673, dtype: object\ndate                                    2019-10-30 00:00:00\ndomain                                newbrunswicktoday.com\nurl       https://newbrunswicktoday.com/topic/business/c...\ntext      Johnson & Johnson  New Brunswick Today Hello V...\nName: 2674, dtype: object\ndate                                    2019-10-30 00:00:00\ndomain                                newbrunswicktoday.com\nurl       https://newbrunswicktoday.com/article/averting...\ntext      Averting Strike Rutgers Strikes Deal With Some...\nName: 2675, dtype: object\ndate                                    2019-10-30 00:00:00\ndomain                                newbrunswicktoday.com\nurl       https://newbrunswicktoday.com/topic/activism/s...\ntext      Social Justice  New Brunswick Today Hello Visi...\nName: 2676, dtype: object\ndate                                    2019-10-30 00:00:00\ndomain                                newbrunswicktoday.com\nurl       https://newbrunswicktoday.com/article/behind-c...\ntext      Behind Closed Doors Mayor’s Staffer With False...\nName: 2677, dtype: object\ndate                                    2019-10-30 00:00:00\ndomain                                newbrunswicktoday.com\nurl       https://newbrunswicktoday.com/topic/government...\ntext      Elections  New Brunswick Today Hello Visitor! ...\nName: 2678, dtype: object\ndate                                    2019-10-30 00:00:00\ndomain                                newbrunswicktoday.com\nurl       https://newbrunswicktoday.com/article/nbpd-cop...\ntext      NBPD Cop Loses His Job in Favorable Plea Deal ...\nName: 2679, dtype: object\ndate                                    2019-10-30 00:00:00\ndomain                                newbrunswicktoday.com\nurl       https://newbrunswicktoday.com/article/middlese...\ntext      Middlesex Sheriff’s Officer Charged With Sex C...\nName: 2680, dtype: object\ndate                                    2019-10-30 00:00:00\ndomain                                newbrunswicktoday.com\nurl       https://newbrunswicktoday.com/article/county-p...\ntext      As County Piles Garbage Higher More Residents ...\nName: 2681, dtype: object\ndate                                    2019-10-30 00:00:00\ndomain                                newbrunswicktoday.com\nurl       https://newbrunswicktoday.com/article/grant-en...\ntext      Grant Enables Rutgers Project to Put Historic ...\nName: 2682, dtype: object\ndate                                    2019-10-30 00:00:00\ndomain                                newbrunswicktoday.com\nurl             https://newbrunswicktoday.com/topic/culture\ntext      Culture  New Brunswick Today Hello Visitor! Lo...\nName: 2683, dtype: object\ndate                                    2019-10-30 00:00:00\ndomain                                newbrunswicktoday.com\nurl       https://newbrunswicktoday.com/article/state-se...\ntext      State Senator Named to Top Job at County Utili...\nName: 2684, dtype: object\ndate                                    2019-10-30 00:00:00\ndomain                                newbrunswicktoday.com\nurl       https://newbrunswicktoday.com/topic/government...\ntext      State Government  New Brunswick Today Hello Vi...\nName: 2685, dtype: object\ndate                                    2019-10-30 00:00:00\ndomain                                newbrunswicktoday.com\nurl       https://newbrunswicktoday.com/article/brunswic...\ntext      Brunswick-Based NJ-SPCA Stripped of Police Pow...\nName: 2686, dtype: object\ndate                                    2019-10-30 00:00:00\ndomain                                newbrunswicktoday.com\nurl       https://newbrunswicktoday.com/topic/government...\ntext      City Government  New Brunswick Today Hello Vis...\nName: 2687, dtype: object\ndate                                    2019-10-30 00:00:00\ndomain                                newbrunswicktoday.com\nurl       https://newbrunswicktoday.com/article/proposed...\ntext      Proposed State Law Would Expand Voting Rights ...\nName: 2688, dtype: object\ndate                                    2019-10-30 00:00:00\ndomain                                newbrunswicktoday.com\nurl       https://newbrunswicktoday.com/article/new-brun...\ntext      New Brunswick Shaken by Two Murders in Less Th...\nName: 2689, dtype: object\ndate                                    2019-10-30 00:00:00\ndomain                                newbrunswicktoday.com\nurl       https://newbrunswicktoday.com/article/developm...\ntext      Development Controversy in East Brunswick Appr...\nName: 2690, dtype: object\ndate                                    2019-10-30 00:00:00\ndomain                                newbrunswicktoday.com\nurl       https://newbrunswicktoday.com/topic/business/d...\ntext      Development  New Brunswick Today Hello Visitor...\nName: 2691, dtype: object\ndate                                    2019-10-30 00:00:00\ndomain                                newbrunswicktoday.com\nurl       https://newbrunswicktoday.com/article/race-rep...\ntext      Race to Replace Five-Term Freeholder Sets Up C...\nName: 2692, dtype: object\ndate                                    2019-10-30 00:00:00\ndomain                                newbrunswicktoday.com\nurl       https://newbrunswicktoday.com/article/township...\ntext      Township’s Minimum Wage Violations Date Back 1...\nName: 2693, dtype: object\ndate                                    2019-10-30 00:00:00\ndomain                                newbrunswicktoday.com\nurl                          https://newbrunswicktoday.com/\ntext      New Brunswick Today Hello Visitor! Log In or R...\nName: 2694, dtype: object\ndate                                    2019-10-12 00:00:00\ndomain                                www.mypaperonline.com\nurl       https://www.mypaperonline.com/category/millbur...\ntext      Millburn News/Short Hills Archive  My Paper On...\nName: 2695, dtype: object\ndate                                    2019-10-12 00:00:00\ndomain                                www.mypaperonline.com\nurl       https://www.mypaperonline.com/category/millbur...\ntext      Millburn News/Short Hills – My Paper Online ht...\nName: 2696, dtype: object\ndate                                    2019-10-12 00:00:00\ndomain                                www.mypaperonline.com\nurl       https://www.mypaperonline.com/caldwell-univers...\ntext      Caldwell University Ranked NJ’s Best-Value Sch...\nName: 2697, dtype: object\ndate                                    2019-10-12 00:00:00\ndomain                                www.mypaperonline.com\nurl       https://www.mypaperonline.com/category/local-n...\ntext      Local News Archive  My Paper Online Home Discl...\nName: 2698, dtype: object\ndate                                    2019-10-12 00:00:00\ndomain                                www.mypaperonline.com\nurl       https://www.mypaperonline.com/hauntings-around...\ntext      Hauntings Around the Area for Halloween  My Pa...\nName: 2699, dtype: object\ndate                                    2019-10-12 00:00:00\ndomain                                www.mypaperonline.com\nurl       https://www.mypaperonline.com/west-orange-resi...\ntext      West Orange Resident Centenary Student Studies...\nName: 2700, dtype: object\ndate                                    2019-10-12 00:00:00\ndomain                                www.mypaperonline.com\nurl       https://www.mypaperonline.com/18-year-old-west...\ntext      18-Year-Old West Orange Teen Battles Cancer an...\nName: 2701, dtype: object\ndate                                    2019-10-12 00:00:00\ndomain                                www.mypaperonline.com\nurl       https://www.mypaperonline.com/millburn-residen...\ntext      Millburn Resident Wins Award for Activism   My...\nName: 2702, dtype: object\n100\n"
     ]
    }
   ],
   "source": [
    "ctr = 0\n",
    "for index, row in sample.iloc[-100:].iterrows():\n",
    "    print(row)\n",
    "    ctr = ctr + 1\n",
    "\n",
    "print(ctr)"
   ]
  }
 ]
}