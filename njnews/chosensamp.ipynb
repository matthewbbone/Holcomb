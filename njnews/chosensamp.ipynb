{
 "metadata": {
  "language_info": {
   "codemirror_mode": {
    "name": "ipython",
    "version": 3
   },
   "file_extension": ".py",
   "mimetype": "text/x-python",
   "name": "python",
   "nbconvert_exporter": "python",
   "pygments_lexer": "ipython3",
   "version": "3.7.9"
  },
  "orig_nbformat": 2,
  "kernelspec": {
   "name": "python379jvsc74a57bd0044a0165a1a561273ca818f13158b4edea630051cf64f3770cf4dedc4e818f34",
   "display_name": "Python 3.7.9 64-bit ('holcombEnv': conda)"
  }
 },
 "nbformat": 4,
 "nbformat_minor": 2,
 "cells": [
  {
   "cell_type": "code",
   "execution_count": 79,
   "metadata": {},
   "outputs": [],
   "source": [
    "import pandas as pd\n",
    "import requests\n",
    "import numpy as np\n",
    "import re\n",
    "from datetime import datetime as dt\n",
    "from bs4 import BeautifulSoup, element\n",
    "import time as tm\n",
    "import os"
   ]
  },
  {
   "cell_type": "code",
   "execution_count": 80,
   "metadata": {},
   "outputs": [],
   "source": [
    "# list of dates for extraction, formatted as dates are in the dataset\n",
    "# dates = ['', # none\n",
    "#          '20191104', # none\n",
    "#          '20191001', # yes\n",
    "#          '20191030', # yes\n",
    "#          '20191024', # yes\n",
    "#          '20190927', # none\n",
    "#          '20191012', # yes\n",
    "#          '20190930', # yes\n",
    "#          '20191002', # none\n",
    "#          '20191003', # none\n",
    "#          '20191004'] # none\n",
    "         \n",
    "dates = ['20191008', \n",
    "         '20191012', \n",
    "         '20191020', \n",
    "         '20191024', \n",
    "         '20191030', \n",
    "         '20191101', \n",
    "         '20191111', \n",
    "         '20190930', \n",
    "         '20191001', \n",
    "         '20191002', \n",
    "         '20191003',\n",
    "         '20191004'] \n",
    "\n",
    "# domain names for extraction, will filter www.mypaperonline.com by \n",
    "# \"/category/the-morristown-news\" after initial extraction\n",
    "doms = ['https://www.mypaperonline.com',\n",
    "        'https://www.newbrunswicktoday.com',\n",
    "        'https://www.newarkblack.com',\n",
    "        'http://www.mypaperonline.com',\n",
    "        'http://www.newbrunswicktoday.com',\n",
    "        'http://www.newarkblack.com',\n",
    "        'https://mypaperonline.com',\n",
    "        'https://newbrunswicktoday.com',\n",
    "        'https://newarkblack.com',\n",
    "        'http://mypaperonline.com',\n",
    "        'http://newbrunswicktoday.com',\n",
    "        'http://newarkblack.com',\n",
    "        'mypaperonline.com',\n",
    "        'newbrunswicktoday.com',\n",
    "        'newarkblack.com',\n",
    "        'www.mypaperonline.com',\n",
    "        'www.newbrunswicktoday.com',\n",
    "        'www.newarkblack.com']\n",
    "\n",
    "chars_to_remove = \",^\\()|\\\"\""
   ]
  },
  {
   "cell_type": "code",
   "execution_count": 81,
   "metadata": {},
   "outputs": [],
   "source": [
    "# save start time for timing extraction\n",
    "start = tm.time()\n",
    "\n",
    "# initialize dataframe\n",
    "sample = pd.DataFrame(columns = ['date','domain','url','text'])\n",
    "all_dates = pd.DataFrame(columns = ['date','domain','url','text'])\n",
    "\n",
    "# open 12706-fulltext.txt file for reading\n",
    "with open('12706-fulltext.txt', 'rb') as raw:\n",
    "\n",
    "    # read first line\n",
    "    line = raw.readline()\n",
    "\n",
    "    # check if each line matches a date and a domain\n",
    "    while line:\n",
    "        # split line by first 3 commas\n",
    "        key = line.decode('UTF-8').split(',', 3)\n",
    "        # remove non-numeric characters from the date\n",
    "        key[0] = re.sub('[^0-9]', '', key[0])\n",
    "\n",
    "        # saves to all_dates if in domain list, save to sample if in domain list and date list\n",
    "        if key[1] in doms:\n",
    "            all_dates = all_dates.append({'date': key[0], 'domain': key[1], 'url': key[2], 'text': key[3]}, ignore_index=True)\n",
    "            if key [0] in dates:\n",
    "                sample = sample.append({'date': key[0], 'domain': key[1], 'url': key[2], 'text': key[3]}, ignore_index=True)\n",
    "                \n",
    "        # read next line\n",
    "        line = raw.readline()\n",
    "\n",
    "# take time difference\n",
    "total = tm.time() - start"
   ]
  },
  {
   "cell_type": "code",
   "execution_count": 82,
   "metadata": {},
   "outputs": [],
   "source": [
    "# remove problematic characters from text\n",
    "text = [s.translate ({ord(c): \"\" for c in chars_to_remove}) for s in sample['text']]\n",
    "text_ad = [s.translate ({ord(c): \"\" for c in chars_to_remove}) for s in all_dates['text']]\n",
    "# replace old text with cleaned text\n",
    "sample = sample.assign(text = text)\n",
    "all_dates = all_dates.assign(text = text_ad)\n",
    "# convert date to standard format\n",
    "sample['date'] = pd.to_datetime(sample['date'])\n",
    "all_dates['date'] = pd.to_datetime(all_dates['date'])"
   ]
  },
  {
   "cell_type": "code",
   "execution_count": 83,
   "metadata": {},
   "outputs": [
    {
     "output_type": "stream",
     "name": "stdout",
     "text": [
      "for chosen sample, extracted 4337 articles in 76 seconds\nfor all dates, extracted 5641 articles in 76 seconds\nchosen sample:\n"
     ]
    },
    {
     "output_type": "display_data",
     "data": {
      "text/plain": "           date                 domain  \\\n0    2019-09-30  www.mypaperonline.com   \n1    2019-10-01  www.mypaperonline.com   \n2    2019-10-01  www.mypaperonline.com   \n3    2019-10-01  www.mypaperonline.com   \n4    2019-10-12  www.mypaperonline.com   \n...         ...                    ...   \n4332 2019-10-12  www.mypaperonline.com   \n4333 2019-10-12  www.mypaperonline.com   \n4334 2019-10-12  www.mypaperonline.com   \n4335 2019-10-12  www.mypaperonline.com   \n4336 2019-11-01  www.mypaperonline.com   \n\n                                                                                                      url  \\\n0                                                https://www.mypaperonline.com/category/the-randolph-news   \n1                               https://www.mypaperonline.com/category/local-news?paper=the-randolph-news   \n2                                    https://www.mypaperonline.com/local-art-exhibit-and-sale-at-ccm.html   \n3     https://www.mypaperonline.com/wp-json/oembed/1.0/embed?url=https%3A%2F%2Fwww.mypaperonline.com%2...   \n4                                            https://www.mypaperonline.com/category/the-hackettstown-news   \n...                                                                                                   ...   \n4332                           https://www.mypaperonline.com/hauntings-around-the-area-for-halloween.html   \n4333  https://www.mypaperonline.com/west-orange-resident-centenary-student-studies-shakespeare-studies...   \n4334  https://www.mypaperonline.com/18-year-old-west-orange-teen-battles-cancer-and-is-featured-in-sto...   \n4335                         https://www.mypaperonline.com/millburn-resident-wins-award-for-activism.html   \n4336                                             https://www.mypaperonline.com/category/the-mt-olive-news   \n\n                                                                                                     text  \n0     The Randolph News Archive  My Paper Online Home Disclaimer Privacy Sitemap Contact Friend on Fac...  \n1     Local News Archive  My Paper Online Home Disclaimer Privacy Sitemap Contact Friend on Facebook F...  \n2     Local Art Exhibit And Sale At CCM  My Paper Online Home Disclaimer Privacy Sitemap Contact Frien...  \n3     {version:1.0provider_name:My Paper Onlineprovider_url:https://www.mypaperonline.comtitle:Local A...  \n4     The Hackettstown News Archive  My Paper Online Home Disclaimer Privacy Sitemap Contact Friend on...  \n...                                                                                                   ...  \n4332  Hauntings Around the Area for Halloween  My Paper Online Home Disclaimer Privacy Sitemap Contact...  \n4333  West Orange Resident Centenary Student Studies Shakespeare Studies Abroad  My Paper Online Home ...  \n4334  18-Year-Old West Orange Teen Battles Cancer and is Featured in Stop & Shop Fundraiser  My Paper ...  \n4335  Millburn Resident Wins Award for Activism   My Paper Online Home Disclaimer Privacy Sitemap Cont...  \n4336  The Mt. Olive News Archive  My Paper Online Home Disclaimer Privacy Sitemap Contact Friend on Fa...  \n\n[4337 rows x 4 columns]",
      "text/html": "<div>\n<style scoped>\n    .dataframe tbody tr th:only-of-type {\n        vertical-align: middle;\n    }\n\n    .dataframe tbody tr th {\n        vertical-align: top;\n    }\n\n    .dataframe thead th {\n        text-align: right;\n    }\n</style>\n<table border=\"1\" class=\"dataframe\">\n  <thead>\n    <tr style=\"text-align: right;\">\n      <th></th>\n      <th>date</th>\n      <th>domain</th>\n      <th>url</th>\n      <th>text</th>\n    </tr>\n  </thead>\n  <tbody>\n    <tr>\n      <th>0</th>\n      <td>2019-09-30</td>\n      <td>www.mypaperonline.com</td>\n      <td>https://www.mypaperonline.com/category/the-randolph-news</td>\n      <td>The Randolph News Archive  My Paper Online Home Disclaimer Privacy Sitemap Contact Friend on Fac...</td>\n    </tr>\n    <tr>\n      <th>1</th>\n      <td>2019-10-01</td>\n      <td>www.mypaperonline.com</td>\n      <td>https://www.mypaperonline.com/category/local-news?paper=the-randolph-news</td>\n      <td>Local News Archive  My Paper Online Home Disclaimer Privacy Sitemap Contact Friend on Facebook F...</td>\n    </tr>\n    <tr>\n      <th>2</th>\n      <td>2019-10-01</td>\n      <td>www.mypaperonline.com</td>\n      <td>https://www.mypaperonline.com/local-art-exhibit-and-sale-at-ccm.html</td>\n      <td>Local Art Exhibit And Sale At CCM  My Paper Online Home Disclaimer Privacy Sitemap Contact Frien...</td>\n    </tr>\n    <tr>\n      <th>3</th>\n      <td>2019-10-01</td>\n      <td>www.mypaperonline.com</td>\n      <td>https://www.mypaperonline.com/wp-json/oembed/1.0/embed?url=https%3A%2F%2Fwww.mypaperonline.com%2...</td>\n      <td>{version:1.0provider_name:My Paper Onlineprovider_url:https://www.mypaperonline.comtitle:Local A...</td>\n    </tr>\n    <tr>\n      <th>4</th>\n      <td>2019-10-12</td>\n      <td>www.mypaperonline.com</td>\n      <td>https://www.mypaperonline.com/category/the-hackettstown-news</td>\n      <td>The Hackettstown News Archive  My Paper Online Home Disclaimer Privacy Sitemap Contact Friend on...</td>\n    </tr>\n    <tr>\n      <th>...</th>\n      <td>...</td>\n      <td>...</td>\n      <td>...</td>\n      <td>...</td>\n    </tr>\n    <tr>\n      <th>4332</th>\n      <td>2019-10-12</td>\n      <td>www.mypaperonline.com</td>\n      <td>https://www.mypaperonline.com/hauntings-around-the-area-for-halloween.html</td>\n      <td>Hauntings Around the Area for Halloween  My Paper Online Home Disclaimer Privacy Sitemap Contact...</td>\n    </tr>\n    <tr>\n      <th>4333</th>\n      <td>2019-10-12</td>\n      <td>www.mypaperonline.com</td>\n      <td>https://www.mypaperonline.com/west-orange-resident-centenary-student-studies-shakespeare-studies...</td>\n      <td>West Orange Resident Centenary Student Studies Shakespeare Studies Abroad  My Paper Online Home ...</td>\n    </tr>\n    <tr>\n      <th>4334</th>\n      <td>2019-10-12</td>\n      <td>www.mypaperonline.com</td>\n      <td>https://www.mypaperonline.com/18-year-old-west-orange-teen-battles-cancer-and-is-featured-in-sto...</td>\n      <td>18-Year-Old West Orange Teen Battles Cancer and is Featured in Stop &amp; Shop Fundraiser  My Paper ...</td>\n    </tr>\n    <tr>\n      <th>4335</th>\n      <td>2019-10-12</td>\n      <td>www.mypaperonline.com</td>\n      <td>https://www.mypaperonline.com/millburn-resident-wins-award-for-activism.html</td>\n      <td>Millburn Resident Wins Award for Activism   My Paper Online Home Disclaimer Privacy Sitemap Cont...</td>\n    </tr>\n    <tr>\n      <th>4336</th>\n      <td>2019-11-01</td>\n      <td>www.mypaperonline.com</td>\n      <td>https://www.mypaperonline.com/category/the-mt-olive-news</td>\n      <td>The Mt. Olive News Archive  My Paper Online Home Disclaimer Privacy Sitemap Contact Friend on Fa...</td>\n    </tr>\n  </tbody>\n</table>\n<p>4337 rows × 4 columns</p>\n</div>"
     },
     "metadata": {}
    },
    {
     "output_type": "stream",
     "name": "stdout",
     "text": [
      "all dates:\n"
     ]
    },
    {
     "output_type": "display_data",
     "data": {
      "text/plain": "           date                 domain  \\\n0    2019-09-30  www.mypaperonline.com   \n1    2019-10-01  www.mypaperonline.com   \n2    2019-10-01  www.mypaperonline.com   \n3    2019-10-01  www.mypaperonline.com   \n4    2019-10-12  www.mypaperonline.com   \n...         ...                    ...   \n5636 2019-10-12  www.mypaperonline.com   \n5637 2019-11-01  www.mypaperonline.com   \n5638 2019-11-02  www.mypaperonline.com   \n5639 2019-11-02  www.mypaperonline.com   \n5640 2019-11-02  www.mypaperonline.com   \n\n                                                                                                      url  \\\n0                                                https://www.mypaperonline.com/category/the-randolph-news   \n1                               https://www.mypaperonline.com/category/local-news?paper=the-randolph-news   \n2                                    https://www.mypaperonline.com/local-art-exhibit-and-sale-at-ccm.html   \n3     https://www.mypaperonline.com/wp-json/oembed/1.0/embed?url=https%3A%2F%2Fwww.mypaperonline.com%2...   \n4                                            https://www.mypaperonline.com/category/the-hackettstown-news   \n...                                                                                                   ...   \n5636                         https://www.mypaperonline.com/millburn-resident-wins-award-for-activism.html   \n5637                                             https://www.mypaperonline.com/category/the-mt-olive-news   \n5638                            https://www.mypaperonline.com/category/local-news?paper=the-mt-olive-news   \n5639                               https://www.mypaperonline.com/four-tips-for-a-safe-holiday-season.html   \n5640                                                      https://www.mypaperonline.com/test-video-2.html   \n\n                                                                                                     text  \n0     The Randolph News Archive  My Paper Online Home Disclaimer Privacy Sitemap Contact Friend on Fac...  \n1     Local News Archive  My Paper Online Home Disclaimer Privacy Sitemap Contact Friend on Facebook F...  \n2     Local Art Exhibit And Sale At CCM  My Paper Online Home Disclaimer Privacy Sitemap Contact Frien...  \n3     {version:1.0provider_name:My Paper Onlineprovider_url:https://www.mypaperonline.comtitle:Local A...  \n4     The Hackettstown News Archive  My Paper Online Home Disclaimer Privacy Sitemap Contact Friend on...  \n...                                                                                                   ...  \n5636  Millburn Resident Wins Award for Activism   My Paper Online Home Disclaimer Privacy Sitemap Cont...  \n5637  The Mt. Olive News Archive  My Paper Online Home Disclaimer Privacy Sitemap Contact Friend on Fa...  \n5638  Local News Archive  My Paper Online Home Disclaimer Privacy Sitemap Contact Friend on Facebook F...  \n5639  Four Tips For A Safe Holiday Season  My Paper Online Home Disclaimer Privacy Sitemap Contact Fri...  \n5640  How to Make Cranberry Hootycreeks  My Paper Online Home Disclaimer Privacy Sitemap Contact Frien...  \n\n[5641 rows x 4 columns]",
      "text/html": "<div>\n<style scoped>\n    .dataframe tbody tr th:only-of-type {\n        vertical-align: middle;\n    }\n\n    .dataframe tbody tr th {\n        vertical-align: top;\n    }\n\n    .dataframe thead th {\n        text-align: right;\n    }\n</style>\n<table border=\"1\" class=\"dataframe\">\n  <thead>\n    <tr style=\"text-align: right;\">\n      <th></th>\n      <th>date</th>\n      <th>domain</th>\n      <th>url</th>\n      <th>text</th>\n    </tr>\n  </thead>\n  <tbody>\n    <tr>\n      <th>0</th>\n      <td>2019-09-30</td>\n      <td>www.mypaperonline.com</td>\n      <td>https://www.mypaperonline.com/category/the-randolph-news</td>\n      <td>The Randolph News Archive  My Paper Online Home Disclaimer Privacy Sitemap Contact Friend on Fac...</td>\n    </tr>\n    <tr>\n      <th>1</th>\n      <td>2019-10-01</td>\n      <td>www.mypaperonline.com</td>\n      <td>https://www.mypaperonline.com/category/local-news?paper=the-randolph-news</td>\n      <td>Local News Archive  My Paper Online Home Disclaimer Privacy Sitemap Contact Friend on Facebook F...</td>\n    </tr>\n    <tr>\n      <th>2</th>\n      <td>2019-10-01</td>\n      <td>www.mypaperonline.com</td>\n      <td>https://www.mypaperonline.com/local-art-exhibit-and-sale-at-ccm.html</td>\n      <td>Local Art Exhibit And Sale At CCM  My Paper Online Home Disclaimer Privacy Sitemap Contact Frien...</td>\n    </tr>\n    <tr>\n      <th>3</th>\n      <td>2019-10-01</td>\n      <td>www.mypaperonline.com</td>\n      <td>https://www.mypaperonline.com/wp-json/oembed/1.0/embed?url=https%3A%2F%2Fwww.mypaperonline.com%2...</td>\n      <td>{version:1.0provider_name:My Paper Onlineprovider_url:https://www.mypaperonline.comtitle:Local A...</td>\n    </tr>\n    <tr>\n      <th>4</th>\n      <td>2019-10-12</td>\n      <td>www.mypaperonline.com</td>\n      <td>https://www.mypaperonline.com/category/the-hackettstown-news</td>\n      <td>The Hackettstown News Archive  My Paper Online Home Disclaimer Privacy Sitemap Contact Friend on...</td>\n    </tr>\n    <tr>\n      <th>...</th>\n      <td>...</td>\n      <td>...</td>\n      <td>...</td>\n      <td>...</td>\n    </tr>\n    <tr>\n      <th>5636</th>\n      <td>2019-10-12</td>\n      <td>www.mypaperonline.com</td>\n      <td>https://www.mypaperonline.com/millburn-resident-wins-award-for-activism.html</td>\n      <td>Millburn Resident Wins Award for Activism   My Paper Online Home Disclaimer Privacy Sitemap Cont...</td>\n    </tr>\n    <tr>\n      <th>5637</th>\n      <td>2019-11-01</td>\n      <td>www.mypaperonline.com</td>\n      <td>https://www.mypaperonline.com/category/the-mt-olive-news</td>\n      <td>The Mt. Olive News Archive  My Paper Online Home Disclaimer Privacy Sitemap Contact Friend on Fa...</td>\n    </tr>\n    <tr>\n      <th>5638</th>\n      <td>2019-11-02</td>\n      <td>www.mypaperonline.com</td>\n      <td>https://www.mypaperonline.com/category/local-news?paper=the-mt-olive-news</td>\n      <td>Local News Archive  My Paper Online Home Disclaimer Privacy Sitemap Contact Friend on Facebook F...</td>\n    </tr>\n    <tr>\n      <th>5639</th>\n      <td>2019-11-02</td>\n      <td>www.mypaperonline.com</td>\n      <td>https://www.mypaperonline.com/four-tips-for-a-safe-holiday-season.html</td>\n      <td>Four Tips For A Safe Holiday Season  My Paper Online Home Disclaimer Privacy Sitemap Contact Fri...</td>\n    </tr>\n    <tr>\n      <th>5640</th>\n      <td>2019-11-02</td>\n      <td>www.mypaperonline.com</td>\n      <td>https://www.mypaperonline.com/test-video-2.html</td>\n      <td>How to Make Cranberry Hootycreeks  My Paper Online Home Disclaimer Privacy Sitemap Contact Frien...</td>\n    </tr>\n  </tbody>\n</table>\n<p>5641 rows × 4 columns</p>\n</div>"
     },
     "metadata": {}
    }
   ],
   "source": [
    "print('for chosen sample, extracted ' + str(len(sample)) + ' articles in ' + str(round(total)) + ' seconds')\n",
    "print('for all dates, extracted ' + str(len(all_dates)) + ' articles in ' + str(round(total)) + ' seconds')\n",
    "# this data includes all www.mypaperonline.com webpages from the given dates\n",
    "print(\"chosen sample:\")\n",
    "display(sample)\n",
    "print(\"all dates:\")\n",
    "display(all_dates)"
   ]
  },
  {
   "cell_type": "code",
   "execution_count": 84,
   "metadata": {},
   "outputs": [],
   "source": [
    "# in this block the mypaperonline.com webpages (besides the morristown life homepage) are being separated fromt the rest\n",
    "nonmpo = sample.loc[(sample.url.str.contains('www.mypaperonline.com') == False) | (sample.url.str.contains('/category/the-morristown-news') == True)].copy()\n",
    "mpo = sample.loc[(sample.url.str.contains('www.mypaperonline.com') == True) & (sample.url.str.contains('/category/the-morristown-news') == False)].copy()\n",
    "nonmpo_alldates = all_dates.loc[(all_dates.url.str.contains('www.mypaperonline.com') == False) | (all_dates.url.str.contains('/category/the-morristown-news') == True)].copy()\n",
    "mpo_alldates = all_dates.loc[(all_dates.url.str.contains('www.mypaperonline.com') == True)].copy()"
   ]
  },
  {
   "cell_type": "code",
   "execution_count": 85,
   "metadata": {},
   "outputs": [],
   "source": [
    "# this function constructs the url for an archived webpage according to https://wayback.archive-it.org formatting\n",
    "def get_html(collection_id, folder, data):\n",
    "\n",
    "    # creates a local directory named 'folder' if it doesn't exist\n",
    "    if not os.path.isdir(folder):\n",
    "        os.mkdir(folder)\n",
    "\n",
    "    # the base url for the archive\n",
    "    ai_url = \"https://wayback.archive-it.org\"\n",
    "\n",
    "    # this gets a unique list of dates and urls so we can avoid duplication\n",
    "    date_list = pd.to_datetime(data['date'].unique())\n",
    "    urls = data['url'].unique()\n",
    "\n",
    "    # this loop iterates through all the urls, searches for the archived webpage\n",
    "    # then looks for any hyperlinks on the page that are associated with a date in the list\n",
    "    for url in urls:\n",
    "\n",
    "        # this is the url of an archived webpage's home \n",
    "        # (e.g. https://wayback.archive-it.org/12706/*/http://mypaperonline.com)\n",
    "        home = ai_url + '/' + str(collection_id) + '/*/' + url\n",
    "\n",
    "        # this block gets all the date hyperlinks\n",
    "        page = requests.get(home)\n",
    "        soup = BeautifulSoup(page.content, \"lxml\")\n",
    "        alist = soup.find_all(\"a\")\n",
    "        alist = [a for a in alist if 'onclick' in a.attrs]\n",
    "        dates = [dt.strptime(a.text, '%b %d, %Y') for a in alist]\n",
    "\n",
    "        # this loops through all the date hyperlinks and if they're in\n",
    "        # the date_list it saves them locally\n",
    "        for a in alist:\n",
    "\n",
    "            # this creates a local path for the html, it converts URLS+dates\n",
    "            # into unique simple strings\n",
    "            path = folder + '/' + dt.strptime(a.text, '%b %d, %Y').strftime('%Y%m%d') + '_' + ''.join(re.findall('(\\d+|[a-zA-Z]+|-|\\.)', url.split('/')[-1]))\n",
    "\n",
    "            # this is where it saves the html ('onclick' in a.attrs is probably redundant)\n",
    "            if 'onclick' in a.attrs and dt.strptime(a.text, '%b %d, %Y') in date_list and not os.path.isfile(path):\n",
    "                wp = requests.get('https:' + a.attrs['href'])\n",
    "                f = open(path, 'wb')\n",
    "                f.write(wp.content)\n",
    "                f.close()"
   ]
  },
  {
   "cell_type": "code",
   "execution_count": 86,
   "metadata": {},
   "outputs": [],
   "source": [
    "get_html(12706, 'mypaper_full', mpo_alldates)"
   ]
  },
  {
   "cell_type": "code",
   "execution_count": 87,
   "metadata": {},
   "outputs": [],
   "source": [
    "\n",
    "# this function goes through all of the mypaperonline.com webpages\n",
    "# and labels them if they have an article object labeled \"category-the-morristown-news\"\n",
    "def label_morris(data, folder):\n",
    "\n",
    "    # adds the column for labeling 1/0 if is/is not morristown life article\n",
    "    data.loc[:,'morristown'] = None\n",
    "\n",
    "    # this loop interates through every row in the dataframe, identifies\n",
    "    # the local html file that is that row's webpage and checks to see\n",
    "    # if that html has an article object labeled \"category-the-morristown-news\"\n",
    "    # and populates the morristown column accordingly\n",
    "    for index, row in data.iterrows():\n",
    "\n",
    "        # this creates a local path for the html, it converts URLS+dates\n",
    "        # into unique simple strings\n",
    "        path = folder + '/' + ''.join(re.findall('\\d+', row.date.strftime('%Y-%m-%d'))) + '_' + ''.join(re.findall('(\\d+|[a-zA-Z]+|-|\\.)', row.url.split('/')[-1]))\n",
    "\n",
    "        # this tries opening the local html and throws an error if it doesn't exist\n",
    "        try:\n",
    "            f = open(path, 'rb')\n",
    "            html = f.read()\n",
    "        except:\n",
    "            raise Exception('No HTML')\n",
    "\n",
    "        # this checks to see if there is an article object in the html\n",
    "        # if there isn't it labels morristown as 0\n",
    "        try:\n",
    "            soup = BeautifulSoup(html, \"lxml\")\n",
    "            article = soup.find('article').attrs['class']\n",
    "        except:\n",
    "            article = []\n",
    "            data.loc[index, 'morristown'] = 0\n",
    "        \n",
    "        # this checks to see if the article in the html is labeled \n",
    "        # with 'category-the-morristown-news' \n",
    "        if 'category-the-morristown-news' in article or 'category-morristown-digital-edition':\n",
    "            data.loc[index, 'morristown'] = 1\n",
    "        else:\n",
    "            data.loc[index, 'morristown'] = 0\n"
   ]
  },
  {
   "cell_type": "code",
   "execution_count": 88,
   "metadata": {
    "tags": []
   },
   "outputs": [],
   "source": [
    "label_morris(mpo, 'mypaper_full')\n",
    "label_morris(mpo_alldates, 'mypaper_full')"
   ]
  },
  {
   "cell_type": "code",
   "execution_count": 89,
   "metadata": {},
   "outputs": [],
   "source": [
    "# remove morristown column\n",
    "morristown = mpo.loc[(mpo.morristown == True)].copy().drop('morristown', axis = 1)\n",
    "morristown_alldates = mpo_alldates.loc[(mpo_alldates.morristown == True)].copy().drop('morristown', axis = 1)"
   ]
  },
  {
   "cell_type": "code",
   "execution_count": 90,
   "metadata": {},
   "outputs": [
    {
     "output_type": "display_data",
     "data": {
      "text/plain": "           date                 domain  \\\n0    2019-09-30  www.mypaperonline.com   \n1    2019-10-01  www.mypaperonline.com   \n2    2019-10-01  www.mypaperonline.com   \n3    2019-10-01  www.mypaperonline.com   \n4    2019-10-12  www.mypaperonline.com   \n...         ...                    ...   \n4332 2019-10-12  www.mypaperonline.com   \n4333 2019-10-12  www.mypaperonline.com   \n4334 2019-10-12  www.mypaperonline.com   \n4335 2019-10-12  www.mypaperonline.com   \n4336 2019-11-01  www.mypaperonline.com   \n\n                                                                                                      url  \\\n0                                                https://www.mypaperonline.com/category/the-randolph-news   \n1                               https://www.mypaperonline.com/category/local-news?paper=the-randolph-news   \n2                                    https://www.mypaperonline.com/local-art-exhibit-and-sale-at-ccm.html   \n3     https://www.mypaperonline.com/wp-json/oembed/1.0/embed?url=https%3A%2F%2Fwww.mypaperonline.com%2...   \n4                                            https://www.mypaperonline.com/category/the-hackettstown-news   \n...                                                                                                   ...   \n4332                           https://www.mypaperonline.com/hauntings-around-the-area-for-halloween.html   \n4333  https://www.mypaperonline.com/west-orange-resident-centenary-student-studies-shakespeare-studies...   \n4334  https://www.mypaperonline.com/18-year-old-west-orange-teen-battles-cancer-and-is-featured-in-sto...   \n4335                         https://www.mypaperonline.com/millburn-resident-wins-award-for-activism.html   \n4336                                             https://www.mypaperonline.com/category/the-mt-olive-news   \n\n                                                                                                     text  \n0     The Randolph News Archive  My Paper Online Home Disclaimer Privacy Sitemap Contact Friend on Fac...  \n1     Local News Archive  My Paper Online Home Disclaimer Privacy Sitemap Contact Friend on Facebook F...  \n2     Local Art Exhibit And Sale At CCM  My Paper Online Home Disclaimer Privacy Sitemap Contact Frien...  \n3     {version:1.0provider_name:My Paper Onlineprovider_url:https://www.mypaperonline.comtitle:Local A...  \n4     The Hackettstown News Archive  My Paper Online Home Disclaimer Privacy Sitemap Contact Friend on...  \n...                                                                                                   ...  \n4332  Hauntings Around the Area for Halloween  My Paper Online Home Disclaimer Privacy Sitemap Contact...  \n4333  West Orange Resident Centenary Student Studies Shakespeare Studies Abroad  My Paper Online Home ...  \n4334  18-Year-Old West Orange Teen Battles Cancer and is Featured in Stop & Shop Fundraiser  My Paper ...  \n4335  Millburn Resident Wins Award for Activism   My Paper Online Home Disclaimer Privacy Sitemap Cont...  \n4336  The Mt. Olive News Archive  My Paper Online Home Disclaimer Privacy Sitemap Contact Friend on Fa...  \n\n[2549 rows x 4 columns]",
      "text/html": "<div>\n<style scoped>\n    .dataframe tbody tr th:only-of-type {\n        vertical-align: middle;\n    }\n\n    .dataframe tbody tr th {\n        vertical-align: top;\n    }\n\n    .dataframe thead th {\n        text-align: right;\n    }\n</style>\n<table border=\"1\" class=\"dataframe\">\n  <thead>\n    <tr style=\"text-align: right;\">\n      <th></th>\n      <th>date</th>\n      <th>domain</th>\n      <th>url</th>\n      <th>text</th>\n    </tr>\n  </thead>\n  <tbody>\n    <tr>\n      <th>0</th>\n      <td>2019-09-30</td>\n      <td>www.mypaperonline.com</td>\n      <td>https://www.mypaperonline.com/category/the-randolph-news</td>\n      <td>The Randolph News Archive  My Paper Online Home Disclaimer Privacy Sitemap Contact Friend on Fac...</td>\n    </tr>\n    <tr>\n      <th>1</th>\n      <td>2019-10-01</td>\n      <td>www.mypaperonline.com</td>\n      <td>https://www.mypaperonline.com/category/local-news?paper=the-randolph-news</td>\n      <td>Local News Archive  My Paper Online Home Disclaimer Privacy Sitemap Contact Friend on Facebook F...</td>\n    </tr>\n    <tr>\n      <th>2</th>\n      <td>2019-10-01</td>\n      <td>www.mypaperonline.com</td>\n      <td>https://www.mypaperonline.com/local-art-exhibit-and-sale-at-ccm.html</td>\n      <td>Local Art Exhibit And Sale At CCM  My Paper Online Home Disclaimer Privacy Sitemap Contact Frien...</td>\n    </tr>\n    <tr>\n      <th>3</th>\n      <td>2019-10-01</td>\n      <td>www.mypaperonline.com</td>\n      <td>https://www.mypaperonline.com/wp-json/oembed/1.0/embed?url=https%3A%2F%2Fwww.mypaperonline.com%2...</td>\n      <td>{version:1.0provider_name:My Paper Onlineprovider_url:https://www.mypaperonline.comtitle:Local A...</td>\n    </tr>\n    <tr>\n      <th>4</th>\n      <td>2019-10-12</td>\n      <td>www.mypaperonline.com</td>\n      <td>https://www.mypaperonline.com/category/the-hackettstown-news</td>\n      <td>The Hackettstown News Archive  My Paper Online Home Disclaimer Privacy Sitemap Contact Friend on...</td>\n    </tr>\n    <tr>\n      <th>...</th>\n      <td>...</td>\n      <td>...</td>\n      <td>...</td>\n      <td>...</td>\n    </tr>\n    <tr>\n      <th>4332</th>\n      <td>2019-10-12</td>\n      <td>www.mypaperonline.com</td>\n      <td>https://www.mypaperonline.com/hauntings-around-the-area-for-halloween.html</td>\n      <td>Hauntings Around the Area for Halloween  My Paper Online Home Disclaimer Privacy Sitemap Contact...</td>\n    </tr>\n    <tr>\n      <th>4333</th>\n      <td>2019-10-12</td>\n      <td>www.mypaperonline.com</td>\n      <td>https://www.mypaperonline.com/west-orange-resident-centenary-student-studies-shakespeare-studies...</td>\n      <td>West Orange Resident Centenary Student Studies Shakespeare Studies Abroad  My Paper Online Home ...</td>\n    </tr>\n    <tr>\n      <th>4334</th>\n      <td>2019-10-12</td>\n      <td>www.mypaperonline.com</td>\n      <td>https://www.mypaperonline.com/18-year-old-west-orange-teen-battles-cancer-and-is-featured-in-sto...</td>\n      <td>18-Year-Old West Orange Teen Battles Cancer and is Featured in Stop &amp; Shop Fundraiser  My Paper ...</td>\n    </tr>\n    <tr>\n      <th>4335</th>\n      <td>2019-10-12</td>\n      <td>www.mypaperonline.com</td>\n      <td>https://www.mypaperonline.com/millburn-resident-wins-award-for-activism.html</td>\n      <td>Millburn Resident Wins Award for Activism   My Paper Online Home Disclaimer Privacy Sitemap Cont...</td>\n    </tr>\n    <tr>\n      <th>4336</th>\n      <td>2019-11-01</td>\n      <td>www.mypaperonline.com</td>\n      <td>https://www.mypaperonline.com/category/the-mt-olive-news</td>\n      <td>The Mt. Olive News Archive  My Paper Online Home Disclaimer Privacy Sitemap Contact Friend on Fa...</td>\n    </tr>\n  </tbody>\n</table>\n<p>2549 rows × 4 columns</p>\n</div>"
     },
     "metadata": {}
    },
    {
     "output_type": "display_data",
     "data": {
      "text/plain": "           date                 domain  \\\n0    2019-09-30  www.mypaperonline.com   \n1    2019-10-01  www.mypaperonline.com   \n2    2019-10-01  www.mypaperonline.com   \n3    2019-10-01  www.mypaperonline.com   \n4    2019-10-12  www.mypaperonline.com   \n...         ...                    ...   \n5636 2019-10-12  www.mypaperonline.com   \n5637 2019-11-01  www.mypaperonline.com   \n5638 2019-11-02  www.mypaperonline.com   \n5639 2019-11-02  www.mypaperonline.com   \n5640 2019-11-02  www.mypaperonline.com   \n\n                                                                                                      url  \\\n0                                                https://www.mypaperonline.com/category/the-randolph-news   \n1                               https://www.mypaperonline.com/category/local-news?paper=the-randolph-news   \n2                                    https://www.mypaperonline.com/local-art-exhibit-and-sale-at-ccm.html   \n3     https://www.mypaperonline.com/wp-json/oembed/1.0/embed?url=https%3A%2F%2Fwww.mypaperonline.com%2...   \n4                                            https://www.mypaperonline.com/category/the-hackettstown-news   \n...                                                                                                   ...   \n5636                         https://www.mypaperonline.com/millburn-resident-wins-award-for-activism.html   \n5637                                             https://www.mypaperonline.com/category/the-mt-olive-news   \n5638                            https://www.mypaperonline.com/category/local-news?paper=the-mt-olive-news   \n5639                               https://www.mypaperonline.com/four-tips-for-a-safe-holiday-season.html   \n5640                                                      https://www.mypaperonline.com/test-video-2.html   \n\n                                                                                                     text  \n0     The Randolph News Archive  My Paper Online Home Disclaimer Privacy Sitemap Contact Friend on Fac...  \n1     Local News Archive  My Paper Online Home Disclaimer Privacy Sitemap Contact Friend on Facebook F...  \n2     Local Art Exhibit And Sale At CCM  My Paper Online Home Disclaimer Privacy Sitemap Contact Frien...  \n3     {version:1.0provider_name:My Paper Onlineprovider_url:https://www.mypaperonline.comtitle:Local A...  \n4     The Hackettstown News Archive  My Paper Online Home Disclaimer Privacy Sitemap Contact Friend on...  \n...                                                                                                   ...  \n5636  Millburn Resident Wins Award for Activism   My Paper Online Home Disclaimer Privacy Sitemap Cont...  \n5637  The Mt. Olive News Archive  My Paper Online Home Disclaimer Privacy Sitemap Contact Friend on Fa...  \n5638  Local News Archive  My Paper Online Home Disclaimer Privacy Sitemap Contact Friend on Facebook F...  \n5639  Four Tips For A Safe Holiday Season  My Paper Online Home Disclaimer Privacy Sitemap Contact Fri...  \n5640  How to Make Cranberry Hootycreeks  My Paper Online Home Disclaimer Privacy Sitemap Contact Frien...  \n\n[3779 rows x 4 columns]",
      "text/html": "<div>\n<style scoped>\n    .dataframe tbody tr th:only-of-type {\n        vertical-align: middle;\n    }\n\n    .dataframe tbody tr th {\n        vertical-align: top;\n    }\n\n    .dataframe thead th {\n        text-align: right;\n    }\n</style>\n<table border=\"1\" class=\"dataframe\">\n  <thead>\n    <tr style=\"text-align: right;\">\n      <th></th>\n      <th>date</th>\n      <th>domain</th>\n      <th>url</th>\n      <th>text</th>\n    </tr>\n  </thead>\n  <tbody>\n    <tr>\n      <th>0</th>\n      <td>2019-09-30</td>\n      <td>www.mypaperonline.com</td>\n      <td>https://www.mypaperonline.com/category/the-randolph-news</td>\n      <td>The Randolph News Archive  My Paper Online Home Disclaimer Privacy Sitemap Contact Friend on Fac...</td>\n    </tr>\n    <tr>\n      <th>1</th>\n      <td>2019-10-01</td>\n      <td>www.mypaperonline.com</td>\n      <td>https://www.mypaperonline.com/category/local-news?paper=the-randolph-news</td>\n      <td>Local News Archive  My Paper Online Home Disclaimer Privacy Sitemap Contact Friend on Facebook F...</td>\n    </tr>\n    <tr>\n      <th>2</th>\n      <td>2019-10-01</td>\n      <td>www.mypaperonline.com</td>\n      <td>https://www.mypaperonline.com/local-art-exhibit-and-sale-at-ccm.html</td>\n      <td>Local Art Exhibit And Sale At CCM  My Paper Online Home Disclaimer Privacy Sitemap Contact Frien...</td>\n    </tr>\n    <tr>\n      <th>3</th>\n      <td>2019-10-01</td>\n      <td>www.mypaperonline.com</td>\n      <td>https://www.mypaperonline.com/wp-json/oembed/1.0/embed?url=https%3A%2F%2Fwww.mypaperonline.com%2...</td>\n      <td>{version:1.0provider_name:My Paper Onlineprovider_url:https://www.mypaperonline.comtitle:Local A...</td>\n    </tr>\n    <tr>\n      <th>4</th>\n      <td>2019-10-12</td>\n      <td>www.mypaperonline.com</td>\n      <td>https://www.mypaperonline.com/category/the-hackettstown-news</td>\n      <td>The Hackettstown News Archive  My Paper Online Home Disclaimer Privacy Sitemap Contact Friend on...</td>\n    </tr>\n    <tr>\n      <th>...</th>\n      <td>...</td>\n      <td>...</td>\n      <td>...</td>\n      <td>...</td>\n    </tr>\n    <tr>\n      <th>5636</th>\n      <td>2019-10-12</td>\n      <td>www.mypaperonline.com</td>\n      <td>https://www.mypaperonline.com/millburn-resident-wins-award-for-activism.html</td>\n      <td>Millburn Resident Wins Award for Activism   My Paper Online Home Disclaimer Privacy Sitemap Cont...</td>\n    </tr>\n    <tr>\n      <th>5637</th>\n      <td>2019-11-01</td>\n      <td>www.mypaperonline.com</td>\n      <td>https://www.mypaperonline.com/category/the-mt-olive-news</td>\n      <td>The Mt. Olive News Archive  My Paper Online Home Disclaimer Privacy Sitemap Contact Friend on Fa...</td>\n    </tr>\n    <tr>\n      <th>5638</th>\n      <td>2019-11-02</td>\n      <td>www.mypaperonline.com</td>\n      <td>https://www.mypaperonline.com/category/local-news?paper=the-mt-olive-news</td>\n      <td>Local News Archive  My Paper Online Home Disclaimer Privacy Sitemap Contact Friend on Facebook F...</td>\n    </tr>\n    <tr>\n      <th>5639</th>\n      <td>2019-11-02</td>\n      <td>www.mypaperonline.com</td>\n      <td>https://www.mypaperonline.com/four-tips-for-a-safe-holiday-season.html</td>\n      <td>Four Tips For A Safe Holiday Season  My Paper Online Home Disclaimer Privacy Sitemap Contact Fri...</td>\n    </tr>\n    <tr>\n      <th>5640</th>\n      <td>2019-11-02</td>\n      <td>www.mypaperonline.com</td>\n      <td>https://www.mypaperonline.com/test-video-2.html</td>\n      <td>How to Make Cranberry Hootycreeks  My Paper Online Home Disclaimer Privacy Sitemap Contact Frien...</td>\n    </tr>\n  </tbody>\n</table>\n<p>3779 rows × 4 columns</p>\n</div>"
     },
     "metadata": {}
    }
   ],
   "source": [
    "display(morristown)\n",
    "display(morristown_alldates)"
   ]
  },
  {
   "cell_type": "code",
   "execution_count": 91,
   "metadata": {},
   "outputs": [],
   "source": [
    "# recombine mypaponline.com webpages with the rest\n",
    "complete = nonmpo.append(morristown)\n",
    "complete_alldates = nonmpo_alldates.append(morristown_alldates)"
   ]
  },
  {
   "cell_type": "code",
   "execution_count": 92,
   "metadata": {},
   "outputs": [],
   "source": [
    "complete.to_csv('final_chosen.csv')\n",
    "complete_alldates.to_csv('final_chosen_alldates.csv')"
   ]
  },
  {
   "cell_type": "code",
   "execution_count": 93,
   "metadata": {},
   "outputs": [
    {
     "output_type": "display_data",
     "data": {
      "text/plain": "           date                 domain  \\\n3876 2019-10-01  www.mypaperonline.com   \n727  2019-10-20  www.mypaperonline.com   \n2648 2019-10-08  www.mypaperonline.com   \n3332 2019-10-24  www.mypaperonline.com   \n3754 2019-10-01  www.mypaperonline.com   \n1130 2019-11-11  www.mypaperonline.com   \n3753 2019-10-01  www.mypaperonline.com   \n2850 2019-10-01  www.mypaperonline.com   \n1024 2019-10-08  www.mypaperonline.com   \n3236 2019-10-24  www.mypaperonline.com   \n\n                                                                                                      url  \\\n3876  http://www.mypaperonline.com/moms-helping-moms-partners-with-homeless-solutions-of-morristown-2....   \n727                           https://www.mypaperonline.com/the-morristown-festival-of-books-is-back.html   \n2648                   https://www.mypaperonline.com/category/digital-editions/morristown-digital-edition   \n3332  http://www.mypaperonline.com/moms-helping-moms-partners-with-homeless-solutions-of-morristown-2....   \n3754  https://www.mypaperonline.com/wp-json/oembed/1.0/embed?url=https%3A%2F%2Fwww.mypaperonline.com%2...   \n1130    https://www.mypaperonline.com/teams-for-kids-foundation-donates-to-morristown-medical-center.html   \n3753           https://www.mypaperonline.com/peplowski-to-pay-tribute-to-benny-goodman-in-morristown.html   \n2850                          https://www.mypaperonline.com/category/local-news?paper=the-morristown-news   \n1024      https://www.mypaperonline.com/peplowski-to-pay-tribute-to-benny-goodman-in-morristown.html/feed   \n3236                   https://www.mypaperonline.com/category/digital-editions/morristown-digital-edition   \n\n     morristown  \n3876          1  \n727           1  \n2648          1  \n3332          1  \n3754          1  \n1130          1  \n3753          1  \n2850          1  \n1024          1  \n3236          1  ",
      "text/html": "<div>\n<style scoped>\n    .dataframe tbody tr th:only-of-type {\n        vertical-align: middle;\n    }\n\n    .dataframe tbody tr th {\n        vertical-align: top;\n    }\n\n    .dataframe thead th {\n        text-align: right;\n    }\n</style>\n<table border=\"1\" class=\"dataframe\">\n  <thead>\n    <tr style=\"text-align: right;\">\n      <th></th>\n      <th>date</th>\n      <th>domain</th>\n      <th>url</th>\n      <th>morristown</th>\n    </tr>\n  </thead>\n  <tbody>\n    <tr>\n      <th>3876</th>\n      <td>2019-10-01</td>\n      <td>www.mypaperonline.com</td>\n      <td>http://www.mypaperonline.com/moms-helping-moms-partners-with-homeless-solutions-of-morristown-2....</td>\n      <td>1</td>\n    </tr>\n    <tr>\n      <th>727</th>\n      <td>2019-10-20</td>\n      <td>www.mypaperonline.com</td>\n      <td>https://www.mypaperonline.com/the-morristown-festival-of-books-is-back.html</td>\n      <td>1</td>\n    </tr>\n    <tr>\n      <th>2648</th>\n      <td>2019-10-08</td>\n      <td>www.mypaperonline.com</td>\n      <td>https://www.mypaperonline.com/category/digital-editions/morristown-digital-edition</td>\n      <td>1</td>\n    </tr>\n    <tr>\n      <th>3332</th>\n      <td>2019-10-24</td>\n      <td>www.mypaperonline.com</td>\n      <td>http://www.mypaperonline.com/moms-helping-moms-partners-with-homeless-solutions-of-morristown-2....</td>\n      <td>1</td>\n    </tr>\n    <tr>\n      <th>3754</th>\n      <td>2019-10-01</td>\n      <td>www.mypaperonline.com</td>\n      <td>https://www.mypaperonline.com/wp-json/oembed/1.0/embed?url=https%3A%2F%2Fwww.mypaperonline.com%2...</td>\n      <td>1</td>\n    </tr>\n    <tr>\n      <th>1130</th>\n      <td>2019-11-11</td>\n      <td>www.mypaperonline.com</td>\n      <td>https://www.mypaperonline.com/teams-for-kids-foundation-donates-to-morristown-medical-center.html</td>\n      <td>1</td>\n    </tr>\n    <tr>\n      <th>3753</th>\n      <td>2019-10-01</td>\n      <td>www.mypaperonline.com</td>\n      <td>https://www.mypaperonline.com/peplowski-to-pay-tribute-to-benny-goodman-in-morristown.html</td>\n      <td>1</td>\n    </tr>\n    <tr>\n      <th>2850</th>\n      <td>2019-10-01</td>\n      <td>www.mypaperonline.com</td>\n      <td>https://www.mypaperonline.com/category/local-news?paper=the-morristown-news</td>\n      <td>1</td>\n    </tr>\n    <tr>\n      <th>1024</th>\n      <td>2019-10-08</td>\n      <td>www.mypaperonline.com</td>\n      <td>https://www.mypaperonline.com/peplowski-to-pay-tribute-to-benny-goodman-in-morristown.html/feed</td>\n      <td>1</td>\n    </tr>\n    <tr>\n      <th>3236</th>\n      <td>2019-10-24</td>\n      <td>www.mypaperonline.com</td>\n      <td>https://www.mypaperonline.com/category/digital-editions/morristown-digital-edition</td>\n      <td>1</td>\n    </tr>\n  </tbody>\n</table>\n</div>"
     },
     "metadata": {}
    }
   ],
   "source": [
    "display(mpo[(mpo.url.str.contains('morristown'))].sample(10).drop('text', axis = 1))"
   ]
  },
  {
   "cell_type": "code",
   "execution_count": 94,
   "metadata": {},
   "outputs": [],
   "source": [
    "pd.set_option('display.max_colwidth', None)"
   ]
  },
  {
   "cell_type": "code",
   "execution_count": 95,
   "metadata": {},
   "outputs": [],
   "source": [
    "pd.set_option('display.width', None)\n",
    "pd.set_option('display.max_colwidth', 100)"
   ]
  }
 ]
}