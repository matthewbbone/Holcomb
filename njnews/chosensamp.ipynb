{
 "metadata": {
  "language_info": {
   "codemirror_mode": {
    "name": "ipython",
    "version": 3
   },
   "file_extension": ".py",
   "mimetype": "text/x-python",
   "name": "python",
   "nbconvert_exporter": "python",
   "pygments_lexer": "ipython3",
   "version": "3.7.9-final"
  },
  "orig_nbformat": 2,
  "kernelspec": {
   "name": "python3",
   "display_name": "Python 3.7.9 64-bit ('holcombEnv': conda)",
   "metadata": {
    "interpreter": {
     "hash": "044a0165a1a561273ca818f13158b4edea630051cf64f3770cf4dedc4e818f34"
    }
   }
  }
 },
 "nbformat": 4,
 "nbformat_minor": 2,
 "cells": [
  {
   "cell_type": "code",
   "execution_count": 77,
   "metadata": {},
   "outputs": [],
   "source": [
    "import pandas as pd\n",
    "import numpy as np\n",
    "import re\n",
    "from datetime import datetime as dt\n",
    "import time as tm"
   ]
  },
  {
   "cell_type": "code",
   "execution_count": 90,
   "metadata": {},
   "outputs": [],
   "source": [
    "# list of dates for extraction, formatted as dates are in the dataset\n",
    "dates = ['20191013', # none\n",
    "         '20191104', # none\n",
    "         '20191001', # yes\n",
    "         '20191030', # yes\n",
    "         '20191024', # yes\n",
    "         '20190927', # none\n",
    "         '20191012', # yes\n",
    "         '20190930', # yes\n",
    "         '20191002', # none\n",
    "         '20191003', # none\n",
    "         '20191004'] # none\n",
    "\n",
    "# domain names for extraction, will filter www.mypaperonline.com by \n",
    "# \"/category/the-morristown-news\" after initial extraction\n",
    "doms = ['https://www.mypaperonline.com',\n",
    "        'https://www.newbrunswicktoday.com',\n",
    "        'https://www.newarkblack.com',\n",
    "        'http://www.mypaperonline.com',\n",
    "        'http://www.newbrunswicktoday.com',\n",
    "        'http://www.newarkblack.com',\n",
    "        'mypaperonline.com',\n",
    "        'newbrunswicktoday.com',\n",
    "        'newarkblack.com',\n",
    "        'www.mypaperonline.com',\n",
    "        'www.newbrunswicktoday.com',\n",
    "        'www.newarkblack.com']\n",
    "\n",
    "chars_to_remove = \",^\\()|\\\"\""
   ]
  },
  {
   "cell_type": "code",
   "execution_count": 91,
   "metadata": {},
   "outputs": [],
   "source": [
    "# save start time for timing extraction\n",
    "start = tm.time()\n",
    "\n",
    "# initialize dataframe\n",
    "sample = pd.DataFrame(columns = ['date','domain','url','text'])\n",
    "all_dates = pd.DataFrame(columns = ['date','domain','url','text'])\n",
    "\n",
    "# open 12706-fulltext.txt file for reading\n",
    "with open('12706-fulltext.txt', 'rb') as raw:\n",
    "\n",
    "    # read first line\n",
    "    line = raw.readline()\n",
    "\n",
    "    # check if each line matches a date and a domain\n",
    "    while line:\n",
    "        # split line by first 3 commas\n",
    "        key = line.decode('UTF-8').split(',', 3)\n",
    "        # remove non-numeric characters from the date\n",
    "        key[0] = re.sub('[^0-9]', '', key[0])\n",
    "\n",
    "        if key[1] in doms:\n",
    "            all_dates = all_dates.append({'date': key[0], 'domain': key[1], 'url': key[2], 'text': key[3]}, ignore_index=True)\n",
    "            if key [0] in dates:\n",
    "                sample = sample.append({'date': key[0], 'domain': key[1], 'url': key[2], 'text': key[3]}, ignore_index=True)\n",
    "                \n",
    "        # read next line\n",
    "        line = raw.readline()\n",
    "\n",
    "# take time difference\n",
    "total = tm.time() - start"
   ]
  },
  {
   "cell_type": "code",
   "execution_count": 92,
   "metadata": {},
   "outputs": [],
   "source": [
    "# remove problematic characters from text\n",
    "text = [s.translate ({ord(c): \"\" for c in chars_to_remove}) for s in sample['text']]\n",
    "text_ad = [s.translate ({ord(c): \"\" for c in chars_to_remove}) for s in all_dates['text']]\n",
    "# replace old text with cleaned text\n",
    "sample = sample.assign(text = text)\n",
    "all_dates = all_dates.assign(text = text_ad)\n",
    "# convert date to standard format\n",
    "sample['date'] = pd.to_datetime(sample['date'])\n",
    "all_dates['date'] = pd.to_datetime(all_dates['date'])"
   ]
  },
  {
   "cell_type": "code",
   "execution_count": 93,
   "metadata": {},
   "outputs": [
    {
     "output_type": "stream",
     "name": "stdout",
     "text": [
      "for chosen sample, extracted 2703 articles in 69 seconds\nfor all dates, extracted 5641 articles in 69 seconds\nchosen sample:\n"
     ]
    },
    {
     "output_type": "display_data",
     "data": {
      "text/plain": "           date                 domain  \\\n0    2019-09-30  www.mypaperonline.com   \n1    2019-10-01  www.mypaperonline.com   \n2    2019-10-01  www.mypaperonline.com   \n3    2019-10-01  www.mypaperonline.com   \n4    2019-10-12  www.mypaperonline.com   \n...         ...                    ...   \n2698 2019-10-12  www.mypaperonline.com   \n2699 2019-10-12  www.mypaperonline.com   \n2700 2019-10-12  www.mypaperonline.com   \n2701 2019-10-12  www.mypaperonline.com   \n2702 2019-10-12  www.mypaperonline.com   \n\n                                                    url  \\\n0     https://www.mypaperonline.com/category/the-ran...   \n1     https://www.mypaperonline.com/category/local-n...   \n2     https://www.mypaperonline.com/local-art-exhibi...   \n3     https://www.mypaperonline.com/wp-json/oembed/1...   \n4     https://www.mypaperonline.com/category/the-hac...   \n...                                                 ...   \n2698  https://www.mypaperonline.com/category/local-n...   \n2699  https://www.mypaperonline.com/hauntings-around...   \n2700  https://www.mypaperonline.com/west-orange-resi...   \n2701  https://www.mypaperonline.com/18-year-old-west...   \n2702  https://www.mypaperonline.com/millburn-residen...   \n\n                                                   text  \n0     The Randolph News Archive  My Paper Online Hom...  \n1     Local News Archive  My Paper Online Home Discl...  \n2     Local Art Exhibit And Sale At CCM  My Paper On...  \n3     {version:1.0provider_name:My Paper Onlineprovi...  \n4     The Hackettstown News Archive  My Paper Online...  \n...                                                 ...  \n2698  Local News Archive  My Paper Online Home Discl...  \n2699  Hauntings Around the Area for Halloween  My Pa...  \n2700  West Orange Resident Centenary Student Studies...  \n2701  18-Year-Old West Orange Teen Battles Cancer an...  \n2702  Millburn Resident Wins Award for Activism   My...  \n\n[2703 rows x 4 columns]",
      "text/html": "<div>\n<style scoped>\n    .dataframe tbody tr th:only-of-type {\n        vertical-align: middle;\n    }\n\n    .dataframe tbody tr th {\n        vertical-align: top;\n    }\n\n    .dataframe thead th {\n        text-align: right;\n    }\n</style>\n<table border=\"1\" class=\"dataframe\">\n  <thead>\n    <tr style=\"text-align: right;\">\n      <th></th>\n      <th>date</th>\n      <th>domain</th>\n      <th>url</th>\n      <th>text</th>\n    </tr>\n  </thead>\n  <tbody>\n    <tr>\n      <th>0</th>\n      <td>2019-09-30</td>\n      <td>www.mypaperonline.com</td>\n      <td>https://www.mypaperonline.com/category/the-ran...</td>\n      <td>The Randolph News Archive  My Paper Online Hom...</td>\n    </tr>\n    <tr>\n      <th>1</th>\n      <td>2019-10-01</td>\n      <td>www.mypaperonline.com</td>\n      <td>https://www.mypaperonline.com/category/local-n...</td>\n      <td>Local News Archive  My Paper Online Home Discl...</td>\n    </tr>\n    <tr>\n      <th>2</th>\n      <td>2019-10-01</td>\n      <td>www.mypaperonline.com</td>\n      <td>https://www.mypaperonline.com/local-art-exhibi...</td>\n      <td>Local Art Exhibit And Sale At CCM  My Paper On...</td>\n    </tr>\n    <tr>\n      <th>3</th>\n      <td>2019-10-01</td>\n      <td>www.mypaperonline.com</td>\n      <td>https://www.mypaperonline.com/wp-json/oembed/1...</td>\n      <td>{version:1.0provider_name:My Paper Onlineprovi...</td>\n    </tr>\n    <tr>\n      <th>4</th>\n      <td>2019-10-12</td>\n      <td>www.mypaperonline.com</td>\n      <td>https://www.mypaperonline.com/category/the-hac...</td>\n      <td>The Hackettstown News Archive  My Paper Online...</td>\n    </tr>\n    <tr>\n      <th>...</th>\n      <td>...</td>\n      <td>...</td>\n      <td>...</td>\n      <td>...</td>\n    </tr>\n    <tr>\n      <th>2698</th>\n      <td>2019-10-12</td>\n      <td>www.mypaperonline.com</td>\n      <td>https://www.mypaperonline.com/category/local-n...</td>\n      <td>Local News Archive  My Paper Online Home Discl...</td>\n    </tr>\n    <tr>\n      <th>2699</th>\n      <td>2019-10-12</td>\n      <td>www.mypaperonline.com</td>\n      <td>https://www.mypaperonline.com/hauntings-around...</td>\n      <td>Hauntings Around the Area for Halloween  My Pa...</td>\n    </tr>\n    <tr>\n      <th>2700</th>\n      <td>2019-10-12</td>\n      <td>www.mypaperonline.com</td>\n      <td>https://www.mypaperonline.com/west-orange-resi...</td>\n      <td>West Orange Resident Centenary Student Studies...</td>\n    </tr>\n    <tr>\n      <th>2701</th>\n      <td>2019-10-12</td>\n      <td>www.mypaperonline.com</td>\n      <td>https://www.mypaperonline.com/18-year-old-west...</td>\n      <td>18-Year-Old West Orange Teen Battles Cancer an...</td>\n    </tr>\n    <tr>\n      <th>2702</th>\n      <td>2019-10-12</td>\n      <td>www.mypaperonline.com</td>\n      <td>https://www.mypaperonline.com/millburn-residen...</td>\n      <td>Millburn Resident Wins Award for Activism   My...</td>\n    </tr>\n  </tbody>\n</table>\n<p>2703 rows × 4 columns</p>\n</div>"
     },
     "metadata": {}
    },
    {
     "output_type": "stream",
     "name": "stdout",
     "text": [
      "all dates:\n"
     ]
    },
    {
     "output_type": "display_data",
     "data": {
      "text/plain": "           date                 domain  \\\n0    2019-09-30  www.mypaperonline.com   \n1    2019-10-01  www.mypaperonline.com   \n2    2019-10-01  www.mypaperonline.com   \n3    2019-10-01  www.mypaperonline.com   \n4    2019-10-12  www.mypaperonline.com   \n...         ...                    ...   \n5636 2019-10-12  www.mypaperonline.com   \n5637 2019-11-01  www.mypaperonline.com   \n5638 2019-11-02  www.mypaperonline.com   \n5639 2019-11-02  www.mypaperonline.com   \n5640 2019-11-02  www.mypaperonline.com   \n\n                                                    url  \\\n0     https://www.mypaperonline.com/category/the-ran...   \n1     https://www.mypaperonline.com/category/local-n...   \n2     https://www.mypaperonline.com/local-art-exhibi...   \n3     https://www.mypaperonline.com/wp-json/oembed/1...   \n4     https://www.mypaperonline.com/category/the-hac...   \n...                                                 ...   \n5636  https://www.mypaperonline.com/millburn-residen...   \n5637  https://www.mypaperonline.com/category/the-mt-...   \n5638  https://www.mypaperonline.com/category/local-n...   \n5639  https://www.mypaperonline.com/four-tips-for-a-...   \n5640    https://www.mypaperonline.com/test-video-2.html   \n\n                                                   text  \n0     The Randolph News Archive  My Paper Online Hom...  \n1     Local News Archive  My Paper Online Home Discl...  \n2     Local Art Exhibit And Sale At CCM  My Paper On...  \n3     {version:1.0provider_name:My Paper Onlineprovi...  \n4     The Hackettstown News Archive  My Paper Online...  \n...                                                 ...  \n5636  Millburn Resident Wins Award for Activism   My...  \n5637  The Mt. Olive News Archive  My Paper Online Ho...  \n5638  Local News Archive  My Paper Online Home Discl...  \n5639  Four Tips For A Safe Holiday Season  My Paper ...  \n5640  How to Make Cranberry Hootycreeks  My Paper On...  \n\n[5641 rows x 4 columns]",
      "text/html": "<div>\n<style scoped>\n    .dataframe tbody tr th:only-of-type {\n        vertical-align: middle;\n    }\n\n    .dataframe tbody tr th {\n        vertical-align: top;\n    }\n\n    .dataframe thead th {\n        text-align: right;\n    }\n</style>\n<table border=\"1\" class=\"dataframe\">\n  <thead>\n    <tr style=\"text-align: right;\">\n      <th></th>\n      <th>date</th>\n      <th>domain</th>\n      <th>url</th>\n      <th>text</th>\n    </tr>\n  </thead>\n  <tbody>\n    <tr>\n      <th>0</th>\n      <td>2019-09-30</td>\n      <td>www.mypaperonline.com</td>\n      <td>https://www.mypaperonline.com/category/the-ran...</td>\n      <td>The Randolph News Archive  My Paper Online Hom...</td>\n    </tr>\n    <tr>\n      <th>1</th>\n      <td>2019-10-01</td>\n      <td>www.mypaperonline.com</td>\n      <td>https://www.mypaperonline.com/category/local-n...</td>\n      <td>Local News Archive  My Paper Online Home Discl...</td>\n    </tr>\n    <tr>\n      <th>2</th>\n      <td>2019-10-01</td>\n      <td>www.mypaperonline.com</td>\n      <td>https://www.mypaperonline.com/local-art-exhibi...</td>\n      <td>Local Art Exhibit And Sale At CCM  My Paper On...</td>\n    </tr>\n    <tr>\n      <th>3</th>\n      <td>2019-10-01</td>\n      <td>www.mypaperonline.com</td>\n      <td>https://www.mypaperonline.com/wp-json/oembed/1...</td>\n      <td>{version:1.0provider_name:My Paper Onlineprovi...</td>\n    </tr>\n    <tr>\n      <th>4</th>\n      <td>2019-10-12</td>\n      <td>www.mypaperonline.com</td>\n      <td>https://www.mypaperonline.com/category/the-hac...</td>\n      <td>The Hackettstown News Archive  My Paper Online...</td>\n    </tr>\n    <tr>\n      <th>...</th>\n      <td>...</td>\n      <td>...</td>\n      <td>...</td>\n      <td>...</td>\n    </tr>\n    <tr>\n      <th>5636</th>\n      <td>2019-10-12</td>\n      <td>www.mypaperonline.com</td>\n      <td>https://www.mypaperonline.com/millburn-residen...</td>\n      <td>Millburn Resident Wins Award for Activism   My...</td>\n    </tr>\n    <tr>\n      <th>5637</th>\n      <td>2019-11-01</td>\n      <td>www.mypaperonline.com</td>\n      <td>https://www.mypaperonline.com/category/the-mt-...</td>\n      <td>The Mt. Olive News Archive  My Paper Online Ho...</td>\n    </tr>\n    <tr>\n      <th>5638</th>\n      <td>2019-11-02</td>\n      <td>www.mypaperonline.com</td>\n      <td>https://www.mypaperonline.com/category/local-n...</td>\n      <td>Local News Archive  My Paper Online Home Discl...</td>\n    </tr>\n    <tr>\n      <th>5639</th>\n      <td>2019-11-02</td>\n      <td>www.mypaperonline.com</td>\n      <td>https://www.mypaperonline.com/four-tips-for-a-...</td>\n      <td>Four Tips For A Safe Holiday Season  My Paper ...</td>\n    </tr>\n    <tr>\n      <th>5640</th>\n      <td>2019-11-02</td>\n      <td>www.mypaperonline.com</td>\n      <td>https://www.mypaperonline.com/test-video-2.html</td>\n      <td>How to Make Cranberry Hootycreeks  My Paper On...</td>\n    </tr>\n  </tbody>\n</table>\n<p>5641 rows × 4 columns</p>\n</div>"
     },
     "metadata": {}
    }
   ],
   "source": [
    "print('for chosen sample, extracted ' + str(len(sample)) + ' articles in ' + str(round(total)) + ' seconds')\n",
    "print('for all dates, extracted ' + str(len(all_dates)) + ' articles in ' + str(round(total)) + ' seconds')\n",
    "# this data includes all www.mypaperonline.com webpages from the given dates\n",
    "print(\"chosen sample:\")\n",
    "display(sample)\n",
    "print(\"all dates:\")\n",
    "display(all_dates)"
   ]
  },
  {
   "cell_type": "code",
   "execution_count": 94,
   "metadata": {},
   "outputs": [
    {
     "output_type": "stream",
     "name": "stdout",
     "text": [
      "1092 articles left after filtering in chosen sample\n1876 articles left after filtering in all dates\n"
     ]
    }
   ],
   "source": [
    "# filter out www.mypaperonline.com sites that don't have \"/category/the-morristown-news\" in it's whole url\n",
    "filtered_sample = sample[(sample.url.str.contains('www.mypaperonline.com') == False) | (sample.url.str.contains('/category/the-morristown-news') == True)]\n",
    "filtered_all_dates = all_dates[(all_dates.url.str.contains('www.mypaperonline.com') == False) | (all_dates.url.str.contains('/category/the-morristown-news') == True)]\n",
    "print(str(len(filtered_sample)) + ' articles left after filtering in chosen sample')\n",
    "print(str(len(filtered_all_dates)) + ' articles left after filtering in all dates')"
   ]
  },
  {
   "cell_type": "code",
   "execution_count": 95,
   "metadata": {},
   "outputs": [],
   "source": [
    "# save dataframe to file\n",
    "filtered_sample.to_csv('chosensamp.csv', index=False)\n",
    "filtered_all_dates.to_csv('all_dates.csv', index=False)"
   ]
  },
  {
   "cell_type": "code",
   "execution_count": null,
   "metadata": {},
   "outputs": [],
   "source": []
  }
 ]
}