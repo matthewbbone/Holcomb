{
 "metadata": {
  "language_info": {
   "codemirror_mode": {
    "name": "ipython",
    "version": 3
   },
   "file_extension": ".py",
   "mimetype": "text/x-python",
   "name": "python",
   "nbconvert_exporter": "python",
   "pygments_lexer": "ipython3",
   "version": "3.7.9-final"
  },
  "orig_nbformat": 2,
  "kernelspec": {
   "name": "python3",
   "display_name": "Python 3.7.9 64-bit ('holcombEnv': conda)",
   "metadata": {
    "interpreter": {
     "hash": "044a0165a1a561273ca818f13158b4edea630051cf64f3770cf4dedc4e818f34"
    }
   }
  }
 },
 "nbformat": 4,
 "nbformat_minor": 2,
 "cells": [
  {
   "source": [
    "To sample 10000 random lines use this command in any linux terminal:\n",
    "\n",
    "shuf -n 10000 12706-fulltext.txt > smallsamp.txt (this command took 15 minutes to run for me)"
   ],
   "cell_type": "markdown",
   "metadata": {}
  },
  {
   "cell_type": "code",
   "execution_count": 1,
   "metadata": {},
   "outputs": [],
   "source": [
    "import pandas as pd\n",
    "import numpy as np\n",
    "import re\n",
    "from datetime import datetime as dt\n",
    "import time as tm"
   ]
  },
  {
   "cell_type": "code",
   "execution_count": 3,
   "metadata": {},
   "outputs": [],
   "source": [
    "def sanitize(raw_docs, chars_to_remove, column_names):\n",
    "    \n",
    "    df = []\n",
    "\n",
    "    for i in range(0,len(raw_docs)):\n",
    "        df.append(raw_docs[i][1:-2].split(',',3))\n",
    "\n",
    "    df = pd.DataFrame(df)\n",
    "    df = df.rename(columns = column_names)\n",
    "    df = df[df.text.str.len() > 1]\n",
    "\n",
    "    text = [s.translate ({ord(c): \"\" for c in chars_to_remove}) for s in df['text']]\n",
    "\n",
    "    df = df.assign(text = text)\n",
    "    \n",
    "    return df"
   ]
  },
  {
   "cell_type": "code",
   "execution_count": 4,
   "metadata": {},
   "outputs": [
    {
     "output_type": "stream",
     "name": "stdout",
     "text": [
      "Number of Entries: 10000\n"
     ]
    }
   ],
   "source": [
    "raw = pd.read_csv('smallsamp.txt', sep = '\\n', squeeze = True, header = None)\n",
    "print('Number of Entries: ' + str(len(raw)))"
   ]
  },
  {
   "cell_type": "code",
   "execution_count": 2,
   "metadata": {},
   "outputs": [
    {
     "output_type": "error",
     "ename": "NameError",
     "evalue": "name 'sanitize' is not defined",
     "traceback": [
      "\u001b[1;31m---------------------------------------------------------------------------\u001b[0m",
      "\u001b[1;31mNameError\u001b[0m                                 Traceback (most recent call last)",
      "\u001b[1;32m<ipython-input-2-eb4ce128e07c>\u001b[0m in \u001b[0;36m<module>\u001b[1;34m\u001b[0m\n\u001b[0;32m      1\u001b[0m \u001b[0mcharacters_to_sanitize\u001b[0m \u001b[1;33m=\u001b[0m \u001b[1;34m\",^\\()|\\\"\"\u001b[0m\u001b[1;33m\u001b[0m\u001b[1;33m\u001b[0m\u001b[0m\n\u001b[0;32m      2\u001b[0m \u001b[0mcolumn_names\u001b[0m \u001b[1;33m=\u001b[0m \u001b[1;33m{\u001b[0m\u001b[1;36m0\u001b[0m\u001b[1;33m:\u001b[0m\u001b[1;34m'id'\u001b[0m\u001b[1;33m,\u001b[0m \u001b[1;36m1\u001b[0m\u001b[1;33m:\u001b[0m\u001b[1;34m'domain'\u001b[0m\u001b[1;33m,\u001b[0m \u001b[1;36m2\u001b[0m\u001b[1;33m:\u001b[0m\u001b[1;34m'url'\u001b[0m\u001b[1;33m,\u001b[0m \u001b[1;36m3\u001b[0m\u001b[1;33m:\u001b[0m\u001b[1;34m'text'\u001b[0m\u001b[1;33m}\u001b[0m\u001b[1;33m\u001b[0m\u001b[1;33m\u001b[0m\u001b[0m\n\u001b[1;32m----> 3\u001b[1;33m \u001b[0mcleaned\u001b[0m \u001b[1;33m=\u001b[0m \u001b[0msanitize\u001b[0m\u001b[1;33m(\u001b[0m\u001b[0mraw\u001b[0m\u001b[1;33m,\u001b[0m \u001b[0mcharacters_to_sanitize\u001b[0m\u001b[1;33m,\u001b[0m \u001b[0mcolumn_names\u001b[0m\u001b[1;33m)\u001b[0m\u001b[1;33m\u001b[0m\u001b[1;33m\u001b[0m\u001b[0m\n\u001b[0m",
      "\u001b[1;31mNameError\u001b[0m: name 'sanitize' is not defined"
     ]
    }
   ],
   "source": [
    "characters_to_sanitize = \",^\\()|\\\"\"\n",
    "column_names = {0:'id', 1:'domain', 2:'url', 3:'text'}\n",
    "cleaned = sanitize(raw, characters_to_sanitize, column_names)"
   ]
  },
  {
   "cell_type": "code",
   "execution_count": 4,
   "metadata": {},
   "outputs": [
    {
     "output_type": "error",
     "ename": "NameError",
     "evalue": "name 'cleaned' is not defined",
     "traceback": [
      "\u001b[1;31m---------------------------------------------------------------------------\u001b[0m",
      "\u001b[1;31mNameError\u001b[0m                                 Traceback (most recent call last)",
      "\u001b[1;32m<ipython-input-4-235603320d37>\u001b[0m in \u001b[0;36m<module>\u001b[1;34m\u001b[0m\n\u001b[1;32m----> 1\u001b[1;33m \u001b[0mdisplay\u001b[0m\u001b[1;33m(\u001b[0m\u001b[0mcleaned\u001b[0m\u001b[1;33m)\u001b[0m\u001b[1;33m\u001b[0m\u001b[1;33m\u001b[0m\u001b[0m\n\u001b[0m",
      "\u001b[1;31mNameError\u001b[0m: name 'cleaned' is not defined"
     ]
    }
   ],
   "source": [
    "display(cleaned)"
   ]
  },
  {
   "cell_type": "code",
   "execution_count": 3,
   "metadata": {},
   "outputs": [],
   "source": [
    "dates = ['20191013',\n",
    "         '20191104',\n",
    "         '20191001',\n",
    "         '20191030',\n",
    "         '20191024',\n",
    "         '20190927',\n",
    "         '20191012',\n",
    "         '20190930',\n",
    "         '20191002',\n",
    "         '20191003',\n",
    "         '20191004']\n",
    "\n",
    "webs = ['www.mypaperonline.com',\n",
    "        'www.newbrunswicktoday.com',\n",
    "        'www.newarkblack.com']\n",
    "\n",
    "chars_to_remove = \",^\\()|\\\"\""
   ]
  },
  {
   "cell_type": "code",
   "execution_count": 2,
   "metadata": {},
   "outputs": [
    {
     "output_type": "error",
     "ename": "NameError",
     "evalue": "name 'tm' is not defined",
     "traceback": [
      "\u001b[1;31m---------------------------------------------------------------------------\u001b[0m",
      "\u001b[1;31mNameError\u001b[0m                                 Traceback (most recent call last)",
      "\u001b[1;32m<ipython-input-2-abe36c522f04>\u001b[0m in \u001b[0;36m<module>\u001b[1;34m\u001b[0m\n\u001b[1;32m----> 1\u001b[1;33m \u001b[0mstart\u001b[0m \u001b[1;33m=\u001b[0m \u001b[0mtm\u001b[0m\u001b[1;33m.\u001b[0m\u001b[0mtime\u001b[0m\u001b[1;33m(\u001b[0m\u001b[1;33m)\u001b[0m\u001b[1;33m\u001b[0m\u001b[1;33m\u001b[0m\u001b[0m\n\u001b[0m\u001b[0;32m      2\u001b[0m \u001b[1;33m\u001b[0m\u001b[0m\n\u001b[0;32m      3\u001b[0m \u001b[0msample\u001b[0m \u001b[1;33m=\u001b[0m \u001b[0mpd\u001b[0m\u001b[1;33m.\u001b[0m\u001b[0mDataFrame\u001b[0m\u001b[1;33m(\u001b[0m\u001b[0mcolumns\u001b[0m \u001b[1;33m=\u001b[0m \u001b[1;33m[\u001b[0m\u001b[1;34m'date'\u001b[0m\u001b[1;33m,\u001b[0m\u001b[1;34m'domain'\u001b[0m\u001b[1;33m,\u001b[0m\u001b[1;34m'url'\u001b[0m\u001b[1;33m,\u001b[0m\u001b[1;34m'text'\u001b[0m\u001b[1;33m]\u001b[0m\u001b[1;33m)\u001b[0m\u001b[1;33m\u001b[0m\u001b[1;33m\u001b[0m\u001b[0m\n\u001b[0;32m      4\u001b[0m \u001b[1;33m\u001b[0m\u001b[0m\n\u001b[0;32m      5\u001b[0m \u001b[1;32mwith\u001b[0m \u001b[0mopen\u001b[0m\u001b[1;33m(\u001b[0m\u001b[1;34m'12706-fulltext.txt'\u001b[0m\u001b[1;33m,\u001b[0m \u001b[1;34m'rb'\u001b[0m\u001b[1;33m)\u001b[0m \u001b[1;32mas\u001b[0m \u001b[0mraw\u001b[0m\u001b[1;33m:\u001b[0m\u001b[1;33m\u001b[0m\u001b[1;33m\u001b[0m\u001b[0m\n",
      "\u001b[1;31mNameError\u001b[0m: name 'tm' is not defined"
     ]
    }
   ],
   "source": [
    "start = tm.time()\n",
    "\n",
    "sample = pd.DataFrame(columns = ['date','domain','url','text'])\n",
    "\n",
    "with open('12706-fulltext.txt', 'rb') as raw:\n",
    "\n",
    "    line = raw.readline()\n",
    "\n",
    "    while line:\n",
    "        key = line.decode('UTF-8').split(',', 3)\n",
    "        key[0] = re.sub('[^0-9]', '', key[0])\n",
    "        if key[0] in dates and key[1] in webs:\n",
    "            sample = sample.append({'date': key[0], 'domain': key[1], 'url': key[2], 'text': key[3]}, ignore_index=True)\n",
    "        line = raw.readline()\n",
    "\n",
    "total = tm.time() - start"
   ]
  },
  {
   "cell_type": "code",
   "execution_count": null,
   "metadata": {},
   "outputs": [],
   "source": [
    "text = [s.translate ({ord(c): \"\" for c in chars_to_remove}) for s in sample['text']]\n",
    "sample = sample.assign(text = text)\n",
    "\n",
    "sample['date'] = pd.to_datetime(sample['date'])"
   ]
  },
  {
   "cell_type": "code",
   "execution_count": 14,
   "metadata": {},
   "outputs": [
    {
     "output_type": "display_data",
     "data": {
      "text/plain": "          date                 domain  \\\n0     20190930  www.mypaperonline.com   \n1     20191001  www.mypaperonline.com   \n2     20191001  www.mypaperonline.com   \n3     20191001  www.mypaperonline.com   \n4     20191012  www.mypaperonline.com   \n...        ...                    ...   \n2452  20191012  www.mypaperonline.com   \n2453  20191012  www.mypaperonline.com   \n2454  20191012  www.mypaperonline.com   \n2455  20191012  www.mypaperonline.com   \n2456  20191012  www.mypaperonline.com   \n\n                                                    url  \\\n0     https://www.mypaperonline.com/category/the-ran...   \n1     https://www.mypaperonline.com/category/local-n...   \n2     https://www.mypaperonline.com/local-art-exhibi...   \n3     https://www.mypaperonline.com/wp-json/oembed/1...   \n4     https://www.mypaperonline.com/category/the-hac...   \n...                                                 ...   \n2452  https://www.mypaperonline.com/category/local-n...   \n2453  https://www.mypaperonline.com/hauntings-around...   \n2454  https://www.mypaperonline.com/west-orange-resi...   \n2455  https://www.mypaperonline.com/18-year-old-west...   \n2456  https://www.mypaperonline.com/millburn-residen...   \n\n                                                   text  \n0     The Randolph News Archive  My Paper Online Hom...  \n1     Local News Archive  My Paper Online Home Discl...  \n2     Local Art Exhibit And Sale At CCM  My Paper On...  \n3     {version:1.0provider_name:My Paper Onlineprovi...  \n4     The Hackettstown News Archive  My Paper Online...  \n...                                                 ...  \n2452  Local News Archive  My Paper Online Home Discl...  \n2453  Hauntings Around the Area for Halloween  My Pa...  \n2454  West Orange Resident Centenary Student Studies...  \n2455  18-Year-Old West Orange Teen Battles Cancer an...  \n2456  Millburn Resident Wins Award for Activism   My...  \n\n[2457 rows x 4 columns]",
      "text/html": "<div>\n<style scoped>\n    .dataframe tbody tr th:only-of-type {\n        vertical-align: middle;\n    }\n\n    .dataframe tbody tr th {\n        vertical-align: top;\n    }\n\n    .dataframe thead th {\n        text-align: right;\n    }\n</style>\n<table border=\"1\" class=\"dataframe\">\n  <thead>\n    <tr style=\"text-align: right;\">\n      <th></th>\n      <th>date</th>\n      <th>domain</th>\n      <th>url</th>\n      <th>text</th>\n    </tr>\n  </thead>\n  <tbody>\n    <tr>\n      <th>0</th>\n      <td>20190930</td>\n      <td>www.mypaperonline.com</td>\n      <td>https://www.mypaperonline.com/category/the-ran...</td>\n      <td>The Randolph News Archive  My Paper Online Hom...</td>\n    </tr>\n    <tr>\n      <th>1</th>\n      <td>20191001</td>\n      <td>www.mypaperonline.com</td>\n      <td>https://www.mypaperonline.com/category/local-n...</td>\n      <td>Local News Archive  My Paper Online Home Discl...</td>\n    </tr>\n    <tr>\n      <th>2</th>\n      <td>20191001</td>\n      <td>www.mypaperonline.com</td>\n      <td>https://www.mypaperonline.com/local-art-exhibi...</td>\n      <td>Local Art Exhibit And Sale At CCM  My Paper On...</td>\n    </tr>\n    <tr>\n      <th>3</th>\n      <td>20191001</td>\n      <td>www.mypaperonline.com</td>\n      <td>https://www.mypaperonline.com/wp-json/oembed/1...</td>\n      <td>{version:1.0provider_name:My Paper Onlineprovi...</td>\n    </tr>\n    <tr>\n      <th>4</th>\n      <td>20191012</td>\n      <td>www.mypaperonline.com</td>\n      <td>https://www.mypaperonline.com/category/the-hac...</td>\n      <td>The Hackettstown News Archive  My Paper Online...</td>\n    </tr>\n    <tr>\n      <th>...</th>\n      <td>...</td>\n      <td>...</td>\n      <td>...</td>\n      <td>...</td>\n    </tr>\n    <tr>\n      <th>2452</th>\n      <td>20191012</td>\n      <td>www.mypaperonline.com</td>\n      <td>https://www.mypaperonline.com/category/local-n...</td>\n      <td>Local News Archive  My Paper Online Home Discl...</td>\n    </tr>\n    <tr>\n      <th>2453</th>\n      <td>20191012</td>\n      <td>www.mypaperonline.com</td>\n      <td>https://www.mypaperonline.com/hauntings-around...</td>\n      <td>Hauntings Around the Area for Halloween  My Pa...</td>\n    </tr>\n    <tr>\n      <th>2454</th>\n      <td>20191012</td>\n      <td>www.mypaperonline.com</td>\n      <td>https://www.mypaperonline.com/west-orange-resi...</td>\n      <td>West Orange Resident Centenary Student Studies...</td>\n    </tr>\n    <tr>\n      <th>2455</th>\n      <td>20191012</td>\n      <td>www.mypaperonline.com</td>\n      <td>https://www.mypaperonline.com/18-year-old-west...</td>\n      <td>18-Year-Old West Orange Teen Battles Cancer an...</td>\n    </tr>\n    <tr>\n      <th>2456</th>\n      <td>20191012</td>\n      <td>www.mypaperonline.com</td>\n      <td>https://www.mypaperonline.com/millburn-residen...</td>\n      <td>Millburn Resident Wins Award for Activism   My...</td>\n    </tr>\n  </tbody>\n</table>\n<p>2457 rows × 4 columns</p>\n</div>"
     },
     "metadata": {}
    }
   ],
   "source": [
    "print('extracted ' + str(len(sample)) + ' articles in ' + str(round(total)) + ' seconds')\n",
    "display(sample)"
   ]
  },
  {
   "cell_type": "code",
   "execution_count": null,
   "metadata": {},
   "outputs": [],
   "source": []
  },
  {
   "cell_type": "code",
   "execution_count": 33,
   "metadata": {},
   "outputs": [],
   "source": [
    "sample = sample[(sample.url.str.contains('www.mypaperonline.com') == False) | (sample.url.str.contains('www.mypaperonline.com/category/the-morristown-news') == True)]"
   ]
  },
  {
   "cell_type": "code",
   "execution_count": 34,
   "metadata": {},
   "outputs": [],
   "source": [
    "sample.to_csv('chosensamp.csv', index=False)"
   ]
  },
  {
   "cell_type": "code",
   "execution_count": null,
   "metadata": {},
   "outputs": [],
   "source": []
  }
 ]
}