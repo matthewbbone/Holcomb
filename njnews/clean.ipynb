{
 "metadata": {
  "language_info": {
   "codemirror_mode": {
    "name": "ipython",
    "version": 3
   },
   "file_extension": ".py",
   "mimetype": "text/x-python",
   "name": "python",
   "nbconvert_exporter": "python",
   "pygments_lexer": "ipython3",
   "version": "3.7.9-final"
  },
  "orig_nbformat": 2,
  "kernelspec": {
   "name": "python3",
   "display_name": "Python 3.7.9 64-bit ('holcombEnv': conda)",
   "metadata": {
    "interpreter": {
     "hash": "044a0165a1a561273ca818f13158b4edea630051cf64f3770cf4dedc4e818f34"
    }
   }
  }
 },
 "nbformat": 4,
 "nbformat_minor": 2,
 "cells": [
  {
   "source": [
    "To sample 10000 random lines use this command in any linux terminal:\n",
    "\n",
    "shuf -n 10000 12706-fulltext.txt > smallsamp.txt (this command took 15 minutes to run for me)"
   ],
   "cell_type": "markdown",
   "metadata": {}
  },
  {
   "cell_type": "code",
   "execution_count": 2,
   "metadata": {},
   "outputs": [],
   "source": [
    "import pandas as pd"
   ]
  },
  {
   "cell_type": "code",
   "execution_count": 3,
   "metadata": {},
   "outputs": [],
   "source": [
    "def sanitize(raw_docs, chars_to_remove, column_names):\n",
    "    \n",
    "    df = []\n",
    "\n",
    "    for i in range(0,len(raw_docs)):\n",
    "        df.append(raw_docs[i][1:-2].split(',',3))\n",
    "\n",
    "    df = pd.DataFrame(df)\n",
    "    df = df.rename(columns = column_names)\n",
    "    df = df[df.text.str.len() > 1]\n",
    "\n",
    "    text = [s.translate ({ord(c): \"\" for c in chars_to_remove}) for s in df['text']]\n",
    "\n",
    "    df = df.assign(text = text)\n",
    "    \n",
    "    return df"
   ]
  },
  {
   "cell_type": "code",
   "execution_count": 4,
   "metadata": {},
   "outputs": [
    {
     "output_type": "stream",
     "name": "stdout",
     "text": [
      "Number of Entries: 10000\n"
     ]
    }
   ],
   "source": [
    "raw = pd.read_csv('smallsamp.txt', sep = '\\n', squeeze = True, header = None)\n",
    "print('Number of Entries: ' + str(len(raw)))"
   ]
  },
  {
   "cell_type": "code",
   "execution_count": 5,
   "metadata": {},
   "outputs": [],
   "source": [
    "characters_to_sanitize = \",^\\()|\\\"\"\n",
    "column_names = {0:'id', 1:'domain', 2:'url', 3:'text'}\n",
    "cleaned = sanitize(raw, characters_to_sanitize, column_names)"
   ]
  },
  {
   "cell_type": "code",
   "execution_count": 11,
   "metadata": {},
   "outputs": [
    {
     "output_type": "display_data",
     "data": {
      "text/plain": "            id                       domain  \\\n0     20191111               dailyvoice.com   \n2     20191020             thesunpapers.com   \n3     20191102               www.reddit.com   \n4     20191024  www.pressofatlanticcity.com   \n6     20191025             www.facebook.com   \n...        ...                          ...   \n9995  20191112             www.facebook.com   \n9996  20191008             thesunpapers.com   \n9997  20191020        www.supermotoland.com   \n9998  20191013                  twitter.com   \n9999  20191102            www.pinterest.com   \n\n                                                    url  \\\n0     https://dailyvoice.com/new-jersey/ridgewood/po...   \n2                 https://thesunpapers.com/2015/02/?amp   \n3                        https://www.reddit.com/r/golf/   \n4     https://www.pressofatlanticcity.com/news/galle...   \n6     https://www.facebook.com/login/?next=https%3A%...   \n...                                                 ...   \n9995  https://www.facebook.com/ajax/sharer/?s=18&app...   \n9996       https://thesunpapers.com/c/deptford-letters/   \n9997  http://www.supermotoland.com/how-to-back-a-mot...   \n9998  https://twitter.com/nfl/status/118246869742571...   \n9999  https://www.pinterest.com/italienguurl/grunge-...   \n\n                                                   text  \n0     Burglars Steal More Than $140K In Handbags Jew...  \n2     February 2015 - The Sun Newspapers Towns Berli...  \n3     Golf Press J to jump to the feed. Press questi...  \n4     GALLERY: Galloway Township National Night Out ...  \n6     Log into Facebook  Facebook Jump to Sections o...  \n...                                                 ...  \n9995  Facebook Jump to Sections of this page Accessi...  \n9996  Deptford Letters & Opinions Archives - The Sun...  \n9997  HOW TO BACK A MOTORCYCLE INTO A CORNER. Tel: +...  \n9998  NFL på Twitter: .@Daniel_Jones10 throws a dime...  \n9999  421 Best Grunge HairStyles images in 2019  Hai...  \n\n[9706 rows x 4 columns]",
      "text/html": "<div>\n<style scoped>\n    .dataframe tbody tr th:only-of-type {\n        vertical-align: middle;\n    }\n\n    .dataframe tbody tr th {\n        vertical-align: top;\n    }\n\n    .dataframe thead th {\n        text-align: right;\n    }\n</style>\n<table border=\"1\" class=\"dataframe\">\n  <thead>\n    <tr style=\"text-align: right;\">\n      <th></th>\n      <th>id</th>\n      <th>domain</th>\n      <th>url</th>\n      <th>text</th>\n    </tr>\n  </thead>\n  <tbody>\n    <tr>\n      <th>0</th>\n      <td>20191111</td>\n      <td>dailyvoice.com</td>\n      <td>https://dailyvoice.com/new-jersey/ridgewood/po...</td>\n      <td>Burglars Steal More Than $140K In Handbags Jew...</td>\n    </tr>\n    <tr>\n      <th>2</th>\n      <td>20191020</td>\n      <td>thesunpapers.com</td>\n      <td>https://thesunpapers.com/2015/02/?amp</td>\n      <td>February 2015 - The Sun Newspapers Towns Berli...</td>\n    </tr>\n    <tr>\n      <th>3</th>\n      <td>20191102</td>\n      <td>www.reddit.com</td>\n      <td>https://www.reddit.com/r/golf/</td>\n      <td>Golf Press J to jump to the feed. Press questi...</td>\n    </tr>\n    <tr>\n      <th>4</th>\n      <td>20191024</td>\n      <td>www.pressofatlanticcity.com</td>\n      <td>https://www.pressofatlanticcity.com/news/galle...</td>\n      <td>GALLERY: Galloway Township National Night Out ...</td>\n    </tr>\n    <tr>\n      <th>6</th>\n      <td>20191025</td>\n      <td>www.facebook.com</td>\n      <td>https://www.facebook.com/login/?next=https%3A%...</td>\n      <td>Log into Facebook  Facebook Jump to Sections o...</td>\n    </tr>\n    <tr>\n      <th>...</th>\n      <td>...</td>\n      <td>...</td>\n      <td>...</td>\n      <td>...</td>\n    </tr>\n    <tr>\n      <th>9995</th>\n      <td>20191112</td>\n      <td>www.facebook.com</td>\n      <td>https://www.facebook.com/ajax/sharer/?s=18&amp;app...</td>\n      <td>Facebook Jump to Sections of this page Accessi...</td>\n    </tr>\n    <tr>\n      <th>9996</th>\n      <td>20191008</td>\n      <td>thesunpapers.com</td>\n      <td>https://thesunpapers.com/c/deptford-letters/</td>\n      <td>Deptford Letters &amp; Opinions Archives - The Sun...</td>\n    </tr>\n    <tr>\n      <th>9997</th>\n      <td>20191020</td>\n      <td>www.supermotoland.com</td>\n      <td>http://www.supermotoland.com/how-to-back-a-mot...</td>\n      <td>HOW TO BACK A MOTORCYCLE INTO A CORNER. Tel: +...</td>\n    </tr>\n    <tr>\n      <th>9998</th>\n      <td>20191013</td>\n      <td>twitter.com</td>\n      <td>https://twitter.com/nfl/status/118246869742571...</td>\n      <td>NFL på Twitter: .@Daniel_Jones10 throws a dime...</td>\n    </tr>\n    <tr>\n      <th>9999</th>\n      <td>20191102</td>\n      <td>www.pinterest.com</td>\n      <td>https://www.pinterest.com/italienguurl/grunge-...</td>\n      <td>421 Best Grunge HairStyles images in 2019  Hai...</td>\n    </tr>\n  </tbody>\n</table>\n<p>9706 rows × 4 columns</p>\n</div>"
     },
     "metadata": {}
    }
   ],
   "source": [
    "display(cleaned)"
   ]
  }
 ]
}